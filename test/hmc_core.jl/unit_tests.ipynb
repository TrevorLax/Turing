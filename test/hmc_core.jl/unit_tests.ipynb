{
 "cells": [
  {
   "cell_type": "code",
   "execution_count": 1,
   "metadata": {},
   "outputs": [
    {
     "name": "stdout",
     "output_type": "stream",
     "text": [
      "[Turing]: AD chunk size is set as 40\n"
     ]
    },
    {
     "name": "stderr",
     "output_type": "stream",
     "text": [
      "WARNING: ignoring conflicting import of ReverseDiff.gradient into Turing\n",
      "WARNING: Method definition produce(Any) in module Base at deprecated.jl:909 overwritten in module Traces at /Users/kai/.julia/v0.6/Turing/src/trace/taskcopy.jl:45.\n",
      "WARNING: Method definition consume(Task, Any...) in module Base at deprecated.jl:955 overwritten in module Traces at /Users/kai/.julia/v0.6/Turing/src/trace/taskcopy.jl:90.\n"
     ]
    }
   ],
   "source": [
    "using Distributions, DiffBase\n",
    "using ReverseDiff: GradientTape, GradientConfig, gradient, gradient!, compile\n",
    "using Turing: _hmc_step"
   ]
  },
  {
   "cell_type": "code",
   "execution_count": 2,
   "metadata": {},
   "outputs": [
    {
     "name": "stdout",
     "output_type": "stream",
     "text": [
      "(mean(chn), lj) = ([1.47888], -5.070614428936219)\n",
      "accept_num / totla_num = 1.0002\n"
     ]
    },
    {
     "data": {
      "text/plain": [
       "1.0002"
      ]
     },
     "execution_count": 2,
     "metadata": {},
     "output_type": "execute_result"
    }
   ],
   "source": [
    "θ_dim = 1\n",
    "\n",
    "function lj_func(θ)\n",
    "  _lj = zero(Real)\n",
    "  \n",
    "  s = 1\n",
    "\n",
    "  m = θ[1]\n",
    "  _lj += logpdf(Normal(0, sqrt(s)), m)\n",
    "\n",
    "  _lj += logpdf(Normal(m, sqrt(s)), 2.0)\n",
    "  _lj += logpdf(Normal(m, sqrt(s)), 2.5)\n",
    "\n",
    "  return _lj\n",
    "end\n",
    "\n",
    "neg_lj_func(θ) = -lj_func(θ)\n",
    "const f_tape = GradientTape(neg_lj_func, randn(θ_dim))\n",
    "const compiled_f_tape = compile(f_tape)\n",
    "\n",
    "function grad_func(θ)\n",
    "    \n",
    "  inputs = θ\n",
    "  results = similar(θ)\n",
    "  all_results = DiffResults.GradientResult(results)\n",
    "\n",
    "  gradient!(all_results, compiled_f_tape, inputs)\n",
    "\n",
    "  neg_lj = all_results.value\n",
    "  grad, = all_results.derivs\n",
    "\n",
    "  return -neg_lj, grad\n",
    "\n",
    "end\n",
    "\n",
    "stds = ones(θ_dim)\n",
    "θ = randn(θ_dim)\n",
    "lj = lj_func(θ)\n",
    "\n",
    "chn = []\n",
    "accept_num = 1\n",
    "\n",
    "function dummy_print(args...)\n",
    "  nothing\n",
    "end\n",
    "\n",
    "totla_num = 5000\n",
    "for iter = 1:totla_num\n",
    "    \n",
    "  push!(chn, θ)\n",
    "  θ, lj, is_accept, τ_valid, α = _hmc_step(θ, lj, lj_func, grad_func, 5, 0.05, stds; dprint=dummy_print)\n",
    "  accept_num += is_accept\n",
    "\n",
    "end\n",
    "\n",
    "@show mean(chn), lj\n",
    "@show accept_num / totla_num"
   ]
  },
  {
   "cell_type": "code",
   "execution_count": 3,
   "metadata": {},
   "outputs": [],
   "source": [
    "using Turing"
   ]
  },
  {
   "cell_type": "code",
   "execution_count": 4,
   "metadata": {},
   "outputs": [
    {
     "name": "stdout",
     "output_type": "stream",
     "text": [
      "[Turing]:  Assume - `m` is a parameter\n",
      " @~(::ANY, ::ANY) at compiler.jl:76\n"
     ]
    },
    {
     "name": "stderr",
     "output_type": "stream",
     "text": [
      "\u001b[32m[HMC] Sampling...  0%  ETA: 2:33:34\u001b[39m\u001b[34m\n",
      "  ϵ:         0.05\u001b[39m\u001b[34m\n",
      "  α:         1.0\u001b[39m"
     ]
    },
    {
     "name": "stdout",
     "output_type": "stream",
     "text": [
      "[HMC] Finished with\n",
      "  Running time        = 5.263474241999997;\n",
      "  Accept rate         = 0.999;\n",
      "  #lf / sample        = 4.9975;\n",
      "  #evals / sample     = 1.0005;\n",
      "  pre-cond. diag mat  = [1.0].\n"
     ]
    },
    {
     "name": "stderr",
     "output_type": "stream",
     "text": [
      "\u001b[34m\n",
      "  pre_cond:  [1.0]\u001b[39m\r",
      "\u001b[K\u001b[A\r",
      "\u001b[K\u001b[A\r",
      "\u001b[K\u001b[A\r",
      "\u001b[32m[HMC] Sampling...100% Time: 0:00:06\u001b[39m\n"
     ]
    },
    {
     "name": "stdout",
     "output_type": "stream",
     "text": [
      "mean of m: 1.504830400164147\n"
     ]
    }
   ],
   "source": [
    "@model simple_gauss() = begin\n",
    "    s = 1\n",
    "    m ~ Normal(0,sqrt(s))\n",
    "    2.0 ~ Normal(m, sqrt(s))\n",
    "    2.5 ~ Normal(m, sqrt(s))\n",
    "end\n",
    "\n",
    "mf = simple_gauss()\n",
    "chn = sample(mf, HMC(2000, 0.05, 5))\n",
    "\n",
    "println(\"mean of m: $(mean(chn[:m][1000:end]))\")"
   ]
  },
  {
   "cell_type": "code",
   "execution_count": 12,
   "metadata": {},
   "outputs": [],
   "source": [
    "using Base.Test"
   ]
  },
  {
   "cell_type": "code",
   "execution_count": 17,
   "metadata": {},
   "outputs": [
    {
     "data": {
      "text/plain": [
       "test_grad (generic function with 1 method)"
      ]
     },
     "execution_count": 17,
     "metadata": {},
     "output_type": "execute_result"
    }
   ],
   "source": [
    "function test_grad(model_f, grad_func)\n",
    "    vi = mf()\n",
    "    d = length(vi.vals)\n",
    "    @testset \"Gradient using random inputs\" begin\n",
    "        for _ = 1:10000\n",
    "            theta = rand(d)\n",
    "            @test Turing.gradient_r(theta, vi, mf) == grad_func(theta)[2]\n",
    "        end\n",
    "    end\n",
    "end"
   ]
  },
  {
   "cell_type": "code",
   "execution_count": 18,
   "metadata": {},
   "outputs": [
    {
     "name": "stdout",
     "output_type": "stream",
     "text": [
      "\u001b[1m\u001b[37mTest Summary:                                | \u001b[39m\u001b[22m\u001b[1m\u001b[32m Pass  \u001b[39m\u001b[22m\u001b[1m\u001b[36mTotal\u001b[39m\u001b[22m\n",
      "Unit test for gradient based on random input | \u001b[32m10000  \u001b[39m\u001b[36m10000\u001b[39m\n"
     ]
    },
    {
     "data": {
      "text/plain": [
       "Base.Test.DefaultTestSet(\"Unit test for gradient based on random input\", Any[], 10000, false)"
      ]
     },
     "execution_count": 18,
     "metadata": {},
     "output_type": "execute_result"
    }
   ],
   "source": [
    "test_grad(mf, grad_func)"
   ]
  },
  {
   "cell_type": "code",
   "execution_count": null,
   "metadata": {},
   "outputs": [],
   "source": []
  }
 ],
 "metadata": {
  "kernelspec": {
   "display_name": "Julia 0.6.2",
   "language": "julia",
   "name": "julia-0.6"
  },
  "language_info": {
   "file_extension": ".jl",
   "mimetype": "application/julia",
   "name": "julia",
   "version": "0.6.2"
  }
 },
 "nbformat": 4,
 "nbformat_minor": 2
}
