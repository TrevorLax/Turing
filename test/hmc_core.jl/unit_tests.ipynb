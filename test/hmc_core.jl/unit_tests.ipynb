{
 "cells": [
  {
   "cell_type": "code",
   "execution_count": 9,
   "metadata": {},
   "outputs": [],
   "source": [
    "using Turing: _leapfrog\n",
    "using Main.Test"
   ]
  },
  {
   "cell_type": "code",
   "execution_count": 11,
   "metadata": {},
   "outputs": [
    {
     "data": {
      "text/plain": [
       "2-element Array{Float64,1}:\n",
       " 0.626509\n",
       " 0.566136"
      ]
     },
     "execution_count": 11,
     "metadata": {},
     "output_type": "execute_result"
    }
   ],
   "source": [
    "# _leapfrog(θ::T, p::Vector{Float64}, τ::Int, ϵ::Float64, lp_grad_func::Function)\n",
    "\n",
    "lp_grad_func(x) = nothing, x\n",
    "\n",
    "step_size = 0.1\n",
    "\n",
    "theta_0 = rand(2)\n",
    "p_0 = rand(2)"
   ]
  },
  {
   "cell_type": "code",
   "execution_count": 12,
   "metadata": {},
   "outputs": [
    {
     "data": {
      "text/plain": [
       "([0.241253, 0.951054], [0.605472, 0.473637], 1)"
      ]
     },
     "execution_count": 12,
     "metadata": {},
     "output_type": "execute_result"
    }
   ],
   "source": [
    "theta_1, p_1, _ = _leapfrog(theta_0, p_0, 1, step_size, lp_grad_func)"
   ]
  },
  {
   "cell_type": "code",
   "execution_count": 13,
   "metadata": {},
   "outputs": [
    {
     "data": {
      "text/plain": [
       "([0.300594, 0.993662], [0.578379, 0.376401], 1)"
      ]
     },
     "execution_count": 13,
     "metadata": {},
     "output_type": "execute_result"
    }
   ],
   "source": [
    "theta_2, p_2, _ = _leapfrog(theta_1, p_1, 1, step_size, lp_grad_func)"
   ]
  },
  {
   "cell_type": "code",
   "execution_count": 14,
   "metadata": {},
   "outputs": [
    {
     "data": {
      "text/plain": [
       "([0.300594, 0.993662], [0.578379, 0.376401], 2)"
      ]
     },
     "execution_count": 14,
     "metadata": {},
     "output_type": "execute_result"
    }
   ],
   "source": [
    "theta_2_one_call, p_2_one_call, _ = _leapfrog(theta_0, p_0, 2, step_size, lp_grad_func)"
   ]
  },
  {
   "cell_type": "code",
   "execution_count": 15,
   "metadata": {},
   "outputs": [
    {
     "data": {
      "text/plain": [
       "\u001b[1m\u001b[32mTest Passed\u001b[39m\u001b[22m"
      ]
     },
     "execution_count": 15,
     "metadata": {},
     "output_type": "execute_result"
    }
   ],
   "source": [
    "@test theta_2 == theta_2_one_call\n",
    "@test p_2 == p_2_one_call"
   ]
  },
  {
   "cell_type": "code",
   "execution_count": null,
   "metadata": {
    "collapsed": true
   },
   "outputs": [],
   "source": [
    "# function _leapfrog(θ::T, p::Vector{Float64}, τ::Int, ϵ::Float64, lp_grad_func::Function;\n",
    "#                    rev_func=nothing, log_func=nothing) where {T<:Union{Vector,SubArray}}\n",
    "\n",
    "#   old_logp, grad = lp_grad_func(θ)\n",
    "#   verifygrad(grad) || (return θ, p, 0)\n",
    "\n",
    "#   τ_valid = 0\n",
    "#   for t in 1:τ\n",
    "#     # NOTE: we dont need copy here becase arr += another_arr\n",
    "#     #       doesn't change arr in-place\n",
    "#     p_old = p; θ_old = copy(θ)\n",
    "\n",
    "#     p -= ϵ .* grad / 2\n",
    "#     θ += ϵ .* p  # full step for state\n",
    "\n",
    "#     if log_func != nothing log_func() end\n",
    "\n",
    "#     old_logp, grad = lp_grad_func(θ)\n",
    "#     if ~verifygrad(grad)\n",
    "#       if rev_func != nothing rev_func(θ_old, old_logp) end\n",
    "#       θ = θ_old; p = p_old; break\n",
    "#     end\n",
    "\n",
    "#     p -= ϵ * grad / 2\n",
    "\n",
    "#     τ_valid += 1\n",
    "#   end\n",
    "\n",
    "#   θ, p, τ_valid\n",
    "# end"
   ]
  },
  {
   "cell_type": "code",
   "execution_count": 19,
   "metadata": {},
   "outputs": [
    {
     "data": {
      "text/plain": [
       "2-element Array{Float64,1}:\n",
       " 0.357596\n",
       " 0.81401 "
      ]
     },
     "execution_count": 19,
     "metadata": {},
     "output_type": "execute_result"
    }
   ],
   "source": [
    "theta = rand(2)\n",
    "p = rand(2)\n",
    "\n",
    "theta_turing, p_turing, _ = _leapfrog(theta, p, 1, step_size, lp_grad_func)\n",
    "\n",
    "p -= step_size .* lp_grad_func(theta)[2] / 2\n",
    "theta += step_size .* p\n",
    "p -= step_size .* lp_grad_func(theta)[2] / 2"
   ]
  },
  {
   "cell_type": "code",
   "execution_count": null,
   "metadata": {
    "collapsed": true
   },
   "outputs": [],
   "source": []
  },
  {
   "cell_type": "code",
   "execution_count": null,
   "metadata": {
    "collapsed": true
   },
   "outputs": [],
   "source": []
  },
  {
   "cell_type": "code",
   "execution_count": null,
   "metadata": {
    "collapsed": true
   },
   "outputs": [],
   "source": []
  },
  {
   "cell_type": "code",
   "execution_count": null,
   "metadata": {
    "collapsed": true
   },
   "outputs": [],
   "source": []
  },
  {
   "cell_type": "code",
   "execution_count": null,
   "metadata": {
    "collapsed": true
   },
   "outputs": [],
   "source": []
  },
  {
   "cell_type": "code",
   "execution_count": 2,
   "metadata": {
    "collapsed": true
   },
   "outputs": [],
   "source": [
    "using Plots"
   ]
  },
  {
   "cell_type": "code",
   "execution_count": 3,
   "metadata": {
    "collapsed": true
   },
   "outputs": [],
   "source": [
    "using JLD"
   ]
  },
  {
   "cell_type": "code",
   "execution_count": 4,
   "metadata": {},
   "outputs": [
    {
     "data": {
      "text/plain": [
       "Dict{String,Any} with 9 entries:\n",
       "  \"w\"     => [3, 1, 7, 1, 3, 2, 3, 2, 2, 2  …  4, 6, 5, 8, 4, 3, 3, 5, 4, 5]\n",
       "  \"M\"     => 50\n",
       "  \"N\"     => 755\n",
       "  \"doc\"   => [1, 1, 1, 1, 1, 1, 1, 1, 1, 1  …  50, 50, 50, 50, 50, 50, 50, 50, …\n",
       "  \"V\"     => 10\n",
       "  \"α\"     => [0.25, 0.25, 0.25, 0.25]\n",
       "  \"K\"     => 4\n",
       "  \"words\" => String[\"river\", \"stream\", \"bank\", \"money\", \"loan\", \"bayes\", \"gauss…\n",
       "  \"β\"     => [0.1, 0.1, 0.1, 0.1, 0.1, 0.1, 0.1, 0.1, 0.1, 0.1]"
      ]
     },
     "execution_count": 4,
     "metadata": {},
     "output_type": "execute_result"
    }
   ],
   "source": [
    "lda_data = load(\"/Users/kai/projects/Turing/TuringDemo.jl/video/lda-data.jld\")[\"data\"]"
   ]
  },
  {
   "cell_type": "code",
   "execution_count": 13,
   "metadata": {},
   "outputs": [
    {
     "data": {
      "text/plain": [
       "ldamodel (generic function with 9 methods)"
      ]
     },
     "execution_count": 13,
     "metadata": {},
     "output_type": "execute_result"
    }
   ],
   "source": [
    "@model ldamodel(K, V, M, N, w, doc, β, α) = begin\n",
    "  theta = Vector{Vector{Real}}(M)\n",
    "  @simd for m = 1:M\n",
    "    @inbounds theta[m] ~ Dirichlet(α)\n",
    "  end\n",
    "\n",
    "  phi = Vector{Vector{Real}}(K)\n",
    "  @simd for k = 1:K\n",
    "    @inbounds phi[k] ~ Dirichlet(β)\n",
    "  end\n",
    "\n",
    "  phi_dot_theta = log.(hcat(phi...) * hcat(theta...))\n",
    "  _lp += mapreduce(n->phi_dot_theta[w[n], doc[n]], +, 1:N)\n",
    "\n",
    "end"
   ]
  },
  {
   "cell_type": "code",
   "execution_count": 15,
   "metadata": {},
   "outputs": [
    {
     "name": "stdout",
     "output_type": "stream",
     "text": [
      "[Turing]:  Assume - `theta` is a parameter\n",
      " @~(::ANY, ::ANY) at compiler.jl:76\n",
      "[Turing]:  Assume - `phi` is a parameter\n",
      " @~(::ANY, ::ANY) at compiler.jl:76\n",
      "[Turing] looking for good initial eps...\n",
      "[Turing.NUTS] found initial ϵ: 0.1\n"
     ]
    },
    {
     "name": "stderr",
     "output_type": "stream",
     "text": [
      "\u001b[32m[NUTS] Sampling...  0%  ETA: 0:28:13\u001b[39m\u001b[34m\n",
      "  ϵ:         0.1\u001b[39m\u001b[34m\n",
      "\u001b[32m[NUTS] Sampling...  1%  ETA: 0:08:18\u001b[39m\u001b[34m\n",
      "  ϵ:         0.08497080900567489\u001b[39m\u001b[34m\n",
      "\u001b[32m[NUTS] Sampling...  1%  ETA: 0:16:00\u001b[39m\u001b[34m\n",
      "  ϵ:         0.22762790113051765\u001b[39m\u001b[34m\n",
      "\u001b[32m[NUTS] Sampling...  1%  ETA: 0:11:08\u001b[39m\u001b[34m\n",
      "  ϵ:         0.05731159840519266\u001b[39m\u001b[34m\n",
      "\u001b[32m[NUTS] Sampling...  2%  ETA: 0:10:03\u001b[39m\u001b[34m\n",
      "  ϵ:         0.06786248784366944\u001b[39m\u001b[34m\n",
      "\u001b[32m[NUTS] Sampling...  2%  ETA: 0:09:07\u001b[39m\u001b[34m\n",
      "  ϵ:         0.1981130965098181\u001b[39m\u001b[34m\n",
      "\u001b[32m[NUTS] Sampling...  2%  ETA: 0:08:23\u001b[39m\u001b[34m\n",
      "  ϵ:         0.13513091122810117\u001b[39m\u001b[34m\n",
      "\u001b[32m[NUTS] Sampling...  3%  ETA: 0:08:06\u001b[39m\u001b[34m\n",
      "  ϵ:         0.17626741325357725\u001b[39m\u001b[34m\n",
      "  pre_cond:  [1.0, 1.0, 1.0, 1.0, 1.0, 1.0,...\u001b[39m"
     ]
    },
    {
     "name": "stdout",
     "output_type": "stream",
     "text": [
      "\u001b[31m\r",
      "[Turing.WARNING]: Numerical error has been found in gradients.\n",
      " verifygrad(::Array{Float64,1}) at ad.jl:87\n",
      "\u001b[39m\u001b[31m\r",
      "[Turing.WARNING]: Numerical error has been found in gradients.\n",
      " verifygrad(::Array{Float64,1}) at ad.jl:87\n",
      "\u001b[39m"
     ]
    },
    {
     "name": "stderr",
     "output_type": "stream",
     "text": [
      "\r",
      "\u001b[K\u001b[A\r",
      "\u001b[K\u001b[A\r",
      "\u001b[32m[NUTS] Sampling...  3%  ETA: 0:07:37\u001b[39m\u001b[34m\n",
      "  ϵ:         0.18234716208020746\u001b[39m\u001b[34m\n",
      "  pre_cond:  [1.0, 1.0, 1.0, 1.0, 1.0, 1.0,...\u001b[39m"
     ]
    },
    {
     "name": "stdout",
     "output_type": "stream",
     "text": [
      "\u001b[31m\r",
      "[Turing.WARNING]: Numerical error has been found in gradients.\n",
      " verifygrad(::Array{Float64,1}) at ad.jl:87\n",
      "\u001b[39m"
     ]
    },
    {
     "name": "stderr",
     "output_type": "stream",
     "text": [
      "\u001b[32m[NUTS] Sampling...  3%  ETA: 0:07:18\u001b[39m\u001b[34m\n",
      "  ϵ:         0.07328785284877268\u001b[39m\u001b[34m\n",
      "\u001b[32m[NUTS] Sampling...  4%  ETA: 0:07:04\u001b[39m\u001b[34m\n",
      "  ϵ:         0.06475754053308465\u001b[39m\u001b[34m\n",
      "\u001b[32m[NUTS] Sampling...  4%  ETA: 0:06:46\u001b[39m\u001b[34m\n",
      "  ϵ:         0.07273163576508862\u001b[39m\u001b[34m\n",
      "\u001b[32m[NUTS] Sampling...  5%  ETA: 0:06:32\u001b[39m\u001b[34m\n",
      "  ϵ:         0.19172365290176202\u001b[39m\u001b[34m\n",
      "\u001b[32m[NUTS] Sampling...  5%  ETA: 0:06:29\u001b[39m\u001b[34m\n",
      "  ϵ:         0.11982815485463809\u001b[39m\u001b[34m\n",
      "\u001b[32m[NUTS] Sampling...  5%  ETA: 0:06:25\u001b[39m\u001b[34m\n",
      "  ϵ:         0.09979163746457087\u001b[39m\u001b[34m\n",
      "\u001b[32m[NUTS] Sampling...  6%  ETA: 0:06:14\u001b[39m\u001b[34m\n",
      "  ϵ:         0.17503627488590526\u001b[39m\u001b[34m\n",
      "\u001b[32m[NUTS] Sampling...  6%  ETA: 0:06:03\u001b[39m\u001b[34m\n",
      "  ϵ:         0.20199830007552944\u001b[39m\u001b[34m\n",
      "  pre_cond:  [1.0, 1.0, 1.0, 1.0, 1.0, 1.0,...\u001b[39m"
     ]
    },
    {
     "name": "stdout",
     "output_type": "stream",
     "text": [
      "\u001b[31m\r",
      "[Turing.WARNING]: Numerical error has been found in gradients.\n",
      " verifygrad(::Array{Float64,1}) at ad.jl:87\n",
      "\u001b[39m\u001b[31m\r",
      "[Turing.WARNING]: Numerical error has been found in gradients.\n",
      " verifygrad(::Array{Float64,1}) at ad.jl:87\n",
      "\u001b[39m"
     ]
    },
    {
     "name": "stderr",
     "output_type": "stream",
     "text": [
      "\r",
      "\u001b[K\u001b[A\r",
      "\u001b[K\u001b[A\r",
      "\u001b[32m[NUTS] Sampling...  6%  ETA: 0:06:22\u001b[39m\u001b[34m\n",
      "  ϵ:         0.15263593974130424\u001b[39m\u001b[34m\n",
      "  pre_cond:  [1.0, 1.0, 1.0, 1.0, 1.0, 1.0,...\u001b[39m"
     ]
    },
    {
     "name": "stdout",
     "output_type": "stream",
     "text": [
      "\u001b[31m\r",
      "[Turing.WARNING]: Numerical error has been found in gradients.\n",
      " verifygrad(::Array{Float64,1}) at ad.jl:87\n",
      "\u001b[39m"
     ]
    },
    {
     "name": "stderr",
     "output_type": "stream",
     "text": [
      "\u001b[32m[NUTS] Sampling...  7%  ETA: 0:06:19\u001b[39m\u001b[34m\n",
      "  ϵ:         0.14010739656222654\u001b[39m\u001b[34m\n",
      "\u001b[32m[NUTS] Sampling...  7%  ETA: 0:06:11\u001b[39m\u001b[34m\n",
      "  ϵ:         0.16376563977466743\u001b[39m\u001b[34m\n",
      "\u001b[32m[NUTS] Sampling...  7%  ETA: 0:06:07\u001b[39m\u001b[34m\n",
      "  ϵ:         0.16068946647648394\u001b[39m\u001b[34m\n",
      "\u001b[32m[NUTS] Sampling...  8%  ETA: 0:06:05\u001b[39m\u001b[34m\n",
      "  ϵ:         0.20900128748556343\u001b[39m\u001b[34m\n",
      "\u001b[32m[NUTS] Sampling...  8%  ETA: 0:06:00\u001b[39m\u001b[34m\n",
      "  ϵ:         0.08684669689366473\u001b[39m\u001b[34m\n",
      "\u001b[32m[NUTS] Sampling...  8%  ETA: 0:05:59\u001b[39m\u001b[34m\n",
      "  ϵ:         0.17851084453447003\u001b[39m\u001b[34m\n",
      "  pre_cond:  [1.0, 1.0, 1.0, 1.0, 1.0, 1.0,...\u001b[39m"
     ]
    },
    {
     "name": "stdout",
     "output_type": "stream",
     "text": [
      "\u001b[31m\r",
      "[Turing.WARNING]: Numerical error has been found in gradients.\n",
      " verifygrad(::Array{Float64,1}) at ad.jl:87\n",
      "\u001b[39m"
     ]
    },
    {
     "name": "stderr",
     "output_type": "stream",
     "text": [
      "\u001b[32m[NUTS] Sampling...  9%  ETA: 0:05:54\u001b[39m\u001b[34m\n",
      "  ϵ:         0.2239121913316093\u001b[39m\u001b[34m\n",
      "\u001b[32m[NUTS] Sampling...  9%  ETA: 0:05:52\u001b[39m\u001b[34m\n",
      "  ϵ:         0.17628729424380063\u001b[39m\u001b[34m\n",
      "\u001b[32m[NUTS] Sampling...  9%  ETA: 0:05:49\u001b[39m\u001b[34m\n",
      "  ϵ:         0.20201827540952175\u001b[39m\u001b[34m\n",
      "\u001b[32m[NUTS] Sampling... 10%  ETA: 0:05:47\u001b[39m\u001b[34m\n",
      "  ϵ:         0.13330594676308302\u001b[39m\u001b[34m\n",
      "\u001b[32m[NUTS] Sampling... 10%  ETA: 0:05:47\u001b[39m\u001b[34m\n",
      "  ϵ:         0.1620423532278023\u001b[39m\u001b[34m\n",
      "\u001b[32m[NUTS] Sampling... 10%  ETA: 0:05:43\u001b[39m\u001b[34m\n",
      "  ϵ:         0.1429379040445255\u001b[39m\u001b[34m\n",
      "  pre_cond:  [1.39536, 2.42334, 3.25132, 5....\u001b[39m"
     ]
    },
    {
     "name": "stdout",
     "output_type": "stream",
     "text": [
      "\u001b[31m\r",
      "[Turing.WARNING]: Incorrect ϵ = 0.0003710801599505799; ϵ_previous = 0.0020664307447429645 is used instead.\n",
      " adapt_step_size!(::Turing.WarmUpManager, ::Float64) at adapt.jl:111\n",
      "\u001b[39m\u001b[31m\r",
      "[Turing.WARNING]: Incorrect ϵ = 0.0001621302549819281; ϵ_previous = 0.0020664307447429645 is used instead.\n",
      " adapt_step_size!(::Turing.WarmUpManager, ::Float64) at adapt.jl:111\n",
      "\u001b[39m"
     ]
    },
    {
     "name": "stderr",
     "output_type": "stream",
     "text": [
      "\r",
      "\u001b[K\u001b[A\r",
      "\u001b[K\u001b[A\r",
      "\u001b[32m[NUTS] Sampling... 11%  ETA: 0:05:41\u001b[39m\u001b[34m\n",
      "  ϵ:         0.0020664307447429645\u001b[39m\u001b[34m\n",
      "  pre_cond:  [1.39536, 2.42334, 3.25132, 5....\u001b[39m"
     ]
    },
    {
     "name": "stdout",
     "output_type": "stream",
     "text": [
      "[Turing.WARNING]: Incorrect ϵ = 0.0001132136294463734; ϵ_previous = 0.0020664307447429645 is used instead.\n",
      " adapt_step_size!(::Turing.WarmUpManager, ::Float64) at adapt.jl:111\n",
      "[Turing.WARNING]: Incorrect ϵ = 0.0004137169315225079; ϵ_previous = 0.0020664307447429645 is used instead.\n",
      " adapt_step_size!(::Turing.WarmUpManager, ::Float64) at adapt.jl:111\n",
      "[Turing.WARNING]: Incorrect ϵ = 5.092171865066325e-5; ϵ_previous = 0.0020664307447429645 is used instead.\n",
      " adapt_step_size!(::Turing.WarmUpManager, ::Float64) at adapt.jl:111\n",
      "\u001b[39m"
     ]
    },
    {
     "name": "stderr",
     "output_type": "stream",
     "text": [
      "\r",
      "\u001b[K\u001b[A\r",
      "\u001b[K\u001b[A\r",
      "\u001b[32m[NUTS] Sampling... 11%  ETA: 0:05:39\u001b[39m\u001b[34m\n",
      "  ϵ:         0.0020664307447429645\u001b[39m\u001b[34m\n",
      "  pre_cond:  [1.39536, 2.42334, 3.25132, 5....\u001b[39m"
     ]
    },
    {
     "name": "stdout",
     "output_type": "stream",
     "text": [
      "\u001b[31m\r",
      "[Turing.WARNING]: Incorrect ϵ = 0.0008189952740758584; ϵ_previous = 0.0020664307447429645 is used instead.\n",
      " adapt_step_size!(::Turing.WarmUpManager, ::Float64) at adapt.jl:111\n",
      "\u001b[39m\u001b[31m\r",
      "[Turing.WARNING]: Incorrect ϵ = 0.000576534607412043; ϵ_previous = 0.0020664307447429645 is used instead.\n",
      " adapt_step_size!(::Turing.WarmUpManager, ::Float64) at adapt.jl:111\n",
      "\u001b[39m\u001b[31m\r",
      "[Turing.WARNING]: Incorrect ϵ = 1.888028533757736e-5; ϵ_previous = 0.0020664307447429645 is used instead.\n",
      " adapt_step_size!(::Turing.WarmUpManager, ::Float64) at adapt.jl:111\n",
      "\u001b[39m"
     ]
    },
    {
     "name": "stderr",
     "output_type": "stream",
     "text": [
      "\r",
      "\u001b[K\u001b[A\r",
      "\u001b[K\u001b[A\r",
      "\u001b[32m[NUTS] Sampling... 11%  ETA: 0:05:37\u001b[39m\u001b[34m\n",
      "  ϵ:         0.0020664307447429645\u001b[39m\u001b[34m\n",
      "  pre_cond:  [1.39536, 2.42334, 3.25132, 5....\u001b[39m"
     ]
    },
    {
     "name": "stdout",
     "output_type": "stream",
     "text": [
      "\u001b[31m\r",
      "[Turing.WARNING]: Incorrect ϵ = 2.1044241603109386e-5; ϵ_previous = 0.0020664307447429645 is used instead.\n",
      " adapt_step_size!(::Turing.WarmUpManager, ::Float64) at adapt.jl:111\n",
      "\u001b[39m\u001b[31m\r",
      "[Turing.WARNING]: Incorrect ϵ = 0.00021395381941098193; ϵ_previous = 0.0020664307447429645 is used instead.\n",
      " adapt_step_size!(::Turing.WarmUpManager, ::Float64) at adapt.jl:111\n",
      "\u001b[39m\u001b[31m\r",
      "[Turing.WARNING]: Incorrect ϵ = 0.00015654995314120094; ϵ_previous = 0.0020664307447429645 is used instead.\n",
      " adapt_step_size!(::Turing.WarmUpManager, ::Float64) at adapt.jl:111\n",
      "\u001b[39m"
     ]
    },
    {
     "name": "stderr",
     "output_type": "stream",
     "text": [
      "\r",
      "\u001b[K\u001b[A\r",
      "\u001b[K\u001b[A\r",
      "\u001b[32m[NUTS] Sampling... 12%  ETA: 0:05:36\u001b[39m\u001b[34m\n",
      "  ϵ:         0.0020664307447429645\u001b[39m\u001b[34m\n",
      "  pre_cond:  [1.39536, 2.42334, 3.25132, 5....\u001b[39m"
     ]
    },
    {
     "name": "stdout",
     "output_type": "stream",
     "text": [
      "\u001b[31m\r",
      "[Turing.WARNING]: Incorrect ϵ = 6.3212217336752704e-6; ϵ_previous = 0.0020664307447429645 is used instead.\n",
      " adapt_step_size!(::Turing.WarmUpManager, ::Float64) at adapt.jl:111\n",
      "\u001b[39m\u001b[31m\r",
      "[Turing.WARNING]: Incorrect ϵ = 7.714240054436322e-6; ϵ_previous = 0.0020664307447429645 is used instead.\n",
      " adapt_step_size!(::Turing.WarmUpManager, ::Float64) at adapt.jl:111\n",
      "\u001b[39m\u001b[31m\r",
      "[Turing.WARNING]: Incorrect ϵ = 6.419225218137516e-5; ϵ_previous = 0.0020664307447429645 is used instead.\n",
      " adapt_step_size!(::Turing.WarmUpManager, ::Float64) at adapt.jl:111\n",
      "\u001b[39m"
     ]
    },
    {
     "name": "stderr",
     "output_type": "stream",
     "text": [
      "\r",
      "\u001b[K\u001b[A\r",
      "\u001b[K\u001b[A\r",
      "\u001b[32m[NUTS] Sampling... 12%  ETA: 0:05:34\u001b[39m\u001b[34m\n",
      "  ϵ:         0.0020664307447429645\u001b[39m\u001b[34m\n",
      "  pre_cond:  [1.39536, 2.42334, 3.25132, 5....\u001b[39m"
     ]
    },
    {
     "name": "stdout",
     "output_type": "stream",
     "text": [
      "\u001b[31m\r",
      "[Turing.WARNING]: Incorrect ϵ = 2.6179776712229854e-6; ϵ_previous = 0.0020664307447429645 is used instead.\n",
      " adapt_step_size!(::Turing.WarmUpManager, ::Float64) at adapt.jl:111\n",
      "\u001b[39m\u001b[31m\r",
      "[Turing.WARNING]: Incorrect ϵ = 3.6632152941005446e-5; ϵ_previous = 0.0020664307447429645 is used instead.\n",
      " adapt_step_size!(::Turing.WarmUpManager, ::Float64) at adapt.jl:111\n",
      "\u001b[39m\u001b[31m\r",
      "[Turing.WARNING]: Incorrect ϵ = 2.7918470282083244e-5; ϵ_previous = 0.0020664307447429645 is used instead.\n",
      " adapt_step_size!(::Turing.WarmUpManager, ::Float64) at adapt.jl:111\n",
      "\u001b[39m"
     ]
    },
    {
     "name": "stderr",
     "output_type": "stream",
     "text": [
      "\r",
      "\u001b[K\u001b[A\r",
      "\u001b[K\u001b[A\r",
      "\u001b[32m[NUTS] Sampling... 12%  ETA: 0:05:33\u001b[39m\u001b[34m\n",
      "  ϵ:         0.0020664307447429645\u001b[39m\u001b[34m\n",
      "  pre_cond:  [1.39536, 2.42334, 3.25132, 5....\u001b[39m"
     ]
    },
    {
     "name": "stdout",
     "output_type": "stream",
     "text": [
      "\u001b[31m\r",
      "[Turing.WARNING]: Incorrect ϵ = 1.2416681407988359e-6; ϵ_previous = 0.0020664307447429645 is used instead.\n",
      " adapt_step_size!(::Turing.WarmUpManager, ::Float64) at adapt.jl:111\n",
      "\u001b[39m\u001b[31m\r",
      "[Turing.WARNING]: Incorrect ϵ = 1.64789752390432e-5; ϵ_previous = 0.0020664307447429645 is used instead.\n",
      " adapt_step_size!(::Turing.WarmUpManager, ::Float64) at adapt.jl:111\n",
      "\u001b[39m\u001b[31m\r",
      "[Turing.WARNING]: Incorrect ϵ = 9.22018097849204e-7; ϵ_previous = 0.0020664307447429645 is used instead.\n",
      " adapt_step_size!(::Turing.WarmUpManager, ::Float64) at adapt.jl:111\n",
      "\u001b[39m"
     ]
    },
    {
     "name": "stderr",
     "output_type": "stream",
     "text": [
      "\r",
      "\u001b[K\u001b[A\r",
      "\u001b[K\u001b[A\r",
      "\u001b[32m[NUTS] Sampling... 12%  ETA: 0:05:31\u001b[39m\u001b[34m\n",
      "  ϵ:         0.0020664307447429645\u001b[39m\u001b[34m\n",
      "  pre_cond:  [1.39536, 2.42334, 3.25132, 5....\u001b[39m"
     ]
    },
    {
     "name": "stdout",
     "output_type": "stream",
     "text": [
      "\u001b[31m\r",
      "[Turing.WARNING]: Incorrect ϵ = 9.919257639434558e-6; ϵ_previous = 0.0020664307447429645 is used instead.\n",
      " adapt_step_size!(::Turing.WarmUpManager, ::Float64) at adapt.jl:111\n",
      "\u001b[39m\u001b[31m\r",
      "[Turing.WARNING]: Incorrect ϵ = 1.7845872762978005e-6; ϵ_previous = 0.0020664307447429645 is used instead.\n",
      " adapt_step_size!(::Turing.WarmUpManager, ::Float64) at adapt.jl:111\n",
      "\u001b[39m\u001b[31m\r",
      "[Turing.WARNING]: Incorrect ϵ = 3.9474228745951663e-7; ϵ_previous = 0.0020664307447429645 is used instead.\n",
      " adapt_step_size!(::Turing.WarmUpManager, ::Float64) at adapt.jl:111\n",
      "\u001b[39m"
     ]
    },
    {
     "name": "stderr",
     "output_type": "stream",
     "text": [
      "\r",
      "\u001b[K\u001b[A\r",
      "\u001b[K\u001b[A\r",
      "\u001b[32m[NUTS] Sampling... 13%  ETA: 0:05:29\u001b[39m\u001b[34m\n",
      "  ϵ:         0.0020664307447429645\u001b[39m\u001b[34m\n",
      "  pre_cond:  [1.39536, 2.42334, 3.25132, 5....\u001b[39m"
     ]
    },
    {
     "name": "stdout",
     "output_type": "stream",
     "text": [
      "\u001b[31m\r",
      "[Turing.WARNING]: Incorrect ϵ = 5.590425249237667e-7; ϵ_previous = 0.0020664307447429645 is used instead.\n",
      " adapt_step_size!(::Turing.WarmUpManager, ::Float64) at adapt.jl:111\n",
      "\u001b[39m\u001b[31m\r",
      "[Turing.WARNING]: Incorrect ϵ = 3.783787115228604e-6; ϵ_previous = 0.0020664307447429645 is used instead.\n",
      " adapt_step_size!(::Turing.WarmUpManager, ::Float64) at adapt.jl:111\n",
      "\u001b[39m\u001b[31m\r",
      "[Turing.WARNING]: Incorrect ϵ = 3.002331370284114e-6; ϵ_previous = 0.0020664307447429645 is used instead.\n",
      " adapt_step_size!(::Turing.WarmUpManager, ::Float64) at adapt.jl:111\n",
      "\u001b[39m"
     ]
    },
    {
     "name": "stderr",
     "output_type": "stream",
     "text": [
      "\r",
      "\u001b[K\u001b[A\r",
      "\u001b[K\u001b[A\r",
      "\u001b[32m[NUTS] Sampling... 13%  ETA: 0:05:27\u001b[39m\u001b[34m\n",
      "  ϵ:         0.0020664307447429645\u001b[39m\u001b[34m\n",
      "  pre_cond:  [1.39536, 2.42334, 3.25132, 5....\u001b[39m"
     ]
    },
    {
     "name": "stdout",
     "output_type": "stream",
     "text": [
      "\u001b[31m\r",
      "[Turing.WARNING]: Incorrect ϵ = 1.7811637320040737e-7; ϵ_previous = 0.0020664307447429645 is used instead.\n",
      " adapt_step_size!(::Turing.WarmUpManager, ::Float64) at adapt.jl:111\n",
      "\u001b[39m\u001b[31m\r",
      "[Turing.WARNING]: Incorrect ϵ = 3.8232776883953704e-7; ϵ_previous = 0.0020664307447429645 is used instead.\n",
      " adapt_step_size!(::Turing.WarmUpManager, ::Float64) at adapt.jl:111\n",
      "\u001b[39m\u001b[31m\r",
      "[Turing.WARNING]: Incorrect ϵ = 1.530918603566962e-6; ϵ_previous = 0.0020664307447429645 is used instead.\n",
      " adapt_step_size!(::Turing.WarmUpManager, ::Float64) at adapt.jl:111\n",
      "\u001b[39m"
     ]
    },
    {
     "name": "stderr",
     "output_type": "stream",
     "text": [
      "\r",
      "\u001b[K\u001b[A\r",
      "\u001b[K\u001b[A\r",
      "\u001b[32m[NUTS] Sampling... 13%  ETA: 0:05:26\u001b[39m\u001b[34m\n",
      "  ϵ:         0.0020664307447429645\u001b[39m\u001b[34m\n",
      "  pre_cond:  [1.39536, 2.42334, 3.25132, 5....\u001b[39m"
     ]
    },
    {
     "name": "stdout",
     "output_type": "stream",
     "text": [
      "\u001b[31m\r",
      "[Turing.WARNING]: Incorrect ϵ = 9.288225425913739e-8; ϵ_previous = 0.0020664307447429645 is used instead.\n",
      " adapt_step_size!(::Turing.WarmUpManager, ::Float64) at adapt.jl:111\n",
      "\u001b[39m\u001b[31m\r",
      "[Turing.WARNING]: Incorrect ϵ = 1.0613137418919062e-7; ϵ_previous = 0.0020664307447429645 is used instead.\n",
      " adapt_step_size!(::Turing.WarmUpManager, ::Float64) at adapt.jl:111\n",
      "\u001b[39m\u001b[31m\r",
      "[Turing.WARNING]: Incorrect ϵ = 8.027582468399644e-7; ϵ_previous = 0.0020664307447429645 is used instead.\n",
      " adapt_step_size!(::Turing.WarmUpManager, ::Float64) at adapt.jl:111\n",
      "\u001b[39m"
     ]
    },
    {
     "name": "stderr",
     "output_type": "stream",
     "text": [
      "\r",
      "\u001b[K\u001b[A\r",
      "\u001b[K\u001b[A\r",
      "\u001b[32m[NUTS] Sampling... 14%  ETA: 0:05:24\u001b[39m\u001b[34m\n",
      "  ϵ:         0.0020664307447429645\u001b[39m\u001b[34m\n",
      "  pre_cond:  [1.39536, 2.42334, 3.25132, 5....\u001b[39m"
     ]
    },
    {
     "name": "stdout",
     "output_type": "stream",
     "text": [
      "\u001b[31m\r",
      "[Turing.WARNING]: Incorrect ϵ = 6.510145192028742e-7; ϵ_previous = 0.0020664307447429645 is used instead.\n",
      " adapt_step_size!(::Turing.WarmUpManager, ::Float64) at adapt.jl:111\n",
      "\u001b[39m\u001b[31m\r",
      "[Turing.WARNING]: Incorrect ϵ = 9.613291460881712e-8; ϵ_previous = 0.0020664307447429645 is used instead.\n",
      " adapt_step_size!(::Turing.WarmUpManager, ::Float64) at adapt.jl:111\n",
      "\u001b[39m\u001b[31m\r",
      "[Turing.WARNING]: Incorrect ϵ = 4.3154993094697773e-7; ϵ_previous = 0.0020664307447429645 is used instead.\n",
      " adapt_step_size!(::Turing.WarmUpManager, ::Float64) at adapt.jl:111\n",
      "\u001b[39m"
     ]
    },
    {
     "name": "stderr",
     "output_type": "stream",
     "text": [
      "\r",
      "\u001b[K\u001b[A\r",
      "\u001b[K\u001b[A\r",
      "\u001b[32m[NUTS] Sampling... 14%  ETA: 0:05:23\u001b[39m\u001b[34m\n",
      "  ϵ:         0.0020664307447429645\u001b[39m\u001b[34m\n",
      "  pre_cond:  [1.39536, 2.42334, 3.25132, 5....\u001b[39m"
     ]
    },
    {
     "name": "stdout",
     "output_type": "stream",
     "text": [
      "\u001b[31m\r",
      "[Turing.WARNING]: Incorrect ϵ = 1.846961501618408e-7; ϵ_previous = 0.0020664307447429645 is used instead.\n",
      " adapt_step_size!(::Turing.WarmUpManager, ::Float64) at adapt.jl:111\n",
      "\u001b[39m\u001b[31m\r",
      "[Turing.WARNING]: Incorrect ϵ = 2.5598742643822375e-8; ϵ_previous = 0.0020664307447429645 is used instead.\n",
      " adapt_step_size!(::Turing.WarmUpManager, ::Float64) at adapt.jl:111\n",
      "\u001b[39m\u001b[31m\r",
      "[Turing.WARNING]: Incorrect ϵ = 2.1562047501427658e-7; ϵ_previous = 0.0020664307447429645 is used instead.\n",
      " adapt_step_size!(::Turing.WarmUpManager, ::Float64) at adapt.jl:111\n",
      "\u001b[39m"
     ]
    },
    {
     "name": "stderr",
     "output_type": "stream",
     "text": [
      "\r",
      "\u001b[K\u001b[A\r",
      "\u001b[K\u001b[A\r",
      "\u001b[32m[NUTS] Sampling... 14%  ETA: 0:05:22\u001b[39m\u001b[34m\n",
      "  ϵ:         0.0020664307447429645\u001b[39m\u001b[34m\n",
      "  pre_cond:  [1.39536, 2.42334, 3.25132, 5....\u001b[39m"
     ]
    },
    {
     "name": "stdout",
     "output_type": "stream",
     "text": [
      "\u001b[31m\r",
      "[Turing.WARNING]: Incorrect ϵ = 1.6339266414809917e-7; ϵ_previous = 0.0020664307447429645 is used instead.\n",
      " adapt_step_size!(::Turing.WarmUpManager, ::Float64) at adapt.jl:111\n",
      "\u001b[39m\u001b[31m\r",
      "[Turing.WARNING]: Incorrect ϵ = 1.5626068421927574e-8; ϵ_previous = 0.0020664307447429645 is used instead.\n",
      " adapt_step_size!(::Turing.WarmUpManager, ::Float64) at adapt.jl:111\n",
      "\u001b[39m\u001b[31m\r",
      "[Turing.WARNING]: Incorrect ϵ = 1.2568168995030343e-8; ϵ_previous = 0.0020664307447429645 is used instead.\n",
      " adapt_step_size!(::Turing.WarmUpManager, ::Float64) at adapt.jl:111\n",
      "\u001b[39m"
     ]
    },
    {
     "name": "stderr",
     "output_type": "stream",
     "text": [
      "\r",
      "\u001b[K\u001b[A\r",
      "\u001b[K\u001b[A\r",
      "\u001b[32m[NUTS] Sampling... 15%  ETA: 0:05:21\u001b[39m\u001b[34m\n",
      "  ϵ:         0.0020664307447429645\u001b[39m\u001b[34m\n",
      "  pre_cond:  [1.39536, 2.42334, 3.25132, 5....\u001b[39m"
     ]
    },
    {
     "name": "stdout",
     "output_type": "stream",
     "text": [
      "\u001b[31m\r",
      "[Turing.WARNING]: Incorrect ϵ = 2.4632193025404838e-8; ϵ_previous = 0.0020664307447429645 is used instead.\n",
      " adapt_step_size!(::Turing.WarmUpManager, ::Float64) at adapt.jl:111\n",
      "\u001b[39m\u001b[31m\r",
      "[Turing.WARNING]: Incorrect ϵ = 1.0784346093103878e-8; ϵ_previous = 0.0020664307447429645 is used instead.\n",
      " adapt_step_size!(::Turing.WarmUpManager, ::Float64) at adapt.jl:111\n",
      "\u001b[39m"
     ]
    },
    {
     "name": "stderr",
     "output_type": "stream",
     "text": [
      "\u001b[32m[NUTS] Sampling... 15%  ETA: 0:05:20\u001b[39m\u001b[34m\n",
      "  ϵ:         0.0020664307447429645\u001b[39m\u001b[34m\n",
      "\u001b[32m[NUTS] Sampling... 15%  ETA: 0:05:19\u001b[39m\u001b[34m\n",
      "  ϵ:         0.2155200177805675\u001b[39m\u001b[34m\n",
      "\u001b[32m[NUTS] Sampling... 16%  ETA: 0:05:17\u001b[39m\u001b[34m\n",
      "  ϵ:         0.015805253058899772\u001b[39m\u001b[34m\n",
      "  pre_cond:  [0.246851, 0.71871, 0.372272, ...\u001b[39m"
     ]
    },
    {
     "name": "stdout",
     "output_type": "stream",
     "text": [
      "\u001b[31m\r",
      "[Turing.WARNING]: Incorrect ϵ = 0.00027738967462736803; ϵ_previous = 0.0016719778700044988 is used instead.\n",
      " adapt_step_size!(::Turing.WarmUpManager, ::Float64) at adapt.jl:111\n",
      "\u001b[39m\u001b[31m\r",
      "[Turing.WARNING]: Incorrect ϵ = 0.0004897410125987461; ϵ_previous = 0.003637459513628213 is used instead.\n",
      " adapt_step_size!(::Turing.WarmUpManager, ::Float64) at adapt.jl:111\n",
      "\u001b[39m"
     ]
    },
    {
     "name": "stderr",
     "output_type": "stream",
     "text": [
      "\r",
      "\u001b[K\u001b[A\r",
      "\u001b[K\u001b[A\r",
      "\u001b[32m[NUTS] Sampling... 16%  ETA: 0:05:16\u001b[39m\u001b[34m\n",
      "  ϵ:         0.0016719778700044988\u001b[39m\u001b[34m\n",
      "  pre_cond:  [0.246851, 0.71871, 0.372272, ...\u001b[39m"
     ]
    },
    {
     "name": "stdout",
     "output_type": "stream",
     "text": [
      "\u001b[31m\r",
      "[Turing.WARNING]: Incorrect ϵ = 0.0008308966951014832; ϵ_previous = 0.003637459513628213 is used instead.\n",
      " adapt_step_size!(::Turing.WarmUpManager, ::Float64) at adapt.jl:111\n",
      "\u001b[39m"
     ]
    },
    {
     "name": "stderr",
     "output_type": "stream",
     "text": [
      "\r",
      "\u001b[K\u001b[A\r",
      "\u001b[K\u001b[A\r",
      "\u001b[32m[NUTS] Sampling... 16%  ETA: 0:05:15\u001b[39m\u001b[34m\n",
      "  ϵ:         0.003637459513628213\u001b[39m\u001b[34m\n",
      "  pre_cond:  [0.246851, 0.71871, 0.372272, ...\u001b[39m"
     ]
    },
    {
     "name": "stdout",
     "output_type": "stream",
     "text": [
      "\u001b[31m\r",
      "[Turing.WARNING]: Incorrect ϵ = 0.0006470668689517293; ϵ_previous = 0.003804817873540546 is used instead.\n",
      " adapt_step_size!(::Turing.WarmUpManager, ::Float64) at adapt.jl:111\n",
      "\u001b[39m"
     ]
    },
    {
     "name": "stderr",
     "output_type": "stream",
     "text": [
      "\u001b[32m[NUTS] Sampling... 16%  ETA: 0:05:13\u001b[39m\u001b[34m\n",
      "  ϵ:         0.003804817873540546\u001b[39m\u001b[34m\n",
      "\u001b[32m[NUTS] Sampling... 17%  ETA: 0:05:12\u001b[39m\u001b[34m\n",
      "  ϵ:         0.0015352161964102013\u001b[39m\u001b[34m\n",
      "\u001b[32m[NUTS] Sampling... 17%  ETA: 0:05:11\u001b[39m\u001b[34m\n",
      "  ϵ:         0.0020391851035852153\u001b[39m\u001b[34m\n",
      "  pre_cond:  [0.246851, 0.71871, 0.372272, ...\u001b[39m"
     ]
    },
    {
     "name": "stdout",
     "output_type": "stream",
     "text": [
      "[Turing.WARNING]: Incorrect ϵ = 0.0008255808891848304; ϵ_previous = 0.00521824636304257 is used instead.\n",
      " adapt_step_size!(::Turing.WarmUpManager, ::Float64) at adapt.jl:111\n",
      "[Turing.WARNING]: Incorrect ϵ = 0.0009695060078120262; ϵ_previous = 0.0037572301393879615 is used instead.\n",
      " adapt_step_size!(::Turing.WarmUpManager, ::Float64) at adapt.jl:111\n",
      "[Turing.WARNING]: Incorrect ϵ = 0.0008350379335946376; ϵ_previous = 0.0037572301393879615 is used instead.\n",
      " adapt_step_size!(::Turing.WarmUpManager, ::Float64) at adapt.jl:111\n",
      "\u001b[39m"
     ]
    },
    {
     "name": "stderr",
     "output_type": "stream",
     "text": [
      "\u001b[32m[NUTS] Sampling... 17%  ETA: 0:05:09\u001b[39m\u001b[34m\n",
      "  ϵ:         0.0037572301393879615\u001b[39m\u001b[34m\n",
      "\u001b[32m[NUTS] Sampling... 18%  ETA: 0:05:08\u001b[39m\u001b[34m\n",
      "  ϵ:         0.0011798804201314083\u001b[39m\u001b[34m\n",
      "\u001b[32m[NUTS] Sampling... 18%  ETA: 0:05:07\u001b[39m\u001b[34m\n",
      "  ϵ:         0.004377771736359412\u001b[39m\u001b[34m\n",
      "\u001b[32m[NUTS] Sampling... 18%  ETA: 0:05:06\u001b[39m\u001b[34m\n",
      "  ϵ:         0.002701935481434364\u001b[39m\u001b[34m\n",
      "\u001b[32m[NUTS] Sampling... 18%  ETA: 0:05:05\u001b[39m\u001b[34m\n",
      "  ϵ:         0.006686859191600499\u001b[39m\u001b[34m\n",
      "  pre_cond:  [0.246851, 0.71871, 0.372272, ...\u001b[39m"
     ]
    },
    {
     "name": "stdout",
     "output_type": "stream",
     "text": [
      "\u001b[31m\r",
      "[Turing.WARNING]: Incorrect ϵ = 0.0009437443711566037; ϵ_previous = 0.0012946626642227604 is used instead.\n",
      " adapt_step_size!(::Turing.WarmUpManager, ::Float64) at adapt.jl:111\n",
      "\u001b[39m\u001b[31m\r",
      "[Turing.WARNING]: Incorrect ϵ = 0.0004181491204661154; ϵ_previous = 0.0012946626642227604 is used instead.\n",
      " adapt_step_size!(::Turing.WarmUpManager, ::Float64) at adapt.jl:111\n",
      "\u001b[39m"
     ]
    },
    {
     "name": "stderr",
     "output_type": "stream",
     "text": [
      "\u001b[32m[NUTS] Sampling... 19%  ETA: 0:05:03\u001b[39m\u001b[34m\n",
      "  ϵ:         0.0012946626642227604\u001b[39m\u001b[34m\n",
      "\u001b[32m[NUTS] Sampling... 19%  ETA: 0:05:02\u001b[39m\u001b[34m\n",
      "  ϵ:         0.0028152757236730875\u001b[39m\u001b[34m\n",
      "\u001b[32m[NUTS] Sampling... 19%  ETA: 0:05:01\u001b[39m\u001b[34m\n",
      "  ϵ:         0.0033177826902566106\u001b[39m\u001b[34m\n",
      "  pre_cond:  [0.246851, 0.71871, 0.372272, ...\u001b[39m"
     ]
    },
    {
     "name": "stdout",
     "output_type": "stream",
     "text": [
      "\u001b[31m\r",
      "[Turing.WARNING]: Incorrect ϵ = 0.0007861359186841855; ϵ_previous = 0.0021214769253935094 is used instead.\n",
      " adapt_step_size!(::Turing.WarmUpManager, ::Float64) at adapt.jl:111\n",
      "\u001b[39m"
     ]
    },
    {
     "name": "stderr",
     "output_type": "stream",
     "text": [
      "\u001b[32m[NUTS] Sampling... 20%  ETA: 0:05:00\u001b[39m\u001b[34m\n",
      "  ϵ:         0.0021214769253935094\u001b[39m\u001b[34m\n",
      "\u001b[32m[NUTS] Sampling... 20%  ETA: 0:04:59\u001b[39m\u001b[34m\n",
      "  ϵ:         0.005900880885633154\u001b[39m\u001b[34m\n",
      "\u001b[32m[NUTS] Sampling... 20%  ETA: 0:04:58\u001b[39m\u001b[34m\n",
      "  ϵ:         0.003225546248500348\u001b[39m\u001b[34m\n",
      "\u001b[32m[NUTS] Sampling... 21%  ETA: 0:04:56\u001b[39m\u001b[34m\n",
      "  ϵ:         0.014616848107089025\u001b[39m\u001b[34m\n",
      "\u001b[32m[NUTS] Sampling... 21%  ETA: 0:04:55\u001b[39m\u001b[34m\n",
      "  ϵ:         0.0013977021110528026\u001b[39m\u001b[34m\n",
      "  pre_cond:  [0.246851, 0.71871, 0.372272, ...\u001b[39m"
     ]
    },
    {
     "name": "stdout",
     "output_type": "stream",
     "text": [
      "\u001b[31m\r",
      "[Turing.WARNING]: Incorrect ϵ = 0.0009985132241587778; ϵ_previous = 0.00253953425612249 is used instead.\n",
      " adapt_step_size!(::Turing.WarmUpManager, ::Float64) at adapt.jl:111\n",
      "\u001b[39m"
     ]
    },
    {
     "name": "stderr",
     "output_type": "stream",
     "text": [
      "\u001b[32m[NUTS] Sampling... 21%  ETA: 0:04:54\u001b[39m\u001b[34m\n",
      "  ϵ:         0.00253953425612249\u001b[39m\u001b[34m\n",
      "\u001b[32m[NUTS] Sampling... 22%  ETA: 0:04:53\u001b[39m\u001b[34m\n",
      "  ϵ:         0.0011687122924846582\u001b[39m\u001b[34m\n",
      "\u001b[32m[NUTS] Sampling... 22%  ETA: 0:04:52\u001b[39m\u001b[34m\n",
      "  ϵ:         0.00163212345187748\u001b[39m\u001b[34m\n",
      "\u001b[32m[NUTS] Sampling... 22%  ETA: 0:04:51\u001b[39m\u001b[34m\n",
      "  ϵ:         0.007115499312470877\u001b[39m\u001b[34m\n",
      "\u001b[32m[NUTS] Sampling... 22%  ETA: 0:04:50\u001b[39m\u001b[34m\n",
      "  ϵ:         0.0031662851476978882\u001b[39m\u001b[34m\n",
      "\u001b[32m[NUTS] Sampling... 23%  ETA: 0:04:48\u001b[39m\u001b[34m\n",
      "  ϵ:         0.0026194619772822113\u001b[39m\u001b[34m\n",
      "\u001b[32m[NUTS] Sampling... 23%  ETA: 0:04:47\u001b[39m\u001b[34m\n",
      "  ϵ:         0.003616768589980366\u001b[39m\u001b[34m\n",
      "\u001b[32m[NUTS] Sampling... 23%  ETA: 0:04:46\u001b[39m\u001b[34m\n",
      "  ϵ:         0.003764731187125775\u001b[39m\u001b[34m\n",
      "\u001b[32m[NUTS] Sampling... 24%  ETA: 0:04:45\u001b[39m\u001b[34m\n",
      "  ϵ:         0.0029280121395903734\u001b[39m\u001b[34m\n",
      "\u001b[32m[NUTS] Sampling... 24%  ETA: 0:04:45\u001b[39m\u001b[34m\n",
      "  ϵ:         0.0010829515397982152\u001b[39m\u001b[34m\n",
      "\u001b[32m[NUTS] Sampling... 24%  ETA: 0:04:46\u001b[39m\u001b[34m\n",
      "  ϵ:         0.0014575041125573\u001b[39m\u001b[34m\n",
      "\u001b[32m[NUTS] Sampling... 24%  ETA: 0:04:47\u001b[39m\u001b[34m\n",
      "  ϵ:         0.0022564704831260322\u001b[39m\u001b[34m\n",
      "\u001b[32m[NUTS] Sampling... 24%  ETA: 0:04:48\u001b[39m\u001b[34m\n",
      "  ϵ:         0.008638124158217974\u001b[39m\u001b[34m\n",
      "\u001b[32m[NUTS] Sampling... 25%  ETA: 0:04:48\u001b[39m\u001b[34m\n",
      "  ϵ:         0.006819924434969022\u001b[39m\u001b[34m\n",
      "\u001b[32m[NUTS] Sampling... 25%  ETA: 0:04:46\u001b[39m\u001b[34m\n",
      "  ϵ:         0.020964073676327005\u001b[39m\u001b[34m\n",
      "  pre_cond:  [0.423866, 0.34484, 0.646566, ...\u001b[39m"
     ]
    },
    {
     "name": "stdout",
     "output_type": "stream",
     "text": [
      "\u001b[31m\r",
      "[Turing.WARNING]: Incorrect ϵ = 0.0008854675245400172; ϵ_previous = 0.004099929802501562 is used instead.\n",
      " adapt_step_size!(::Turing.WarmUpManager, ::Float64) at adapt.jl:111\n",
      "\u001b[39m\u001b[31m\r",
      "[Turing.WARNING]: Incorrect ϵ = 0.00038892079472516226; ϵ_previous = 0.004099929802501562 is used instead.\n",
      " adapt_step_size!(::Turing.WarmUpManager, ::Float64) at adapt.jl:111\n",
      "\u001b[39m"
     ]
    },
    {
     "name": "stderr",
     "output_type": "stream",
     "text": [
      "\r",
      "\u001b[K\u001b[A\r",
      "\u001b[K\u001b[A\r",
      "\u001b[32m[NUTS] Sampling... 25%  ETA: 0:04:45\u001b[39m\u001b[34m\n",
      "  ϵ:         0.004099929802501562\u001b[39m\u001b[34m\n",
      "  pre_cond:  [0.423866, 0.34484, 0.646566, ...\u001b[39m"
     ]
    },
    {
     "name": "stdout",
     "output_type": "stream",
     "text": [
      "\u001b[31m\r",
      "[Turing.WARNING]: Incorrect ϵ = 0.0006317704606778668; ϵ_previous = 0.0013522072481878418 is used instead.\n",
      " adapt_step_size!(::Turing.WarmUpManager, ::Float64) at adapt.jl:111\n",
      "\u001b[39m"
     ]
    },
    {
     "name": "stderr",
     "output_type": "stream",
     "text": [
      "\u001b[32m[NUTS] Sampling... 26%  ETA: 0:04:44\u001b[39m\u001b[34m\n",
      "  ϵ:         0.0028334004089683607\u001b[39m\u001b[34m\n",
      "\u001b[32m[NUTS] Sampling... 26%  ETA: 0:04:43\u001b[39m\u001b[34m\n",
      "  ϵ:         0.0026562959364541026\u001b[39m\u001b[34m\n",
      "\u001b[32m[NUTS] Sampling... 26%  ETA: 0:04:44\u001b[39m\u001b[34m\n",
      "  ϵ:         0.0026112888674914457\u001b[39m\u001b[34m\n",
      "\u001b[32m[NUTS] Sampling... 26%  ETA: 0:04:45\u001b[39m\u001b[34m\n",
      "  ϵ:         0.0010741480205427234\u001b[39m\u001b[34m\n",
      "\u001b[32m[NUTS] Sampling... 27%  ETA: 0:04:46\u001b[39m\u001b[34m\n",
      "  ϵ:         0.004225491808920747\u001b[39m\u001b[34m\n",
      "  pre_cond:  [0.423866, 0.34484, 0.646566, ...\u001b[39m"
     ]
    },
    {
     "name": "stdout",
     "output_type": "stream",
     "text": [
      "\u001b[31m\r",
      "[Turing.WARNING]: Incorrect ϵ = 0.0007561497155185399; ϵ_previous = 0.005106109048754331 is used instead.\n",
      " adapt_step_size!(::Turing.WarmUpManager, ::Float64) at adapt.jl:111\n",
      "\u001b[39m"
     ]
    },
    {
     "name": "stderr",
     "output_type": "stream",
     "text": [
      "\r",
      "\u001b[K\u001b[A\r",
      "\u001b[K\u001b[A\r",
      "\u001b[32m[NUTS] Sampling... 27%  ETA: 0:04:46\u001b[39m\u001b[34m\n",
      "  ϵ:         0.005106109048754331\u001b[39m\u001b[34m\n",
      "  pre_cond:  [0.423866, 0.34484, 0.646566, ...\u001b[39m"
     ]
    },
    {
     "name": "stdout",
     "output_type": "stream",
     "text": [
      "\u001b[31m\r",
      "[Turing.WARNING]: Incorrect ϵ = 0.0003522667694889481; ϵ_previous = 0.0010735174961172464 is used instead.\n",
      " adapt_step_size!(::Turing.WarmUpManager, ::Float64) at adapt.jl:111\n",
      "\u001b[39m"
     ]
    },
    {
     "name": "stderr",
     "output_type": "stream",
     "text": [
      "\u001b[32m[NUTS] Sampling... 27%  ETA: 0:04:46\u001b[39m\u001b[34m\n",
      "  ϵ:         0.0010735174961172464\u001b[39m\u001b[34m\n",
      "\u001b[32m[NUTS] Sampling... 27%  ETA: 0:04:47\u001b[39m\u001b[34m\n",
      "  ϵ:         0.0011132015908241713\u001b[39m\u001b[34m\n",
      "\u001b[32m[NUTS] Sampling... 28%  ETA: 0:04:46\u001b[39m\u001b[34m\n",
      "  ϵ:         0.005525474153442398\u001b[39m\u001b[34m\n",
      "\u001b[32m[NUTS] Sampling... 28%  ETA: 0:04:45\u001b[39m\u001b[34m\n",
      "  ϵ:         0.0022016332365380567\u001b[39m\u001b[34m\n",
      "\u001b[32m[NUTS] Sampling... 28%  ETA: 0:04:43\u001b[39m\u001b[34m\n",
      "  ϵ:         0.0024819504597650356\u001b[39m\u001b[34m\n",
      "  pre_cond:  [0.423866, 0.34484, 0.646566, ...\u001b[39m"
     ]
    },
    {
     "name": "stdout",
     "output_type": "stream",
     "text": [
      "\u001b[31m\r",
      "[Turing.WARNING]: Incorrect ϵ = 0.0008647733884486572; ϵ_previous = 0.0041762188958344515 is used instead.\n",
      " adapt_step_size!(::Turing.WarmUpManager, ::Float64) at adapt.jl:111\n",
      "\u001b[39m\u001b[31m\r",
      "[Turing.WARNING]: Incorrect ϵ = 0.0008076890391430546; ϵ_previous = 0.0014673484602689035 is used instead.\n",
      " adapt_step_size!(::Turing.WarmUpManager, ::Float64) at adapt.jl:111\n",
      "\u001b[39m"
     ]
    },
    {
     "name": "stderr",
     "output_type": "stream",
     "text": [
      "\u001b[32m[NUTS] Sampling... 28%  ETA: 0:04:42\u001b[39m\u001b[34m\n",
      "  ϵ:         0.0041762188958344515\u001b[39m\u001b[34m\n",
      "\u001b[32m[NUTS] Sampling... 29%  ETA: 0:04:41\u001b[39m\u001b[34m\n",
      "  ϵ:         0.0014673484602689035\u001b[39m\u001b[34m\n",
      "  pre_cond:  [0.423866, 0.34484, 0.646566, ...\u001b[39m"
     ]
    },
    {
     "name": "stdout",
     "output_type": "stream",
     "text": [
      "\u001b[31m\r",
      "[Turing.WARNING]: Incorrect ϵ = 0.0006768517977421641; ϵ_previous = 0.0034050496452068695 is used instead.\n",
      " adapt_step_size!(::Turing.WarmUpManager, ::Float64) at adapt.jl:111\n",
      "\u001b[39m"
     ]
    },
    {
     "name": "stderr",
     "output_type": "stream",
     "text": [
      "\r",
      "\u001b[K\u001b[A\r",
      "\u001b[K\u001b[A\r",
      "\u001b[32m[NUTS] Sampling... 29%  ETA: 0:04:40\u001b[39m\u001b[34m\n",
      "  ϵ:         0.0011514635595436412\u001b[39m\u001b[34m\n",
      "  pre_cond:  [0.423866, 0.34484, 0.646566, ...\u001b[39m"
     ]
    },
    {
     "name": "stdout",
     "output_type": "stream",
     "text": [
      "[Turing.WARNING]: Incorrect ϵ = 0.0008542614114171513; ϵ_previous = 0.002810077979985521 is used instead.\n",
      " adapt_step_size!(::Turing.WarmUpManager, ::Float64) at adapt.jl:111\n",
      "[Turing.WARNING]: Incorrect ϵ = 0.0007614657587832267; ϵ_previous = 0.00272269559456745 is used instead.\n",
      " adapt_step_size!(::Turing.WarmUpManager, ::Float64) at adapt.jl:111\n",
      "[Turing.WARNING]: Incorrect ϵ = 0.000810989378761134; ϵ_previous = 0.00272269559456745 is used instead.\n",
      " adapt_step_size!(::Turing.WarmUpManager, ::Float64) at adapt.jl:111\n",
      "\u001b[39m"
     ]
    },
    {
     "name": "stderr",
     "output_type": "stream",
     "text": [
      "\u001b[32m[NUTS] Sampling... 29%  ETA: 0:04:39\u001b[39m\u001b[34m\n",
      "  ϵ:         0.00272269559456745\u001b[39m\u001b[34m\n",
      "\u001b[32m[NUTS] Sampling... 30%  ETA: 0:04:38\u001b[39m\u001b[34m\n",
      "  ϵ:         0.0022561564664038895\u001b[39m\u001b[34m\n",
      "  pre_cond:  [0.423866, 0.34484, 0.646566, ...\u001b[39m"
     ]
    },
    {
     "name": "stdout",
     "output_type": "stream",
     "text": [
      "\u001b[31m\r",
      "[Turing.WARNING]: Incorrect ϵ = 0.0008008695497231667; ϵ_previous = 0.003421665095599213 is used instead.\n",
      " adapt_step_size!(::Turing.WarmUpManager, ::Float64) at adapt.jl:111\n",
      "\u001b[39m"
     ]
    },
    {
     "name": "stderr",
     "output_type": "stream",
     "text": [
      "\u001b[32m[NUTS] Sampling... 30%  ETA: 0:04:36\u001b[39m\u001b[34m\n",
      "  ϵ:         0.003421665095599213\u001b[39m\u001b[34m\n",
      "\u001b[32m[NUTS] Sampling... 30%  ETA: 0:04:35\u001b[39m\u001b[34m\n",
      "  ϵ:         0.006016434264832084\u001b[39m\u001b[34m\n",
      "  pre_cond:  [0.423866, 0.34484, 0.646566, ...\u001b[39m"
     ]
    },
    {
     "name": "stdout",
     "output_type": "stream",
     "text": [
      "[Turing.WARNING]: Incorrect ϵ = 0.0007499102771749823; ϵ_previous = 0.0018820891289214345 is used instead.\n",
      " adapt_step_size!(::Turing.WarmUpManager, ::Float64) at adapt.jl:111\n",
      "[Turing.WARNING]: Incorrect ϵ = 0.0007879912823539697; ϵ_previous = 0.00104925104551549 is used instead.\n",
      " adapt_step_size!(::Turing.WarmUpManager, ::Float64) at adapt.jl:111\n",
      "\u001b[39m"
     ]
    },
    {
     "name": "stderr",
     "output_type": "stream",
     "text": [
      "\u001b[32m[NUTS] Sampling... 30%  ETA: 0:04:34\u001b[39m\u001b[34m\n",
      "  ϵ:         0.00104925104551549\u001b[39m\u001b[34m\n",
      "\u001b[32m[NUTS] Sampling... 31%  ETA: 0:04:32\u001b[39m\u001b[34m\n",
      "  ϵ:         0.0029438324058702085\u001b[39m\u001b[34m\n",
      "  pre_cond:  [0.423866, 0.34484, 0.646566, ...\u001b[39m"
     ]
    },
    {
     "name": "stdout",
     "output_type": "stream",
     "text": [
      "[Turing.WARNING]: Incorrect ϵ = 0.00042686204519793423; ϵ_previous = 0.0016397180612061147 is used instead.\n",
      " adapt_step_size!(::Turing.WarmUpManager, ::Float64) at adapt.jl:111\n",
      "[Turing.WARNING]: Incorrect ϵ = 0.0006272508418601853; ϵ_previous = 0.0016397180612061147 is used instead.\n",
      " adapt_step_size!(::Turing.WarmUpManager, ::Float64) at adapt.jl:111\n",
      "\u001b[39m"
     ]
    },
    {
     "name": "stderr",
     "output_type": "stream",
     "text": [
      "\u001b[32m[NUTS] Sampling... 31%  ETA: 0:04:31\u001b[39m\u001b[34m\n",
      "  ϵ:         0.0016397180612061147\u001b[39m\u001b[34m\n",
      "\u001b[32m[NUTS] Sampling... 31%  ETA: 0:04:30\u001b[39m\u001b[34m\n",
      "  ϵ:         0.004653932771793498\u001b[39m\u001b[34m\n",
      "\u001b[32m[NUTS] Sampling... 32%  ETA: 0:04:29\u001b[39m\u001b[34m\n",
      "  ϵ:         0.0019676526192242087\u001b[39m\u001b[34m\n",
      "\u001b[32m[NUTS] Sampling... 32%  ETA: 0:04:28\u001b[39m\u001b[34m\n",
      "  ϵ:         0.0013602924271476188\u001b[39m\u001b[34m\n",
      "\u001b[32m[NUTS] Sampling... 32%  ETA: 0:04:27\u001b[39m\u001b[34m\n",
      "  ϵ:         0.012399870934769124\u001b[39m\u001b[34m\n",
      "\u001b[32m[NUTS] Sampling... 33%  ETA: 0:04:25\u001b[39m\u001b[34m\n",
      "  ϵ:         0.0019409508853862419\u001b[39m\u001b[34m\n",
      "\u001b[32m[NUTS] Sampling... 33%  ETA: 0:04:24\u001b[39m\u001b[34m\n",
      "  ϵ:         0.0016762560010759949\u001b[39m\u001b[34m\n",
      "\u001b[32m[NUTS] Sampling... 33%  ETA: 0:04:23\u001b[39m\u001b[34m\n",
      "  ϵ:         0.004168862812723695\u001b[39m\u001b[34m\n",
      "  pre_cond:  [0.423866, 0.34484, 0.646566, ...\u001b[39m"
     ]
    },
    {
     "name": "stdout",
     "output_type": "stream",
     "text": [
      "\u001b[31m\r",
      "[Turing.WARNING]: Incorrect ϵ = 0.0008294664986738505; ϵ_previous = 0.0012992204753859067 is used instead.\n",
      " adapt_step_size!(::Turing.WarmUpManager, ::Float64) at adapt.jl:111\n",
      "\u001b[39m"
     ]
    },
    {
     "name": "stderr",
     "output_type": "stream",
     "text": [
      "\u001b[32m[NUTS] Sampling... 34%  ETA: 0:04:21\u001b[39m\u001b[34m\n",
      "  ϵ:         0.002552239092719279\u001b[39m\u001b[34m\n",
      "\u001b[32m[NUTS] Sampling... 34%  ETA: 0:04:20\u001b[39m\u001b[34m\n",
      "  ϵ:         0.0018689940749161006\u001b[39m\u001b[34m\n",
      "\u001b[32m[NUTS] Sampling... 34%  ETA: 0:04:19\u001b[39m\u001b[34m\n",
      "  ϵ:         0.002411982477924662\u001b[39m\u001b[34m\n",
      "\u001b[32m[NUTS] Sampling... 34%  ETA: 0:04:18\u001b[39m\u001b[34m\n",
      "  ϵ:         0.002781368290722347\u001b[39m\u001b[34m\n",
      "\u001b[32m[NUTS] Sampling... 35%  ETA: 0:04:16\u001b[39m\u001b[34m\n",
      "  ϵ:         0.005411454691462361\u001b[39m\u001b[34m\n",
      "\u001b[32m[NUTS] Sampling... 35%  ETA: 0:04:15\u001b[39m\u001b[34m\n",
      "  ϵ:         0.0018898980057450803\u001b[39m\u001b[34m\n",
      "  pre_cond:  [0.423866, 0.34484, 0.646566, ...\u001b[39m"
     ]
    },
    {
     "name": "stdout",
     "output_type": "stream",
     "text": [
      "\u001b[31m\r",
      "[Turing.WARNING]: Incorrect ϵ = 0.0009711720370600257; ϵ_previous = 0.0030232108292237527 is used instead.\n",
      " adapt_step_size!(::Turing.WarmUpManager, ::Float64) at adapt.jl:111\n",
      "\u001b[39m"
     ]
    },
    {
     "name": "stderr",
     "output_type": "stream",
     "text": [
      "\u001b[32m[NUTS] Sampling... 35%  ETA: 0:04:14\u001b[39m\u001b[34m\n",
      "  ϵ:         0.0030232108292237527\u001b[39m\u001b[34m\n",
      "\u001b[32m[NUTS] Sampling... 36%  ETA: 0:04:12\u001b[39m\u001b[34m\n",
      "  ϵ:         0.002658369039422031\u001b[39m\u001b[34m\n",
      "\u001b[32m[NUTS] Sampling... 36%  ETA: 0:04:11\u001b[39m\u001b[34m\n",
      "  ϵ:         0.0030142953244681634\u001b[39m\u001b[34m\n",
      "\u001b[32m[NUTS] Sampling... 36%  ETA: 0:04:10\u001b[39m\u001b[34m\n",
      "  ϵ:         0.003826332771217418\u001b[39m\u001b[34m\n",
      "\u001b[32m[NUTS] Sampling... 36%  ETA: 0:04:09\u001b[39m\u001b[34m\n",
      "  ϵ:         0.0037971290386706706\u001b[39m\u001b[34m\n",
      "\u001b[32m[NUTS] Sampling... 37%  ETA: 0:04:08\u001b[39m\u001b[34m\n",
      "  ϵ:         0.0017465604315712504\u001b[39m\u001b[34m\n",
      "  pre_cond:  [0.423866, 0.34484, 0.646566, ...\u001b[39m"
     ]
    },
    {
     "name": "stdout",
     "output_type": "stream",
     "text": [
      "\u001b[31m\r",
      "[Turing.WARNING]: Incorrect ϵ = 0.000981998741733444; ϵ_previous = 0.0015222586551977457 is used instead.\n",
      " adapt_step_size!(::Turing.WarmUpManager, ::Float64) at adapt.jl:111\n",
      "\u001b[39m"
     ]
    },
    {
     "name": "stderr",
     "output_type": "stream",
     "text": [
      "\r",
      "\u001b[K\u001b[A\r",
      "\u001b[K\u001b[A\r",
      "\u001b[32m[NUTS] Sampling... 37%  ETA: 0:04:07\u001b[39m\u001b[34m\n",
      "  ϵ:         0.0015222586551977457\u001b[39m\u001b[34m\n",
      "  pre_cond:  [0.423866, 0.34484, 0.646566, ...\u001b[39m"
     ]
    },
    {
     "name": "stdout",
     "output_type": "stream",
     "text": [
      "\u001b[31m\r",
      "[Turing.WARNING]: Incorrect ϵ = 0.0008151347690479264; ϵ_previous = 0.0017558716730142403 is used instead.\n",
      " adapt_step_size!(::Turing.WarmUpManager, ::Float64) at adapt.jl:111\n",
      "\u001b[39m\u001b[31m\r",
      "[Turing.WARNING]: Incorrect ϵ = 0.0007959639056557897; ϵ_previous = 0.0017558716730142403 is used instead.\n",
      " adapt_step_size!(::Turing.WarmUpManager, ::Float64) at adapt.jl:111\n",
      "\u001b[39m"
     ]
    },
    {
     "name": "stderr",
     "output_type": "stream",
     "text": [
      "\u001b[32m[NUTS] Sampling... 37%  ETA: 0:04:06\u001b[39m\u001b[34m\n",
      "  ϵ:         0.0017558716730142403\u001b[39m\u001b[34m\n",
      "\u001b[32m[NUTS] Sampling... 38%  ETA: 0:04:04\u001b[39m\u001b[34m\n",
      "  ϵ:         0.0030824161660278873\u001b[39m\u001b[34m\n",
      "\u001b[32m[NUTS] Sampling... 38%  ETA: 0:04:03\u001b[39m\u001b[34m\n",
      "  ϵ:         0.002064072865502901\u001b[39m\u001b[34m\n",
      "\u001b[32m[NUTS] Sampling... 38%  ETA: 0:04:02\u001b[39m\u001b[34m\n",
      "  ϵ:         0.0021911669646786365\u001b[39m\u001b[34m\n",
      "\u001b[32m[NUTS] Sampling... 39%  ETA: 0:04:00\u001b[39m\u001b[34m\n",
      "  ϵ:         0.001754537395872823\u001b[39m\u001b[34m\n",
      "\u001b[32m[NUTS] Sampling... 39%  ETA: 0:03:59\u001b[39m\u001b[34m\n",
      "  ϵ:         0.002790291783594406\u001b[39m\u001b[34m\n",
      "\u001b[32m[NUTS] Sampling... 39%  ETA: 0:03:58\u001b[39m\u001b[34m\n",
      "  ϵ:         0.002107492050894303\u001b[39m\u001b[34m\n",
      "  pre_cond:  [0.423866, 0.34484, 0.646566, ...\u001b[39m"
     ]
    },
    {
     "name": "stdout",
     "output_type": "stream",
     "text": [
      "\u001b[31m\r",
      "[Turing.WARNING]: Incorrect ϵ = 0.000967863002463632; ϵ_previous = 0.0016836634381855215 is used instead.\n",
      " adapt_step_size!(::Turing.WarmUpManager, ::Float64) at adapt.jl:111\n",
      "\u001b[39m"
     ]
    },
    {
     "name": "stderr",
     "output_type": "stream",
     "text": [
      "\u001b[32m[NUTS] Sampling... 40%  ETA: 0:03:57\u001b[39m\u001b[34m\n",
      "  ϵ:         0.0016836634381855215\u001b[39m\u001b[34m\n",
      "\u001b[32m[NUTS] Sampling... 40%  ETA: 0:03:55\u001b[39m\u001b[34m\n",
      "  ϵ:         0.0018798006869958873\u001b[39m\u001b[34m\n",
      "\u001b[32m[NUTS] Sampling... 40%  ETA: 0:03:54\u001b[39m\u001b[34m\n",
      "  ϵ:         0.001179294772409081\u001b[39m\u001b[34m\n",
      "\u001b[32m[NUTS] Sampling... 40%  ETA: 0:03:53\u001b[39m\u001b[34m\n",
      "  ϵ:         0.0018091408245531958\u001b[39m\u001b[34m\n",
      "\u001b[32m[NUTS] Sampling... 41%  ETA: 0:03:52\u001b[39m\u001b[34m\n",
      "  ϵ:         0.007138435795767056\u001b[39m\u001b[34m\n",
      "\u001b[32m[NUTS] Sampling... 41%  ETA: 0:03:50\u001b[39m\u001b[34m\n",
      "  ϵ:         0.004195689227506252\u001b[39m\u001b[34m\n",
      "\u001b[32m[NUTS] Sampling... 41%  ETA: 0:03:49\u001b[39m\u001b[34m\n",
      "  ϵ:         0.0054769795480552955\u001b[39m\u001b[34m\n",
      "\u001b[32m[NUTS] Sampling... 42%  ETA: 0:03:48\u001b[39m\u001b[34m\n",
      "  ϵ:         0.0018632915129725368\u001b[39m\u001b[34m\n",
      "  pre_cond:  [0.423866, 0.34484, 0.646566, ...\u001b[39m"
     ]
    },
    {
     "name": "stdout",
     "output_type": "stream",
     "text": [
      "\u001b[31m\r",
      "[Turing.WARNING]: Incorrect ϵ = 0.0009654819197229099; ϵ_previous = 0.0018637290376161192 is used instead.\n",
      " adapt_step_size!(::Turing.WarmUpManager, ::Float64) at adapt.jl:111\n",
      "\u001b[39m\u001b[31m\r",
      "[Turing.WARNING]: Incorrect ϵ = 0.0008330949743463793; ϵ_previous = 0.0018637290376161192 is used instead.\n",
      " adapt_step_size!(::Turing.WarmUpManager, ::Float64) at adapt.jl:111\n",
      "\u001b[39m"
     ]
    },
    {
     "name": "stderr",
     "output_type": "stream",
     "text": [
      "\u001b[32m[NUTS] Sampling... 42%  ETA: 0:03:47\u001b[39m\u001b[34m\n",
      "  ϵ:         0.0018637290376161192\u001b[39m\u001b[34m\n",
      "\u001b[32m[NUTS] Sampling... 42%  ETA: 0:03:46\u001b[39m\u001b[34m\n",
      "  ϵ:         0.003058477263979568\u001b[39m\u001b[34m\n",
      "\u001b[32m[NUTS] Sampling... 42%  ETA: 0:03:45\u001b[39m\u001b[34m\n",
      "  ϵ:         0.002483251995613895\u001b[39m\u001b[34m\n",
      "\u001b[32m[NUTS] Sampling... 43%  ETA: 0:03:46\u001b[39m\u001b[34m\n",
      "  ϵ:         0.0026878353923020758\u001b[39m\u001b[34m\n",
      "\u001b[32m[NUTS] Sampling... 43%  ETA: 0:03:47\u001b[39m\u001b[34m\n",
      "  ϵ:         0.001883232500570954\u001b[39m\u001b[34m\n",
      "\u001b[32m[NUTS] Sampling... 43%  ETA: 0:03:45\u001b[39m\u001b[34m\n",
      "  ϵ:         0.003225233662245936\u001b[39m\u001b[34m\n",
      "\u001b[32m[NUTS] Sampling... 43%  ETA: 0:03:44\u001b[39m\u001b[34m\n",
      "  ϵ:         0.004125629297414899\u001b[39m\u001b[34m\n",
      "\u001b[32m[NUTS] Sampling... 44%  ETA: 0:03:43\u001b[39m\u001b[34m\n",
      "  ϵ:         0.0013786449441739552\u001b[39m\u001b[34m\n",
      "\u001b[32m[NUTS] Sampling... 44%  ETA: 0:03:42\u001b[39m\u001b[34m\n",
      "  ϵ:         0.001867587741495006\u001b[39m\u001b[34m\n",
      "\u001b[32m[NUTS] Sampling... 44%  ETA: 0:03:41\u001b[39m\u001b[34m\n",
      "  ϵ:         0.00219253140109248\u001b[39m\u001b[34m\n",
      "\u001b[32m[NUTS] Sampling... 44%  ETA: 0:03:41\u001b[39m\u001b[34m\n",
      "  ϵ:         0.0018702607727722014\u001b[39m\u001b[34m\n",
      "\u001b[32m[NUTS] Sampling... 45%  ETA: 0:03:40\u001b[39m\u001b[34m\n",
      "  ϵ:         0.0014666367534584706\u001b[39m\u001b[34m\n",
      "\u001b[32m[NUTS] Sampling... 45%  ETA: 0:03:39\u001b[39m\u001b[34m\n",
      "  ϵ:         0.00994215859490215\u001b[39m\u001b[34m\n",
      "  pre_cond:  [0.346509, 0.636065, 0.370214,...\u001b[39m"
     ]
    },
    {
     "name": "stdout",
     "output_type": "stream",
     "text": [
      "\u001b[31m\r",
      "[Turing.WARNING]: Incorrect ϵ = 0.0008023611064176168; ϵ_previous = 0.004347528225127787 is used instead.\n",
      " adapt_step_size!(::Turing.WarmUpManager, ::Float64) at adapt.jl:111\n",
      "\u001b[39m\u001b[31m\r",
      "[Turing.WARNING]: Incorrect ϵ = 0.0008350273068528355; ϵ_previous = 0.0040336791643216935 is used instead.\n",
      " adapt_step_size!(::Turing.WarmUpManager, ::Float64) at adapt.jl:111\n",
      "\u001b[39m"
     ]
    },
    {
     "name": "stderr",
     "output_type": "stream",
     "text": [
      "\r",
      "\u001b[K\u001b[A\r",
      "\u001b[K\u001b[A\r",
      "\u001b[32m[NUTS] Sampling... 45%  ETA: 0:03:37\u001b[39m\u001b[34m\n",
      "  ϵ:         0.004347528225127787\u001b[39m\u001b[34m\n",
      "  pre_cond:  [0.346509, 0.636065, 0.370214,...\u001b[39m"
     ]
    },
    {
     "name": "stdout",
     "output_type": "stream",
     "text": [
      "\u001b[31m\r",
      "[Turing.WARNING]: Incorrect ϵ = 0.00045336354322169547; ϵ_previous = 0.0040336791643216935 is used instead.\n",
      " adapt_step_size!(::Turing.WarmUpManager, ::Float64) at adapt.jl:111\n",
      "\u001b[39m\u001b[31m\r",
      "[Turing.WARNING]: Incorrect ϵ = 0.0009997801677656697; ϵ_previous = 0.0040336791643216935 is used instead.\n",
      " adapt_step_size!(::Turing.WarmUpManager, ::Float64) at adapt.jl:111\n",
      "\u001b[39m"
     ]
    },
    {
     "name": "stderr",
     "output_type": "stream",
     "text": [
      "\r",
      "\u001b[K\u001b[A\r",
      "\u001b[K\u001b[A\r",
      "\u001b[32m[NUTS] Sampling... 46%  ETA: 0:03:36\u001b[39m\u001b[34m\n",
      "  ϵ:         0.0040336791643216935\u001b[39m\u001b[34m\n",
      "  pre_cond:  [0.346509, 0.636065, 0.370214,...\u001b[39m"
     ]
    },
    {
     "name": "stdout",
     "output_type": "stream",
     "text": [
      "\u001b[31m\r",
      "[Turing.WARNING]: Incorrect ϵ = 0.0004848160678123653; ϵ_previous = 0.0040336791643216935 is used instead.\n",
      " adapt_step_size!(::Turing.WarmUpManager, ::Float64) at adapt.jl:111\n",
      "\u001b[39m"
     ]
    },
    {
     "name": "stderr",
     "output_type": "stream",
     "text": [
      "\r",
      "\u001b[K\u001b[A\r",
      "\u001b[K\u001b[A\r",
      "\u001b[32m[NUTS] Sampling... 46%  ETA: 0:03:35\u001b[39m\u001b[34m\n",
      "  ϵ:         0.0040336791643216935\u001b[39m\u001b[34m\n",
      "  pre_cond:  [0.346509, 0.636065, 0.370214,...\u001b[39m"
     ]
    },
    {
     "name": "stdout",
     "output_type": "stream",
     "text": [
      "\u001b[31m\r",
      "[Turing.WARNING]: Incorrect ϵ = 0.0006942572911636807; ϵ_previous = 0.001313989381952915 is used instead.\n",
      " adapt_step_size!(::Turing.WarmUpManager, ::Float64) at adapt.jl:111\n",
      "\u001b[39m\u001b[31m\r",
      "[Turing.WARNING]: Incorrect ϵ = 0.00044879821053178567; ϵ_previous = 0.001313989381952915 is used instead.\n",
      " adapt_step_size!(::Turing.WarmUpManager, ::Float64) at adapt.jl:111\n",
      "\u001b[39m"
     ]
    },
    {
     "name": "stderr",
     "output_type": "stream",
     "text": [
      "\u001b[32m[NUTS] Sampling... 46%  ETA: 0:03:34\u001b[39m\u001b[34m\n",
      "  ϵ:         0.001313989381952915\u001b[39m\u001b[34m\n",
      "\u001b[32m[NUTS] Sampling... 47%  ETA: 0:03:32\u001b[39m\u001b[34m\n",
      "  ϵ:         0.0025447206920948275\u001b[39m\u001b[34m\n",
      "  pre_cond:  [0.346509, 0.636065, 0.370214,...\u001b[39m"
     ]
    },
    {
     "name": "stdout",
     "output_type": "stream",
     "text": [
      "\u001b[31m\r",
      "[Turing.WARNING]: Incorrect ϵ = 0.000995110226725649; ϵ_previous = 0.0021133312582803827 is used instead.\n",
      " adapt_step_size!(::Turing.WarmUpManager, ::Float64) at adapt.jl:111\n",
      "\u001b[39m"
     ]
    },
    {
     "name": "stderr",
     "output_type": "stream",
     "text": [
      "\u001b[32m[NUTS] Sampling... 47%  ETA: 0:03:31\u001b[39m\u001b[34m\n",
      "  ϵ:         0.0021133312582803827\u001b[39m\u001b[34m\n",
      "\u001b[32m[NUTS] Sampling... 47%  ETA: 0:03:30\u001b[39m\u001b[34m\n",
      "  ϵ:         0.001007590195290483\u001b[39m\u001b[34m\n",
      "\u001b[32m[NUTS] Sampling... 48%  ETA: 0:03:28\u001b[39m\u001b[34m\n",
      "  ϵ:         0.00120047065204469\u001b[39m\u001b[34m\n",
      "  pre_cond:  [0.346509, 0.636065, 0.370214,...\u001b[39m"
     ]
    },
    {
     "name": "stdout",
     "output_type": "stream",
     "text": [
      "\u001b[31m\r",
      "[Turing.WARNING]: Incorrect ϵ = 0.0008236711125614732; ϵ_previous = 0.0012191247758083139 is used instead.\n",
      " adapt_step_size!(::Turing.WarmUpManager, ::Float64) at adapt.jl:111\n",
      "\u001b[39m"
     ]
    },
    {
     "name": "stderr",
     "output_type": "stream",
     "text": [
      "\u001b[32m[NUTS] Sampling... 48%  ETA: 0:03:27\u001b[39m\u001b[34m\n",
      "  ϵ:         0.0010675489432197338\u001b[39m\u001b[34m\n",
      "\u001b[32m[NUTS] Sampling... 48%  ETA: 0:03:26\u001b[39m\u001b[34m\n",
      "  ϵ:         0.004576174375242451\u001b[39m\u001b[34m\n",
      "\u001b[32m[NUTS] Sampling... 48%  ETA: 0:03:25\u001b[39m\u001b[34m\n",
      "  ϵ:         0.008514918842343528\u001b[39m\u001b[34m\n",
      "\u001b[32m[NUTS] Sampling... 49%  ETA: 0:03:23\u001b[39m\u001b[34m\n",
      "  ϵ:         0.0010529732765871516\u001b[39m\u001b[34m\n",
      "  pre_cond:  [0.346509, 0.636065, 0.370214,...\u001b[39m"
     ]
    },
    {
     "name": "stdout",
     "output_type": "stream",
     "text": [
      "\u001b[31m\r",
      "[Turing.WARNING]: Incorrect ϵ = 0.0005393823135690551; ϵ_previous = 0.0026500581248547097 is used instead.\n",
      " adapt_step_size!(::Turing.WarmUpManager, ::Float64) at adapt.jl:111\n",
      "\u001b[39m"
     ]
    },
    {
     "name": "stderr",
     "output_type": "stream",
     "text": [
      "\u001b[32m[NUTS] Sampling... 49%  ETA: 0:03:22\u001b[39m\u001b[34m\n",
      "  ϵ:         0.002038963854454228\u001b[39m\u001b[34m\n",
      "\u001b[32m[NUTS] Sampling... 49%  ETA: 0:03:21\u001b[39m\u001b[34m\n",
      "  ϵ:         0.0030613051386833706\u001b[39m\u001b[34m\n",
      "  pre_cond:  [0.346509, 0.636065, 0.370214,...\u001b[39m"
     ]
    },
    {
     "name": "stdout",
     "output_type": "stream",
     "text": [
      "\u001b[31m\r",
      "[Turing.WARNING]: Incorrect ϵ = 0.0004978793620128687; ϵ_previous = 0.0017469369082656978 is used instead.\n",
      " adapt_step_size!(::Turing.WarmUpManager, ::Float64) at adapt.jl:111\n",
      "\u001b[39m\u001b[31m\r",
      "[Turing.WARNING]: Incorrect ϵ = 0.000995965405933746; ϵ_previous = 0.0017469369082656978 is used instead.\n",
      " adapt_step_size!(::Turing.WarmUpManager, ::Float64) at adapt.jl:111\n",
      "\u001b[39m"
     ]
    },
    {
     "name": "stderr",
     "output_type": "stream",
     "text": [
      "\r",
      "\u001b[K\u001b[A\r",
      "\u001b[K\u001b[A\r",
      "\u001b[32m[NUTS] Sampling... 50%  ETA: 0:03:20\u001b[39m\u001b[34m\n",
      "  ϵ:         0.0017469369082656978\u001b[39m\u001b[34m\n",
      "  pre_cond:  [0.346509, 0.636065, 0.370214,...\u001b[39m"
     ]
    },
    {
     "name": "stdout",
     "output_type": "stream",
     "text": [
      "\u001b[31m\r",
      "[Turing.WARNING]: Incorrect ϵ = 0.0008874069802280039; ϵ_previous = 0.0017469369082656978 is used instead.\n",
      " adapt_step_size!(::Turing.WarmUpManager, ::Float64) at adapt.jl:111\n",
      "\u001b[39m"
     ]
    },
    {
     "name": "stderr",
     "output_type": "stream",
     "text": [
      "\u001b[32m[NUTS] Sampling... 50%  ETA: 0:03:19\u001b[39m\u001b[34m\n",
      "  ϵ:         0.0017469369082656978\u001b[39m\u001b[34m\n",
      "\u001b[32m[NUTS] Sampling... 50%  ETA: 0:03:18\u001b[39m\u001b[34m\n",
      "  ϵ:         0.002794639942180527\u001b[39m\u001b[34m\n",
      "\u001b[32m[NUTS] Sampling... 50%  ETA: 0:03:16\u001b[39m\u001b[34m\n",
      "  ϵ:         0.002794639942180527\u001b[39m\u001b[34m\n",
      "\u001b[32m[NUTS] Sampling... 51%  ETA: 0:03:15\u001b[39m\u001b[34m\n",
      "  ϵ:         0.002794639942180527\u001b[39m\u001b[34m\n",
      "\u001b[32m[NUTS] Sampling... 51%  ETA: 0:03:14\u001b[39m\u001b[34m\n",
      "  ϵ:         0.002794639942180527\u001b[39m\u001b[34m\n",
      "\u001b[32m[NUTS] Sampling... 51%  ETA: 0:03:13\u001b[39m\u001b[34m\n",
      "  ϵ:         0.002794639942180527\u001b[39m\u001b[34m\n",
      "\u001b[32m[NUTS] Sampling... 52%  ETA: 0:03:11\u001b[39m\u001b[34m\n",
      "  ϵ:         0.002794639942180527\u001b[39m\u001b[34m\n",
      "\u001b[32m[NUTS] Sampling... 52%  ETA: 0:03:10\u001b[39m\u001b[34m\n",
      "  ϵ:         0.002794639942180527\u001b[39m\u001b[34m\n",
      "\u001b[32m[NUTS] Sampling... 52%  ETA: 0:03:09\u001b[39m\u001b[34m\n",
      "  ϵ:         0.002794639942180527\u001b[39m\u001b[34m\n",
      "\u001b[32m[NUTS] Sampling... 53%  ETA: 0:03:08\u001b[39m\u001b[34m\n",
      "  ϵ:         0.002794639942180527\u001b[39m\u001b[34m\n",
      "\u001b[32m[NUTS] Sampling... 53%  ETA: 0:03:07\u001b[39m\u001b[34m\n",
      "  ϵ:         0.002794639942180527\u001b[39m\u001b[34m\n",
      "\u001b[32m[NUTS] Sampling... 53%  ETA: 0:03:05\u001b[39m\u001b[34m\n",
      "  ϵ:         0.002794639942180527\u001b[39m\u001b[34m\n",
      "\u001b[32m[NUTS] Sampling... 54%  ETA: 0:03:04\u001b[39m\u001b[34m\n",
      "  ϵ:         0.002794639942180527\u001b[39m\u001b[34m\n",
      "\u001b[32m[NUTS] Sampling... 54%  ETA: 0:03:03\u001b[39m\u001b[34m\n",
      "  ϵ:         0.002794639942180527\u001b[39m\u001b[34m\n",
      "\u001b[32m[NUTS] Sampling... 54%  ETA: 0:03:02\u001b[39m\u001b[34m\n",
      "  ϵ:         0.002794639942180527\u001b[39m\u001b[34m\n",
      "\u001b[32m[NUTS] Sampling... 54%  ETA: 0:03:01\u001b[39m\u001b[34m\n",
      "  ϵ:         0.002794639942180527\u001b[39m\u001b[34m\n",
      "\u001b[32m[NUTS] Sampling... 55%  ETA: 0:02:59\u001b[39m\u001b[34m\n",
      "  ϵ:         0.002794639942180527\u001b[39m\u001b[34m\n",
      "\u001b[32m[NUTS] Sampling... 55%  ETA: 0:02:58\u001b[39m\u001b[34m\n",
      "  ϵ:         0.002794639942180527\u001b[39m\u001b[34m\n",
      "\u001b[32m[NUTS] Sampling... 55%  ETA: 0:02:57\u001b[39m\u001b[34m\n",
      "  ϵ:         0.002794639942180527\u001b[39m\u001b[34m\n",
      "\u001b[32m[NUTS] Sampling... 56%  ETA: 0:02:56\u001b[39m\u001b[34m\n",
      "  ϵ:         0.002794639942180527\u001b[39m\u001b[34m\n",
      "\u001b[32m[NUTS] Sampling... 56%  ETA: 0:02:55\u001b[39m\u001b[34m\n",
      "  ϵ:         0.002794639942180527\u001b[39m\u001b[34m\n",
      "\u001b[32m[NUTS] Sampling... 56%  ETA: 0:02:53\u001b[39m\u001b[34m\n",
      "  ϵ:         0.002794639942180527\u001b[39m\u001b[34m\n",
      "\u001b[32m[NUTS] Sampling... 56%  ETA: 0:02:52\u001b[39m\u001b[34m\n",
      "  ϵ:         0.002794639942180527\u001b[39m\u001b[34m\n",
      "\u001b[32m[NUTS] Sampling... 57%  ETA: 0:02:51\u001b[39m\u001b[34m\n",
      "  ϵ:         0.002794639942180527\u001b[39m\u001b[34m\n",
      "\u001b[32m[NUTS] Sampling... 57%  ETA: 0:02:50\u001b[39m\u001b[34m\n",
      "  ϵ:         0.002794639942180527\u001b[39m\u001b[34m\n",
      "\u001b[32m[NUTS] Sampling... 57%  ETA: 0:02:48\u001b[39m\u001b[34m\n",
      "  ϵ:         0.002794639942180527\u001b[39m\u001b[34m\n",
      "\u001b[32m[NUTS] Sampling... 58%  ETA: 0:02:47\u001b[39m\u001b[34m\n",
      "  ϵ:         0.002794639942180527\u001b[39m\u001b[34m\n",
      "\u001b[32m[NUTS] Sampling... 58%  ETA: 0:02:46\u001b[39m\u001b[34m\n",
      "  ϵ:         0.002794639942180527\u001b[39m\u001b[34m\n",
      "\u001b[32m[NUTS] Sampling... 58%  ETA: 0:02:45\u001b[39m\u001b[34m\n",
      "  ϵ:         0.002794639942180527\u001b[39m\u001b[34m\n",
      "\u001b[32m[NUTS] Sampling... 59%  ETA: 0:02:43\u001b[39m\u001b[34m\n",
      "  ϵ:         0.002794639942180527\u001b[39m\u001b[34m\n",
      "\u001b[32m[NUTS] Sampling... 59%  ETA: 0:02:42\u001b[39m\u001b[34m\n",
      "  ϵ:         0.002794639942180527\u001b[39m\u001b[34m\n",
      "\u001b[32m[NUTS] Sampling... 59%  ETA: 0:02:41\u001b[39m\u001b[34m\n",
      "  ϵ:         0.002794639942180527\u001b[39m\u001b[34m\n",
      "\u001b[32m[NUTS] Sampling... 60%  ETA: 0:02:40\u001b[39m\u001b[34m\n",
      "  ϵ:         0.002794639942180527\u001b[39m\u001b[34m\n",
      "\u001b[32m[NUTS] Sampling... 60%  ETA: 0:02:38\u001b[39m\u001b[34m\n",
      "  ϵ:         0.002794639942180527\u001b[39m\u001b[34m\n",
      "\u001b[32m[NUTS] Sampling... 60%  ETA: 0:02:37\u001b[39m\u001b[34m\n",
      "  ϵ:         0.002794639942180527\u001b[39m\u001b[34m\n",
      "\u001b[32m[NUTS] Sampling... 60%  ETA: 0:02:36\u001b[39m\u001b[34m\n",
      "  ϵ:         0.002794639942180527\u001b[39m\u001b[34m\n",
      "\u001b[32m[NUTS] Sampling... 61%  ETA: 0:02:35\u001b[39m\u001b[34m\n",
      "  ϵ:         0.002794639942180527\u001b[39m\u001b[34m\n",
      "\u001b[32m[NUTS] Sampling... 61%  ETA: 0:02:33\u001b[39m\u001b[34m\n",
      "  ϵ:         0.002794639942180527\u001b[39m\u001b[34m\n",
      "\u001b[32m[NUTS] Sampling... 61%  ETA: 0:02:32\u001b[39m\u001b[34m\n",
      "  ϵ:         0.002794639942180527\u001b[39m\u001b[34m\n",
      "\u001b[32m[NUTS] Sampling... 62%  ETA: 0:02:31\u001b[39m\u001b[34m\n",
      "  ϵ:         0.002794639942180527\u001b[39m\u001b[34m\n",
      "\u001b[32m[NUTS] Sampling... 62%  ETA: 0:02:30\u001b[39m\u001b[34m\n",
      "  ϵ:         0.002794639942180527\u001b[39m\u001b[34m\n",
      "\u001b[32m[NUTS] Sampling... 62%  ETA: 0:02:28\u001b[39m\u001b[34m\n",
      "  ϵ:         0.002794639942180527\u001b[39m\u001b[34m\n",
      "\u001b[32m[NUTS] Sampling... 62%  ETA: 0:02:27\u001b[39m\u001b[34m\n",
      "  ϵ:         0.002794639942180527\u001b[39m\u001b[34m\n",
      "\u001b[32m[NUTS] Sampling... 63%  ETA: 0:02:26\u001b[39m\u001b[34m\n",
      "  ϵ:         0.002794639942180527\u001b[39m\u001b[34m\n",
      "\u001b[32m[NUTS] Sampling... 63%  ETA: 0:02:25\u001b[39m\u001b[34m\n",
      "  ϵ:         0.002794639942180527\u001b[39m\u001b[34m\n",
      "\u001b[32m[NUTS] Sampling... 63%  ETA: 0:02:23\u001b[39m\u001b[34m\n",
      "  ϵ:         0.002794639942180527\u001b[39m\u001b[34m\n",
      "\u001b[32m[NUTS] Sampling... 64%  ETA: 0:02:22\u001b[39m\u001b[34m\n",
      "  ϵ:         0.002794639942180527\u001b[39m\u001b[34m\n",
      "\u001b[32m[NUTS] Sampling... 64%  ETA: 0:02:21\u001b[39m\u001b[34m\n",
      "  ϵ:         0.002794639942180527\u001b[39m\u001b[34m\n",
      "\u001b[32m[NUTS] Sampling... 64%  ETA: 0:02:20\u001b[39m\u001b[34m\n",
      "  ϵ:         0.002794639942180527\u001b[39m\u001b[34m\n",
      "\u001b[32m[NUTS] Sampling... 65%  ETA: 0:02:18\u001b[39m\u001b[34m\n",
      "  ϵ:         0.002794639942180527\u001b[39m\u001b[34m\n",
      "\u001b[32m[NUTS] Sampling... 65%  ETA: 0:02:17\u001b[39m\u001b[34m\n",
      "  ϵ:         0.002794639942180527\u001b[39m\u001b[34m\n",
      "\u001b[32m[NUTS] Sampling... 65%  ETA: 0:02:16\u001b[39m\u001b[34m\n",
      "  ϵ:         0.002794639942180527\u001b[39m\u001b[34m\n",
      "\u001b[32m[NUTS] Sampling... 66%  ETA: 0:02:15\u001b[39m\u001b[34m\n",
      "  ϵ:         0.002794639942180527\u001b[39m\u001b[34m\n",
      "\u001b[32m[NUTS] Sampling... 66%  ETA: 0:02:13\u001b[39m\u001b[34m\n",
      "  ϵ:         0.002794639942180527\u001b[39m\u001b[34m\n",
      "\u001b[32m[NUTS] Sampling... 66%  ETA: 0:02:12\u001b[39m\u001b[34m\n",
      "  ϵ:         0.002794639942180527\u001b[39m\u001b[34m\n",
      "\u001b[32m[NUTS] Sampling... 66%  ETA: 0:02:11\u001b[39m\u001b[34m\n",
      "  ϵ:         0.002794639942180527\u001b[39m\u001b[34m\n",
      "\u001b[32m[NUTS] Sampling... 67%  ETA: 0:02:10\u001b[39m\u001b[34m\n",
      "  ϵ:         0.002794639942180527\u001b[39m\u001b[34m\n",
      "\u001b[32m[NUTS] Sampling... 67%  ETA: 0:02:09\u001b[39m\u001b[34m\n",
      "  ϵ:         0.002794639942180527\u001b[39m\u001b[34m\n",
      "\u001b[32m[NUTS] Sampling... 67%  ETA: 0:02:08\u001b[39m\u001b[34m\n",
      "  ϵ:         0.002794639942180527\u001b[39m\u001b[34m\n",
      "\u001b[32m[NUTS] Sampling... 68%  ETA: 0:02:06\u001b[39m\u001b[34m\n",
      "  ϵ:         0.002794639942180527\u001b[39m\u001b[34m\n",
      "\u001b[32m[NUTS] Sampling... 68%  ETA: 0:02:05\u001b[39m\u001b[34m\n",
      "  ϵ:         0.002794639942180527\u001b[39m\u001b[34m\n",
      "\u001b[32m[NUTS] Sampling... 68%  ETA: 0:02:04\u001b[39m\u001b[34m\n",
      "  ϵ:         0.002794639942180527\u001b[39m\u001b[34m\n",
      "\u001b[32m[NUTS] Sampling... 68%  ETA: 0:02:03\u001b[39m\u001b[34m\n",
      "  ϵ:         0.002794639942180527\u001b[39m\u001b[34m\n",
      "\u001b[32m[NUTS] Sampling... 69%  ETA: 0:02:01\u001b[39m\u001b[34m\n",
      "  ϵ:         0.002794639942180527\u001b[39m\u001b[34m\n",
      "\u001b[32m[NUTS] Sampling... 69%  ETA: 0:02:00\u001b[39m\u001b[34m\n",
      "  ϵ:         0.002794639942180527\u001b[39m\u001b[34m\n",
      "\u001b[32m[NUTS] Sampling... 69%  ETA: 0:01:59\u001b[39m\u001b[34m\n",
      "  ϵ:         0.002794639942180527\u001b[39m\u001b[34m\n",
      "\u001b[32m[NUTS] Sampling... 70%  ETA: 0:01:58\u001b[39m\u001b[34m\n",
      "  ϵ:         0.002794639942180527\u001b[39m\u001b[34m\n",
      "\u001b[32m[NUTS] Sampling... 70%  ETA: 0:01:57\u001b[39m\u001b[34m\n",
      "  ϵ:         0.002794639942180527\u001b[39m\u001b[34m\n",
      "\u001b[32m[NUTS] Sampling... 70%  ETA: 0:01:55\u001b[39m\u001b[34m\n",
      "  ϵ:         0.002794639942180527\u001b[39m\u001b[34m\n",
      "\u001b[32m[NUTS] Sampling... 71%  ETA: 0:01:54\u001b[39m\u001b[34m\n",
      "  ϵ:         0.002794639942180527\u001b[39m\u001b[34m\n",
      "\u001b[32m[NUTS] Sampling... 71%  ETA: 0:01:53\u001b[39m\u001b[34m\n",
      "  ϵ:         0.002794639942180527\u001b[39m\u001b[34m\n",
      "\u001b[32m[NUTS] Sampling... 71%  ETA: 0:01:52\u001b[39m\u001b[34m\n",
      "  ϵ:         0.002794639942180527\u001b[39m\u001b[34m\n",
      "\u001b[32m[NUTS] Sampling... 72%  ETA: 0:01:51\u001b[39m\u001b[34m\n",
      "  ϵ:         0.002794639942180527\u001b[39m\u001b[34m\n",
      "\u001b[32m[NUTS] Sampling... 72%  ETA: 0:01:49\u001b[39m\u001b[34m\n",
      "  ϵ:         0.002794639942180527\u001b[39m\u001b[34m\n",
      "\u001b[32m[NUTS] Sampling... 72%  ETA: 0:01:48\u001b[39m\u001b[34m\n",
      "  ϵ:         0.002794639942180527\u001b[39m\u001b[34m\n",
      "\u001b[32m[NUTS] Sampling... 72%  ETA: 0:01:47\u001b[39m\u001b[34m\n",
      "  ϵ:         0.002794639942180527\u001b[39m\u001b[34m\n",
      "\u001b[32m[NUTS] Sampling... 73%  ETA: 0:01:46\u001b[39m\u001b[34m\n",
      "  ϵ:         0.002794639942180527\u001b[39m\u001b[34m\n",
      "\u001b[32m[NUTS] Sampling... 73%  ETA: 0:01:44\u001b[39m\u001b[34m\n",
      "  ϵ:         0.002794639942180527\u001b[39m\u001b[34m\n",
      "\u001b[32m[NUTS] Sampling... 73%  ETA: 0:01:43\u001b[39m\u001b[34m\n",
      "  ϵ:         0.002794639942180527\u001b[39m\u001b[34m\n",
      "\u001b[32m[NUTS] Sampling... 74%  ETA: 0:01:42\u001b[39m\u001b[34m\n",
      "  ϵ:         0.002794639942180527\u001b[39m\u001b[34m\n",
      "\u001b[32m[NUTS] Sampling... 74%  ETA: 0:01:41\u001b[39m\u001b[34m\n",
      "  ϵ:         0.002794639942180527\u001b[39m\u001b[34m\n",
      "\u001b[32m[NUTS] Sampling... 74%  ETA: 0:01:40\u001b[39m\u001b[34m\n",
      "  ϵ:         0.002794639942180527\u001b[39m\u001b[34m\n",
      "\u001b[32m[NUTS] Sampling... 74%  ETA: 0:01:38\u001b[39m\u001b[34m\n",
      "  ϵ:         0.002794639942180527\u001b[39m\u001b[34m\n",
      "\u001b[32m[NUTS] Sampling... 75%  ETA: 0:01:37\u001b[39m\u001b[34m\n",
      "  ϵ:         0.002794639942180527\u001b[39m\u001b[34m\n",
      "\u001b[32m[NUTS] Sampling... 75%  ETA: 0:01:36\u001b[39m\u001b[34m\n",
      "  ϵ:         0.002794639942180527\u001b[39m\u001b[34m\n",
      "\u001b[32m[NUTS] Sampling... 75%  ETA: 0:01:35\u001b[39m\u001b[34m\n",
      "  ϵ:         0.002794639942180527\u001b[39m\u001b[34m\n",
      "\u001b[32m[NUTS] Sampling... 76%  ETA: 0:01:34\u001b[39m\u001b[34m\n",
      "  ϵ:         0.002794639942180527\u001b[39m\u001b[34m\n",
      "\u001b[32m[NUTS] Sampling... 76%  ETA: 0:01:33\u001b[39m\u001b[34m\n",
      "  ϵ:         0.002794639942180527\u001b[39m\u001b[34m\n",
      "\u001b[32m[NUTS] Sampling... 76%  ETA: 0:01:31\u001b[39m\u001b[34m\n",
      "  ϵ:         0.002794639942180527\u001b[39m\u001b[34m\n",
      "\u001b[32m[NUTS] Sampling... 77%  ETA: 0:01:30\u001b[39m\u001b[34m\n",
      "  ϵ:         0.002794639942180527\u001b[39m\u001b[34m\n",
      "\u001b[32m[NUTS] Sampling... 77%  ETA: 0:01:29\u001b[39m\u001b[34m\n",
      "  ϵ:         0.002794639942180527\u001b[39m\u001b[34m\n",
      "\u001b[32m[NUTS] Sampling... 77%  ETA: 0:01:28\u001b[39m\u001b[34m\n",
      "  ϵ:         0.002794639942180527\u001b[39m\u001b[34m\n",
      "\u001b[32m[NUTS] Sampling... 78%  ETA: 0:01:27\u001b[39m\u001b[34m\n",
      "  ϵ:         0.002794639942180527\u001b[39m\u001b[34m\n",
      "\u001b[32m[NUTS] Sampling... 78%  ETA: 0:01:25\u001b[39m\u001b[34m\n",
      "  ϵ:         0.002794639942180527\u001b[39m\u001b[34m\n",
      "\u001b[32m[NUTS] Sampling... 78%  ETA: 0:01:24\u001b[39m\u001b[34m\n",
      "  ϵ:         0.002794639942180527\u001b[39m\u001b[34m\n",
      "\u001b[32m[NUTS] Sampling... 78%  ETA: 0:01:23\u001b[39m\u001b[34m\n",
      "  ϵ:         0.002794639942180527\u001b[39m\u001b[34m\n",
      "\u001b[32m[NUTS] Sampling... 79%  ETA: 0:01:22\u001b[39m\u001b[34m\n",
      "  ϵ:         0.002794639942180527\u001b[39m\u001b[34m\n",
      "\u001b[32m[NUTS] Sampling... 79%  ETA: 0:01:21\u001b[39m\u001b[34m\n",
      "  ϵ:         0.002794639942180527\u001b[39m\u001b[34m\n",
      "\u001b[32m[NUTS] Sampling... 79%  ETA: 0:01:20\u001b[39m\u001b[34m\n",
      "  ϵ:         0.002794639942180527\u001b[39m\u001b[34m\n",
      "\u001b[32m[NUTS] Sampling... 80%  ETA: 0:01:18\u001b[39m\u001b[34m\n",
      "  ϵ:         0.002794639942180527\u001b[39m\u001b[34m\n",
      "\u001b[32m[NUTS] Sampling... 80%  ETA: 0:01:17\u001b[39m\u001b[34m\n",
      "  ϵ:         0.002794639942180527\u001b[39m\u001b[34m\n",
      "\u001b[32m[NUTS] Sampling... 80%  ETA: 0:01:16\u001b[39m\u001b[34m\n",
      "  ϵ:         0.002794639942180527\u001b[39m\u001b[34m\n",
      "\u001b[32m[NUTS] Sampling... 80%  ETA: 0:01:15\u001b[39m\u001b[34m\n",
      "  ϵ:         0.002794639942180527\u001b[39m\u001b[34m\n",
      "\u001b[32m[NUTS] Sampling... 81%  ETA: 0:01:14\u001b[39m\u001b[34m\n",
      "  ϵ:         0.002794639942180527\u001b[39m\u001b[34m\n",
      "\u001b[32m[NUTS] Sampling... 81%  ETA: 0:01:12\u001b[39m\u001b[34m\n",
      "  ϵ:         0.002794639942180527\u001b[39m\u001b[34m\n",
      "\u001b[32m[NUTS] Sampling... 81%  ETA: 0:01:11\u001b[39m\u001b[34m\n",
      "  ϵ:         0.002794639942180527\u001b[39m\u001b[34m\n",
      "\u001b[32m[NUTS] Sampling... 82%  ETA: 0:01:10\u001b[39m\u001b[34m\n",
      "  ϵ:         0.002794639942180527\u001b[39m\u001b[34m\n",
      "\u001b[32m[NUTS] Sampling... 82%  ETA: 0:01:09\u001b[39m\u001b[34m\n",
      "  ϵ:         0.002794639942180527\u001b[39m\u001b[34m\n",
      "\u001b[32m[NUTS] Sampling... 82%  ETA: 0:01:08\u001b[39m\u001b[34m\n",
      "  ϵ:         0.002794639942180527\u001b[39m\u001b[34m\n",
      "\u001b[32m[NUTS] Sampling... 83%  ETA: 0:01:07\u001b[39m\u001b[34m\n",
      "  ϵ:         0.002794639942180527\u001b[39m\u001b[34m\n",
      "\u001b[32m[NUTS] Sampling... 83%  ETA: 0:01:05\u001b[39m\u001b[34m\n",
      "  ϵ:         0.002794639942180527\u001b[39m\u001b[34m\n",
      "\u001b[32m[NUTS] Sampling... 83%  ETA: 0:01:04\u001b[39m\u001b[34m\n",
      "  ϵ:         0.002794639942180527\u001b[39m\u001b[34m\n",
      "\u001b[32m[NUTS] Sampling... 84%  ETA: 0:01:03\u001b[39m\u001b[34m\n",
      "  ϵ:         0.002794639942180527\u001b[39m\u001b[34m\n",
      "\u001b[32m[NUTS] Sampling... 84%  ETA: 0:01:02\u001b[39m\u001b[34m\n",
      "  ϵ:         0.002794639942180527\u001b[39m\u001b[34m\n",
      "\u001b[32m[NUTS] Sampling... 84%  ETA: 0:01:01\u001b[39m\u001b[34m\n",
      "  ϵ:         0.002794639942180527\u001b[39m\u001b[34m\n",
      "\u001b[32m[NUTS] Sampling... 84%  ETA: 0:01:00\u001b[39m\u001b[34m\n",
      "  ϵ:         0.002794639942180527\u001b[39m\u001b[34m\n",
      "\u001b[32m[NUTS] Sampling... 85%  ETA: 0:00:58\u001b[39m\u001b[34m\n",
      "  ϵ:         0.002794639942180527\u001b[39m\u001b[34m\n",
      "\u001b[32m[NUTS] Sampling... 85%  ETA: 0:00:57\u001b[39m\u001b[34m\n",
      "  ϵ:         0.002794639942180527\u001b[39m\u001b[34m\n",
      "\u001b[32m[NUTS] Sampling... 85%  ETA: 0:00:56\u001b[39m\u001b[34m\n",
      "  ϵ:         0.002794639942180527\u001b[39m\u001b[34m\n",
      "\u001b[32m[NUTS] Sampling... 86%  ETA: 0:00:55\u001b[39m\u001b[34m\n",
      "  ϵ:         0.002794639942180527\u001b[39m\u001b[34m\n",
      "\u001b[32m[NUTS] Sampling... 86%  ETA: 0:00:54\u001b[39m\u001b[34m\n",
      "  ϵ:         0.002794639942180527\u001b[39m\u001b[34m\n",
      "\u001b[32m[NUTS] Sampling... 86%  ETA: 0:00:53\u001b[39m\u001b[34m\n",
      "  ϵ:         0.002794639942180527\u001b[39m\u001b[34m\n",
      "\u001b[32m[NUTS] Sampling... 86%  ETA: 0:00:52\u001b[39m\u001b[34m\n",
      "  ϵ:         0.002794639942180527\u001b[39m\u001b[34m\n",
      "\u001b[32m[NUTS] Sampling... 87%  ETA: 0:00:50\u001b[39m\u001b[34m\n",
      "  ϵ:         0.002794639942180527\u001b[39m\u001b[34m\n",
      "\u001b[32m[NUTS] Sampling... 87%  ETA: 0:00:49\u001b[39m\u001b[34m\n",
      "  ϵ:         0.002794639942180527\u001b[39m\u001b[34m\n",
      "\u001b[32m[NUTS] Sampling... 87%  ETA: 0:00:48\u001b[39m\u001b[34m\n",
      "  ϵ:         0.002794639942180527\u001b[39m\u001b[34m\n",
      "\u001b[32m[NUTS] Sampling... 88%  ETA: 0:00:47\u001b[39m\u001b[34m\n",
      "  ϵ:         0.002794639942180527\u001b[39m\u001b[34m\n",
      "\u001b[32m[NUTS] Sampling... 88%  ETA: 0:00:46\u001b[39m\u001b[34m\n",
      "  ϵ:         0.002794639942180527\u001b[39m\u001b[34m\n",
      "\u001b[32m[NUTS] Sampling... 88%  ETA: 0:00:45\u001b[39m\u001b[34m\n",
      "  ϵ:         0.002794639942180527\u001b[39m\u001b[34m\n",
      "\u001b[32m[NUTS] Sampling... 89%  ETA: 0:00:43\u001b[39m\u001b[34m\n",
      "  ϵ:         0.002794639942180527\u001b[39m\u001b[34m\n",
      "\u001b[32m[NUTS] Sampling... 89%  ETA: 0:00:42\u001b[39m\u001b[34m\n",
      "  ϵ:         0.002794639942180527\u001b[39m\u001b[34m\n",
      "\u001b[32m[NUTS] Sampling... 89%  ETA: 0:00:41\u001b[39m\u001b[34m\n",
      "  ϵ:         0.002794639942180527\u001b[39m\u001b[34m\n",
      "\u001b[32m[NUTS] Sampling... 89%  ETA: 0:00:40\u001b[39m\u001b[34m\n",
      "  ϵ:         0.002794639942180527\u001b[39m\u001b[34m\n",
      "\u001b[32m[NUTS] Sampling... 90%  ETA: 0:00:39\u001b[39m\u001b[34m\n",
      "  ϵ:         0.002794639942180527\u001b[39m\u001b[34m\n",
      "\u001b[32m[NUTS] Sampling... 90%  ETA: 0:00:38\u001b[39m\u001b[34m\n",
      "  ϵ:         0.002794639942180527\u001b[39m\u001b[34m\n",
      "\u001b[32m[NUTS] Sampling... 90%  ETA: 0:00:37\u001b[39m\u001b[34m\n",
      "  ϵ:         0.002794639942180527\u001b[39m\u001b[34m\n",
      "\u001b[32m[NUTS] Sampling... 91%  ETA: 0:00:36\u001b[39m\u001b[34m\n",
      "  ϵ:         0.002794639942180527\u001b[39m\u001b[34m\n",
      "\u001b[32m[NUTS] Sampling... 91%  ETA: 0:00:35\u001b[39m\u001b[34m\n",
      "  ϵ:         0.002794639942180527\u001b[39m\u001b[34m\n",
      "\u001b[32m[NUTS] Sampling... 91%  ETA: 0:00:34\u001b[39m\u001b[34m\n",
      "  ϵ:         0.002794639942180527\u001b[39m\u001b[34m\n",
      "\u001b[32m[NUTS] Sampling... 92%  ETA: 0:00:32\u001b[39m\u001b[34m\n",
      "  ϵ:         0.002794639942180527\u001b[39m\u001b[34m\n",
      "\u001b[32m[NUTS] Sampling... 92%  ETA: 0:00:31\u001b[39m\u001b[34m\n",
      "  ϵ:         0.002794639942180527\u001b[39m\u001b[34m\n",
      "\u001b[32m[NUTS] Sampling... 92%  ETA: 0:00:30\u001b[39m\u001b[34m\n",
      "  ϵ:         0.002794639942180527\u001b[39m\u001b[34m\n",
      "\u001b[32m[NUTS] Sampling... 92%  ETA: 0:00:29\u001b[39m\u001b[34m\n",
      "  ϵ:         0.002794639942180527\u001b[39m\u001b[34m\n",
      "\u001b[32m[NUTS] Sampling... 93%  ETA: 0:00:28\u001b[39m\u001b[34m\n",
      "  ϵ:         0.002794639942180527\u001b[39m\u001b[34m\n",
      "\u001b[32m[NUTS] Sampling... 93%  ETA: 0:00:27\u001b[39m\u001b[34m\n",
      "  ϵ:         0.002794639942180527\u001b[39m\u001b[34m\n",
      "\u001b[32m[NUTS] Sampling... 93%  ETA: 0:00:26\u001b[39m\u001b[34m\n",
      "  ϵ:         0.002794639942180527\u001b[39m\u001b[34m\n",
      "\u001b[32m[NUTS] Sampling... 94%  ETA: 0:00:24\u001b[39m\u001b[34m\n",
      "  ϵ:         0.002794639942180527\u001b[39m\u001b[34m\n",
      "\u001b[32m[NUTS] Sampling... 94%  ETA: 0:00:23\u001b[39m\u001b[34m\n",
      "  ϵ:         0.002794639942180527\u001b[39m\u001b[34m\n",
      "\u001b[32m[NUTS] Sampling... 94%  ETA: 0:00:22\u001b[39m\u001b[34m\n",
      "  ϵ:         0.002794639942180527\u001b[39m\u001b[34m\n",
      "\u001b[32m[NUTS] Sampling... 94%  ETA: 0:00:21\u001b[39m\u001b[34m\n",
      "  ϵ:         0.002794639942180527\u001b[39m\u001b[34m\n",
      "\u001b[32m[NUTS] Sampling... 95%  ETA: 0:00:20\u001b[39m\u001b[34m\n",
      "  ϵ:         0.002794639942180527\u001b[39m\u001b[34m\n",
      "\u001b[32m[NUTS] Sampling... 95%  ETA: 0:00:19\u001b[39m\u001b[34m\n",
      "  ϵ:         0.002794639942180527\u001b[39m\u001b[34m\n",
      "\u001b[32m[NUTS] Sampling... 95%  ETA: 0:00:18\u001b[39m\u001b[34m\n",
      "  ϵ:         0.002794639942180527\u001b[39m\u001b[34m\n",
      "\u001b[32m[NUTS] Sampling... 96%  ETA: 0:00:16\u001b[39m\u001b[34m\n",
      "  ϵ:         0.002794639942180527\u001b[39m\u001b[34m\n",
      "\u001b[32m[NUTS] Sampling... 96%  ETA: 0:00:15\u001b[39m\u001b[34m\n",
      "  ϵ:         0.002794639942180527\u001b[39m\u001b[34m\n",
      "\u001b[32m[NUTS] Sampling... 96%  ETA: 0:00:14\u001b[39m\u001b[34m\n",
      "  ϵ:         0.002794639942180527\u001b[39m\u001b[34m\n",
      "\u001b[32m[NUTS] Sampling... 97%  ETA: 0:00:13\u001b[39m\u001b[34m\n",
      "  ϵ:         0.002794639942180527\u001b[39m\u001b[34m\n",
      "\u001b[32m[NUTS] Sampling... 97%  ETA: 0:00:12\u001b[39m\u001b[34m\n",
      "  ϵ:         0.002794639942180527\u001b[39m\u001b[34m\n",
      "\u001b[32m[NUTS] Sampling... 97%  ETA: 0:00:11\u001b[39m\u001b[34m\n",
      "  ϵ:         0.002794639942180527\u001b[39m\u001b[34m\n",
      "\u001b[32m[NUTS] Sampling... 98%  ETA: 0:00:10\u001b[39m\u001b[34m\n",
      "  ϵ:         0.002794639942180527\u001b[39m\u001b[34m\n",
      "\u001b[32m[NUTS] Sampling... 98%  ETA: 0:00:08\u001b[39m\u001b[34m\n",
      "  ϵ:         0.002794639942180527\u001b[39m\u001b[34m\n",
      "\u001b[32m[NUTS] Sampling... 98%  ETA: 0:00:07\u001b[39m\u001b[34m\n",
      "  ϵ:         0.002794639942180527\u001b[39m\u001b[34m\n",
      "\u001b[32m[NUTS] Sampling... 98%  ETA: 0:00:06\u001b[39m\u001b[34m\n",
      "  ϵ:         0.002794639942180527\u001b[39m\u001b[34m\n",
      "\u001b[32m[NUTS] Sampling... 99%  ETA: 0:00:05\u001b[39m\u001b[34m\n",
      "  ϵ:         0.002794639942180527\u001b[39m\u001b[34m\n",
      "\u001b[32m[NUTS] Sampling... 99%  ETA: 0:00:04\u001b[39m\u001b[34m\n",
      "  ϵ:         0.002794639942180527\u001b[39m\u001b[34m\n",
      "\u001b[32m[NUTS] Sampling... 99%  ETA: 0:00:03\u001b[39m\u001b[34m\n",
      "  ϵ:         0.002794639942180527\u001b[39m\u001b[34m\n",
      "\u001b[32m[NUTS] Sampling...100%  ETA: 0:00:02\u001b[39m\u001b[34m\n",
      "  ϵ:         0.002794639942180527\u001b[39m\u001b[34m\n",
      "  pre_cond:  [0.346509, 0.636065, 0.370214,...\u001b[39m"
     ]
    },
    {
     "name": "stdout",
     "output_type": "stream",
     "text": [
      "[NUTS] Finished with\n",
      "  Running time        = 378.38899317000005;\n",
      "  #lf / sample        = 0.002;\n",
      "  #evals / sample     = 63.856;\n",
      "  pre-cond. diag mat  = [0.346509, 0.636065, 0.370214,....\n"
     ]
    },
    {
     "name": "stderr",
     "output_type": "stream",
     "text": [
      "\r",
      "\u001b[K\u001b[A\r",
      "\u001b[K\u001b[A\r",
      "\u001b[32m[NUTS] Sampling...100%  ETA: 0:00:00\u001b[39m\u001b[34m\n",
      "  ϵ:         0.002794639942180527\u001b[39m\u001b[34m\n",
      "  pre_cond:  [0.346509, 0.636065, 0.370214,...\u001b[39m\r",
      "\u001b[K\u001b[A\r",
      "\u001b[K\u001b[A\r",
      "\u001b[32m[NUTS] Sampling...100% Time: 0:06:19\u001b[39m\n"
     ]
    },
    {
     "data": {
      "text/plain": [
       "Object of type \"Turing.Chain\"\n",
       "\n",
       "Iterations = 1:1000\n",
       "Thinning interval = 1\n",
       "Chains = 1\n",
       "Samples per chain = 1000\n",
       "\n",
       "[0.171651 0.229495 … 0.012638 0.00321615; 0.00565731 0.00140171 … 5.95507e-5 0.0511072; … ; 5.22381e-5 5.05801e-6 … 0.0298301 4.75793e-6; 4.45817e-5 6.28475e-6 … 0.030462 4.73971e-6]"
      ]
     },
     "execution_count": 15,
     "metadata": {},
     "output_type": "execute_result"
    }
   ],
   "source": [
    "lda_vec_chn = sample(ldamodel(data=lda_data),\n",
    "                     NUTS(1000, 500, 0.65))"
   ]
  },
  {
   "cell_type": "code",
   "execution_count": 16,
   "metadata": {},
   "outputs": [
    {
     "data": {
      "image/svg+xml": [
       "<?xml version=\"1.0\" encoding=\"utf-8\"?>\n",
       "<svg xmlns=\"http://www.w3.org/2000/svg\" xmlns:xlink=\"http://www.w3.org/1999/xlink\" width=\"600\" height=\"400\" viewBox=\"0 0 600 400\">\n",
       "<defs>\n",
       "  <clipPath id=\"clip9900\">\n",
       "    <rect x=\"0\" y=\"0\" width=\"600\" height=\"400\"/>\n",
       "  </clipPath>\n",
       "</defs>\n",
       "<polygon clip-path=\"url(#clip9900)\" points=\"\n",
       "0,400 600,400 600,0 0,0 \n",
       "  \" fill=\"#ffffff\" fill-opacity=\"1\"/>\n",
       "<defs>\n",
       "  <clipPath id=\"clip9901\">\n",
       "    <rect x=\"120\" y=\"0\" width=\"421\" height=\"400\"/>\n",
       "  </clipPath>\n",
       "</defs>\n",
       "<polygon clip-path=\"url(#clip9900)\" points=\"\n",
       "39.1651,375.869 580.315,375.869 580.315,11.811 39.1651,11.811 \n",
       "  \" fill=\"#ffffff\" fill-opacity=\"1\"/>\n",
       "<defs>\n",
       "  <clipPath id=\"clip9902\">\n",
       "    <rect x=\"39\" y=\"11\" width=\"542\" height=\"365\"/>\n",
       "  </clipPath>\n",
       "</defs>\n",
       "<polyline clip-path=\"url(#clip9902)\" style=\"stroke:#000000; stroke-width:0.5; stroke-opacity:0.1; fill:none\" points=\"\n",
       "  146.962,375.869 146.962,11.811 \n",
       "  \"/>\n",
       "<polyline clip-path=\"url(#clip9902)\" style=\"stroke:#000000; stroke-width:0.5; stroke-opacity:0.1; fill:none\" points=\"\n",
       "  255.3,375.869 255.3,11.811 \n",
       "  \"/>\n",
       "<polyline clip-path=\"url(#clip9902)\" style=\"stroke:#000000; stroke-width:0.5; stroke-opacity:0.1; fill:none\" points=\"\n",
       "  363.638,375.869 363.638,11.811 \n",
       "  \"/>\n",
       "<polyline clip-path=\"url(#clip9902)\" style=\"stroke:#000000; stroke-width:0.5; stroke-opacity:0.1; fill:none\" points=\"\n",
       "  471.977,375.869 471.977,11.811 \n",
       "  \"/>\n",
       "<polyline clip-path=\"url(#clip9902)\" style=\"stroke:#000000; stroke-width:0.5; stroke-opacity:0.1; fill:none\" points=\"\n",
       "  580.315,375.869 580.315,11.811 \n",
       "  \"/>\n",
       "<polyline clip-path=\"url(#clip9902)\" style=\"stroke:#000000; stroke-width:0.5; stroke-opacity:0.1; fill:none\" points=\"\n",
       "  39.1651,327.871 580.315,327.871 \n",
       "  \"/>\n",
       "<polyline clip-path=\"url(#clip9902)\" style=\"stroke:#000000; stroke-width:0.5; stroke-opacity:0.1; fill:none\" points=\"\n",
       "  39.1651,279.679 580.315,279.679 \n",
       "  \"/>\n",
       "<polyline clip-path=\"url(#clip9902)\" style=\"stroke:#000000; stroke-width:0.5; stroke-opacity:0.1; fill:none\" points=\"\n",
       "  39.1651,231.488 580.315,231.488 \n",
       "  \"/>\n",
       "<polyline clip-path=\"url(#clip9902)\" style=\"stroke:#000000; stroke-width:0.5; stroke-opacity:0.1; fill:none\" points=\"\n",
       "  39.1651,183.296 580.315,183.296 \n",
       "  \"/>\n",
       "<polyline clip-path=\"url(#clip9902)\" style=\"stroke:#000000; stroke-width:0.5; stroke-opacity:0.1; fill:none\" points=\"\n",
       "  39.1651,135.104 580.315,135.104 \n",
       "  \"/>\n",
       "<polyline clip-path=\"url(#clip9902)\" style=\"stroke:#000000; stroke-width:0.5; stroke-opacity:0.1; fill:none\" points=\"\n",
       "  39.1651,86.9125 580.315,86.9125 \n",
       "  \"/>\n",
       "<polyline clip-path=\"url(#clip9902)\" style=\"stroke:#000000; stroke-width:0.5; stroke-opacity:0.1; fill:none\" points=\"\n",
       "  39.1651,38.7207 580.315,38.7207 \n",
       "  \"/>\n",
       "<polyline clip-path=\"url(#clip9900)\" style=\"stroke:#000000; stroke-width:1; stroke-opacity:1; fill:none\" points=\"\n",
       "  39.1651,375.869 580.315,375.869 \n",
       "  \"/>\n",
       "<polyline clip-path=\"url(#clip9900)\" style=\"stroke:#000000; stroke-width:1; stroke-opacity:1; fill:none\" points=\"\n",
       "  39.1651,375.869 39.1651,11.811 \n",
       "  \"/>\n",
       "<polyline clip-path=\"url(#clip9900)\" style=\"stroke:#000000; stroke-width:1; stroke-opacity:1; fill:none\" points=\"\n",
       "  146.962,375.869 146.962,370.408 \n",
       "  \"/>\n",
       "<polyline clip-path=\"url(#clip9900)\" style=\"stroke:#000000; stroke-width:1; stroke-opacity:1; fill:none\" points=\"\n",
       "  255.3,375.869 255.3,370.408 \n",
       "  \"/>\n",
       "<polyline clip-path=\"url(#clip9900)\" style=\"stroke:#000000; stroke-width:1; stroke-opacity:1; fill:none\" points=\"\n",
       "  363.638,375.869 363.638,370.408 \n",
       "  \"/>\n",
       "<polyline clip-path=\"url(#clip9900)\" style=\"stroke:#000000; stroke-width:1; stroke-opacity:1; fill:none\" points=\"\n",
       "  471.977,375.869 471.977,370.408 \n",
       "  \"/>\n",
       "<polyline clip-path=\"url(#clip9900)\" style=\"stroke:#000000; stroke-width:1; stroke-opacity:1; fill:none\" points=\"\n",
       "  580.315,375.869 580.315,370.408 \n",
       "  \"/>\n",
       "<polyline clip-path=\"url(#clip9900)\" style=\"stroke:#000000; stroke-width:1; stroke-opacity:1; fill:none\" points=\"\n",
       "  39.1651,327.871 47.2823,327.871 \n",
       "  \"/>\n",
       "<polyline clip-path=\"url(#clip9900)\" style=\"stroke:#000000; stroke-width:1; stroke-opacity:1; fill:none\" points=\"\n",
       "  39.1651,279.679 47.2823,279.679 \n",
       "  \"/>\n",
       "<polyline clip-path=\"url(#clip9900)\" style=\"stroke:#000000; stroke-width:1; stroke-opacity:1; fill:none\" points=\"\n",
       "  39.1651,231.488 47.2823,231.488 \n",
       "  \"/>\n",
       "<polyline clip-path=\"url(#clip9900)\" style=\"stroke:#000000; stroke-width:1; stroke-opacity:1; fill:none\" points=\"\n",
       "  39.1651,183.296 47.2823,183.296 \n",
       "  \"/>\n",
       "<polyline clip-path=\"url(#clip9900)\" style=\"stroke:#000000; stroke-width:1; stroke-opacity:1; fill:none\" points=\"\n",
       "  39.1651,135.104 47.2823,135.104 \n",
       "  \"/>\n",
       "<polyline clip-path=\"url(#clip9900)\" style=\"stroke:#000000; stroke-width:1; stroke-opacity:1; fill:none\" points=\"\n",
       "  39.1651,86.9125 47.2823,86.9125 \n",
       "  \"/>\n",
       "<polyline clip-path=\"url(#clip9900)\" style=\"stroke:#000000; stroke-width:1; stroke-opacity:1; fill:none\" points=\"\n",
       "  39.1651,38.7207 47.2823,38.7207 \n",
       "  \"/>\n",
       "<g clip-path=\"url(#clip9900)\">\n",
       "<text style=\"fill:#000000; fill-opacity:1; font-family:Arial,Helvetica Neue,Helvetica,sans-serif; font-size:12; text-anchor:middle;\" transform=\"rotate(0, 146.962, 389.669)\" x=\"146.962\" y=\"389.669\">200</text>\n",
       "</g>\n",
       "<g clip-path=\"url(#clip9900)\">\n",
       "<text style=\"fill:#000000; fill-opacity:1; font-family:Arial,Helvetica Neue,Helvetica,sans-serif; font-size:12; text-anchor:middle;\" transform=\"rotate(0, 255.3, 389.669)\" x=\"255.3\" y=\"389.669\">400</text>\n",
       "</g>\n",
       "<g clip-path=\"url(#clip9900)\">\n",
       "<text style=\"fill:#000000; fill-opacity:1; font-family:Arial,Helvetica Neue,Helvetica,sans-serif; font-size:12; text-anchor:middle;\" transform=\"rotate(0, 363.638, 389.669)\" x=\"363.638\" y=\"389.669\">600</text>\n",
       "</g>\n",
       "<g clip-path=\"url(#clip9900)\">\n",
       "<text style=\"fill:#000000; fill-opacity:1; font-family:Arial,Helvetica Neue,Helvetica,sans-serif; font-size:12; text-anchor:middle;\" transform=\"rotate(0, 471.977, 389.669)\" x=\"471.977\" y=\"389.669\">800</text>\n",
       "</g>\n",
       "<g clip-path=\"url(#clip9900)\">\n",
       "<text style=\"fill:#000000; fill-opacity:1; font-family:Arial,Helvetica Neue,Helvetica,sans-serif; font-size:12; text-anchor:middle;\" transform=\"rotate(0, 580.315, 389.669)\" x=\"580.315\" y=\"389.669\">1000</text>\n",
       "</g>\n",
       "<g clip-path=\"url(#clip9900)\">\n",
       "<text style=\"fill:#000000; fill-opacity:1; font-family:Arial,Helvetica Neue,Helvetica,sans-serif; font-size:12; text-anchor:end;\" transform=\"rotate(0, 33.1651, 332.371)\" x=\"33.1651\" y=\"332.371\">0.25</text>\n",
       "</g>\n",
       "<g clip-path=\"url(#clip9900)\">\n",
       "<text style=\"fill:#000000; fill-opacity:1; font-family:Arial,Helvetica Neue,Helvetica,sans-serif; font-size:12; text-anchor:end;\" transform=\"rotate(0, 33.1651, 284.179)\" x=\"33.1651\" y=\"284.179\">0.50</text>\n",
       "</g>\n",
       "<g clip-path=\"url(#clip9900)\">\n",
       "<text style=\"fill:#000000; fill-opacity:1; font-family:Arial,Helvetica Neue,Helvetica,sans-serif; font-size:12; text-anchor:end;\" transform=\"rotate(0, 33.1651, 235.988)\" x=\"33.1651\" y=\"235.988\">0.75</text>\n",
       "</g>\n",
       "<g clip-path=\"url(#clip9900)\">\n",
       "<text style=\"fill:#000000; fill-opacity:1; font-family:Arial,Helvetica Neue,Helvetica,sans-serif; font-size:12; text-anchor:end;\" transform=\"rotate(0, 33.1651, 187.796)\" x=\"33.1651\" y=\"187.796\">1.00</text>\n",
       "</g>\n",
       "<g clip-path=\"url(#clip9900)\">\n",
       "<text style=\"fill:#000000; fill-opacity:1; font-family:Arial,Helvetica Neue,Helvetica,sans-serif; font-size:12; text-anchor:end;\" transform=\"rotate(0, 33.1651, 139.604)\" x=\"33.1651\" y=\"139.604\">1.25</text>\n",
       "</g>\n",
       "<g clip-path=\"url(#clip9900)\">\n",
       "<text style=\"fill:#000000; fill-opacity:1; font-family:Arial,Helvetica Neue,Helvetica,sans-serif; font-size:12; text-anchor:end;\" transform=\"rotate(0, 33.1651, 91.4125)\" x=\"33.1651\" y=\"91.4125\">1.50</text>\n",
       "</g>\n",
       "<g clip-path=\"url(#clip9900)\">\n",
       "<text style=\"fill:#000000; fill-opacity:1; font-family:Arial,Helvetica Neue,Helvetica,sans-serif; font-size:12; text-anchor:end;\" transform=\"rotate(0, 33.1651, 43.2207)\" x=\"33.1651\" y=\"43.2207\">1.75</text>\n",
       "</g>\n",
       "<polyline clip-path=\"url(#clip9902)\" style=\"stroke:#009af9; stroke-width:1; stroke-opacity:1; fill:none\" points=\"\n",
       "  39.1651,356.786 39.7068,11.811 40.2485,281.016 40.7902,360.73 41.3318,341.347 41.8735,359.683 42.4152,332.184 42.9569,299.751 43.4986,366.256 44.0403,347.176 \n",
       "  44.582,290.053 45.1237,365.015 45.6654,342.512 46.2071,277.146 46.7488,362.981 47.2905,336.831 47.8321,271.781 48.3738,361.674 48.9155,337.873 49.4572,350.901 \n",
       "  49.9989,309.301 50.5406,366.205 51.0823,350.014 51.624,333.906 52.1657,334.485 52.7074,342.084 53.2491,337.541 53.7908,296.764 54.3324,362.991 54.8741,340.912 \n",
       "  55.4158,329.187 55.9575,338.542 56.4992,332.234 57.0409,361.935 57.5826,344.266 58.1243,347.73 58.666,309.471 59.2077,363.58 59.7494,346.614 60.2911,328.699 \n",
       "  60.8327,304.879 61.3744,362.043 61.9161,343.29 62.4578,298.799 62.9995,360.312 63.5412,339.105 64.0829,356.489 64.6246,339.533 65.1663,352.964 65.708,349.085 \n",
       "  66.2497,329.913 66.7913,356.826 67.333,341.499 67.8747,307.294 68.4164,360.503 68.9581,342.322 69.4998,307.928 70.0415,360.215 70.5832,344.265 71.1249,337.124 \n",
       "  71.6666,330.355 72.2083,343.918 72.75,354.587 73.2916,346.64 73.8333,337.793 74.375,353.073 74.9167,349.055 75.4584,336.837 76.0001,307.144 76.5418,358.398 \n",
       "  77.0835,344.494 77.6252,319.347 78.1669,361.194 78.7086,345.087 79.2503,350.738 79.7919,342.441 80.3336,335.774 80.8753,338.213 81.417,345.629 81.9587,315.47 \n",
       "  82.5004,359.322 83.0421,345.707 83.5838,352.356 84.1255,341.652 84.6672,315.99 85.2089,358.958 85.7506,345.338 86.2922,332.9 86.8339,345.384 87.3756,356.487 \n",
       "  87.9173,342.081 88.459,330.846 89.0007,337.127 89.5424,337.12 90.0841,335.803 90.6258,362.23 91.1675,350.366 91.7092,341.157 92.2509,324.173 92.7925,344.827 \n",
       "  93.3342,280.254 93.8759,361.477 94.4176,356.701 94.9593,348.509 95.501,350.622 96.0427,372.813 96.5844,375.665 97.1261,375.665 97.6678,375.665 98.2095,375.665 \n",
       "  98.7512,375.665 99.2928,375.665 99.8345,375.665 100.376,375.665 100.918,375.665 101.46,375.665 102.001,375.665 102.543,375.665 103.085,375.665 103.626,375.665 \n",
       "  104.168,375.665 104.71,375.665 105.251,375.665 105.793,375.665 106.335,375.665 106.877,375.665 107.418,375.665 107.96,375.665 108.502,375.665 109.043,375.665 \n",
       "  109.585,375.665 110.127,375.665 110.668,375.665 111.21,375.665 111.752,375.665 112.293,375.665 112.835,375.665 113.377,375.665 113.919,375.665 114.46,375.665 \n",
       "  115.002,375.665 115.544,375.665 116.085,375.665 116.627,375.665 117.169,375.665 117.71,375.665 118.252,375.665 118.794,375.665 119.335,375.665 119.877,369.583 \n",
       "  120.419,349.724 120.961,334.518 121.502,366.686 122.044,353.895 122.586,373.016 123.127,374.55 123.669,373.531 124.211,375.741 124.752,375.741 125.294,375.362 \n",
       "  125.836,375.362 126.377,375.362 126.919,375.824 127.461,375.329 128.002,375.329 128.544,374.163 129.086,375.767 129.628,375.172 130.169,373.421 130.711,375.67 \n",
       "  131.253,375.057 131.794,375.057 132.336,375.339 132.878,375.339 133.419,375.339 133.961,375.835 134.503,375.475 135.044,375.716 135.586,375.219 136.128,374.988 \n",
       "  136.67,373.186 137.211,375.542 137.753,375.353 138.295,375.133 138.836,374.774 139.378,373.061 139.92,375.491 140.461,375.813 141.003,375.813 141.545,375.813 \n",
       "  142.086,375.52 142.628,374.718 143.17,375.047 143.712,375.423 144.253,375.134 144.795,374.169 145.337,375.654 145.878,375.654 146.42,375.332 146.962,374.925 \n",
       "  147.503,373.412 148.045,375.454 148.587,375.441 149.128,375.517 149.67,374.811 150.212,373.245 150.754,375.315 151.295,375.158 151.837,375.793 152.379,375.459 \n",
       "  152.92,375.843 153.462,375.573 154.004,375.573 154.545,375.84 155.087,375.838 155.629,375.788 156.17,375.466 156.712,375.748 157.254,375.761 157.796,375.417 \n",
       "  158.337,374.691 158.879,375.67 159.421,375.773 159.962,375.453 160.504,375.659 161.046,375.299 161.587,375.558 162.129,375.706 162.671,375.343 163.212,375.366 \n",
       "  163.754,375.535 164.296,374.986 164.838,375.337 165.379,375.832 165.921,375.702 166.463,375.498 167.004,375.695 167.546,375.694 168.088,375.854 168.629,375.774 \n",
       "  169.171,375.782 169.713,375.507 170.254,375.628 170.796,375.209 171.338,374.398 171.88,375.537 172.421,375.384 172.963,374.748 173.505,375.624 174.046,375.497 \n",
       "  174.588,372.022 175.13,375.273 175.671,375.273 176.213,375.273 176.755,375.802 177.296,375.802 177.838,375.517 178.38,375.797 178.922,375.271 179.463,375.551 \n",
       "  180.005,374.512 180.547,375.56 181.088,374.538 181.63,375.856 182.172,375.438 182.713,375.248 183.255,375.079 183.797,375.079 184.338,375.588 184.88,375.856 \n",
       "  185.422,375.856 185.963,375.848 186.505,375.811 187.047,375.68 187.589,374.998 188.13,374.562 188.672,373.613 189.214,375.639 189.755,375.248 190.297,375.673 \n",
       "  190.839,375.584 191.38,375.804 191.922,375.743 192.464,375.258 193.005,375.258 193.547,375.78 194.089,375.78 194.631,375.407 195.172,375.407 195.714,375.841 \n",
       "  196.256,375.521 196.797,375.521 197.339,375.538 197.881,375.538 198.422,375.538 198.964,375.628 199.506,375.77 200.047,375.403 200.589,375.403 201.131,375.788 \n",
       "  201.673,375.427 202.214,374.903 202.756,375.7 203.298,375.7 203.839,375.861 204.381,375.861 204.923,375.809 205.464,375.495 206.006,374.809 206.548,375.747 \n",
       "  207.089,375.747 207.631,375.747 208.173,375.648 208.715,375.166 209.256,374.667 209.798,374.627 210.34,375.684 210.881,375.256 211.423,375.703 211.965,375.801 \n",
       "  212.506,375.511 213.048,374.91 213.59,373.673 214.131,375.421 214.673,374.861 215.215,375.689 215.757,375.698 216.298,375.316 216.84,375.74 217.382,375.807 \n",
       "  217.923,375.665 218.465,375.259 219.007,375.812 219.548,375.812 220.09,375.571 220.632,375.839 221.173,375.778 221.715,375.703 222.257,375.837 222.799,375.826 \n",
       "  223.34,375.598 223.882,375.155 224.424,374.3 224.965,375.527 225.507,375.026 226.049,375.289 226.59,375.02 227.132,375.328 227.674,375.774 228.215,375.699 \n",
       "  228.757,375.768 229.299,375.503 229.841,375.48 230.382,375.48 230.924,375.791 231.466,375.55 232.007,375.767 232.549,375.752 233.091,375.482 233.632,375.849 \n",
       "  234.174,375.665 234.716,375.325 235.257,375.781 235.799,375.542 236.341,375.331 236.883,375.688 237.424,375.526 237.966,375.726 238.508,375.826 239.049,375.631 \n",
       "  239.591,375.769 240.133,375.769 240.674,375.644 241.216,375.724 241.758,375.724 242.299,375.724 242.841,375.469 243.383,375.786 243.924,375.567 244.466,375.665 \n",
       "  245.008,375.354 245.55,375.803 246.091,375.641 246.633,375.526 247.175,375.114 247.716,375.725 248.258,375.603 248.8,375.255 249.341,375.525 249.883,375.471 \n",
       "  250.425,375.385 250.966,375.657 251.508,375.374 252.05,375.53 252.592,375.738 253.133,375.738 253.675,375.769 254.217,375.701 254.758,375.792 255.3,375.706 \n",
       "  255.842,375.836 256.383,375.784 256.925,375.584 257.467,375.714 258.008,375.467 258.55,375.047 259.092,374.687 259.634,375.536 260.175,375.168 260.717,375.254 \n",
       "  261.259,375.324 261.8,374.815 262.342,375.007 262.884,374.288 263.425,375.336 263.967,375.704 264.509,375.46 265.05,375.714 265.592,375.704 266.134,375.704 \n",
       "  266.676,375.704 267.217,375.473 267.759,375.766 268.301,375.648 268.842,375.584 269.384,375.75 269.926,375.545 270.467,375.7 271.009,375.682 271.551,375.434 \n",
       "  272.092,375.441 272.634,375.041 273.176,375.578 273.718,375.268 274.259,375.318 274.801,375.734 275.343,375.797 275.884,375.806 276.426,375.757 276.968,375.703 \n",
       "  277.509,375.623 278.051,375.803 278.593,375.64 279.134,375.501 279.676,375.702 280.218,375.76 280.76,375.573 281.301,375.78 281.843,375.861 282.385,375.604 \n",
       "  282.926,374.146 283.468,375.728 284.01,375.458 284.551,375.225 285.093,375.225 285.635,375.285 286.176,375.285 286.718,375.285 287.26,375.285 287.802,375.285 \n",
       "  288.343,375.462 288.885,375.127 289.427,375.81 289.968,375.81 290.51,375.81 291.052,375.572 291.593,375.242 292.135,375.656 292.677,375.656 293.218,374.958 \n",
       "  293.76,375.864 294.302,375.869 294.844,375.618 295.385,374.818 295.927,375.832 296.469,375.828 297.01,375.828 297.552,375.857 298.094,375.508 298.635,375.729 \n",
       "  299.177,375.181 299.719,375.792 300.26,375.356 300.802,374.422 301.344,375.672 301.885,375.246 302.427,375.86 302.969,375.552 303.511,375.552 304.052,375.67 \n",
       "  304.594,375.104 305.136,375.82 305.677,375.473 306.219,374.648 306.761,374.712 307.302,375.726 307.844,375.726 308.386,375.726 308.927,375.726 309.469,375.343 \n",
       "  310.011,375.524 310.553,375.524 311.094,375.524 311.636,375.524 312.178,375.524 312.719,375.524 313.261,375.524 313.803,375.524 314.344,375.524 314.886,375.524 \n",
       "  315.428,375.524 315.969,375.524 316.511,375.524 317.053,375.524 317.595,375.524 318.136,375.524 318.678,375.524 319.22,375.524 319.761,375.524 320.303,375.524 \n",
       "  320.845,375.524 321.386,375.524 321.928,375.524 322.47,375.524 323.011,375.524 323.553,375.524 324.095,375.524 324.637,375.524 325.178,375.524 325.72,375.524 \n",
       "  326.262,375.524 326.803,375.524 327.345,375.524 327.887,375.524 328.428,375.524 328.97,375.524 329.512,375.524 330.053,375.524 330.595,375.524 331.137,375.524 \n",
       "  331.679,375.524 332.22,375.524 332.762,375.524 333.304,375.524 333.845,375.524 334.387,375.524 334.929,375.524 335.47,375.524 336.012,375.524 336.554,375.524 \n",
       "  337.095,375.524 337.637,375.524 338.179,375.524 338.721,375.524 339.262,375.524 339.804,375.524 340.346,375.524 340.887,375.524 341.429,375.524 341.971,375.524 \n",
       "  342.512,375.524 343.054,375.524 343.596,375.524 344.137,375.524 344.679,375.524 345.221,375.524 345.763,375.524 346.304,375.524 346.846,375.524 347.388,375.524 \n",
       "  347.929,375.524 348.471,375.524 349.013,375.524 349.554,375.524 350.096,375.524 350.638,375.524 351.179,375.524 351.721,375.524 352.263,375.524 352.804,375.524 \n",
       "  353.346,375.524 353.888,375.524 354.43,375.524 354.971,375.524 355.513,375.524 356.055,375.524 356.596,375.524 357.138,375.524 357.68,375.524 358.221,375.524 \n",
       "  358.763,375.524 359.305,375.524 359.846,375.524 360.388,375.524 360.93,375.524 361.472,375.524 362.013,375.524 362.555,375.524 363.097,375.524 363.638,375.524 \n",
       "  364.18,375.524 364.722,375.524 365.263,375.524 365.805,375.524 366.347,375.524 366.888,375.524 367.43,375.524 367.972,375.524 368.514,375.524 369.055,375.524 \n",
       "  369.597,375.524 370.139,375.524 370.68,375.524 371.222,375.524 371.764,375.524 372.305,375.524 372.847,375.524 373.389,375.524 373.93,375.524 374.472,375.524 \n",
       "  375.014,375.524 375.556,375.524 376.097,375.524 376.639,375.524 377.181,375.524 377.722,375.524 378.264,375.524 378.806,375.524 379.347,375.524 379.889,375.524 \n",
       "  380.431,375.524 380.972,375.524 381.514,375.524 382.056,375.524 382.598,375.524 383.139,375.524 383.681,375.524 384.223,375.524 384.764,375.524 385.306,375.524 \n",
       "  385.848,375.524 386.389,375.524 386.931,375.524 387.473,375.524 388.014,375.524 388.556,375.524 389.098,375.524 389.64,375.524 390.181,375.524 390.723,375.524 \n",
       "  391.265,375.524 391.806,375.524 392.348,375.524 392.89,375.524 393.431,375.524 393.973,375.524 394.515,375.524 395.056,375.524 395.598,375.524 396.14,375.524 \n",
       "  396.682,375.524 397.223,375.524 397.765,375.524 398.307,375.524 398.848,375.524 399.39,375.524 399.932,375.524 400.473,375.524 401.015,375.524 401.557,375.524 \n",
       "  402.098,375.524 402.64,375.524 403.182,375.524 403.724,375.524 404.265,375.524 404.807,375.524 405.349,375.524 405.89,375.524 406.432,375.524 406.974,375.524 \n",
       "  407.515,375.524 408.057,375.524 408.599,375.524 409.14,375.524 409.682,375.524 410.224,375.524 410.765,375.524 411.307,375.524 411.849,375.524 412.391,375.524 \n",
       "  412.932,375.524 413.474,375.524 414.016,375.524 414.557,375.524 415.099,375.524 415.641,375.524 416.182,375.524 416.724,375.524 417.266,375.524 417.807,375.524 \n",
       "  418.349,375.524 418.891,375.524 419.433,375.524 419.974,375.524 420.516,375.524 421.058,375.524 421.599,375.524 422.141,375.524 422.683,375.524 423.224,375.524 \n",
       "  423.766,375.524 424.308,375.524 424.849,375.524 425.391,375.524 425.933,375.524 426.475,375.524 427.016,375.524 427.558,375.524 428.1,375.524 428.641,375.524 \n",
       "  429.183,375.524 429.725,375.524 430.266,375.524 430.808,375.524 431.35,375.524 431.891,375.524 432.433,375.524 432.975,375.524 433.517,375.524 434.058,375.524 \n",
       "  434.6,375.524 435.142,375.524 435.683,375.524 436.225,375.524 436.767,375.524 437.308,375.524 437.85,375.524 438.392,375.524 438.933,375.524 439.475,375.524 \n",
       "  440.017,375.524 440.559,375.524 441.1,375.524 441.642,375.524 442.184,375.524 442.725,375.524 443.267,375.524 443.809,375.524 444.35,375.524 444.892,375.524 \n",
       "  445.434,375.524 445.975,375.524 446.517,375.524 447.059,375.524 447.601,375.524 448.142,375.524 448.684,375.524 449.226,375.524 449.767,375.524 450.309,375.524 \n",
       "  450.851,375.524 451.392,375.524 451.934,375.524 452.476,375.524 453.017,375.524 453.559,375.524 454.101,375.524 454.643,375.524 455.184,375.524 455.726,375.524 \n",
       "  456.268,375.524 456.809,375.524 457.351,375.524 457.893,375.524 458.434,375.524 458.976,375.524 459.518,375.524 460.059,375.524 460.601,375.524 461.143,375.524 \n",
       "  461.685,375.524 462.226,375.524 462.768,375.524 463.31,375.524 463.851,375.524 464.393,375.524 464.935,375.524 465.476,375.524 466.018,375.524 466.56,375.524 \n",
       "  467.101,375.524 467.643,375.524 468.185,375.524 468.726,375.524 469.268,375.524 469.81,375.524 470.352,375.524 470.893,375.524 471.435,375.524 471.977,375.524 \n",
       "  472.518,375.524 473.06,375.524 473.602,375.524 474.143,375.524 474.685,375.524 475.227,375.524 475.768,375.524 476.31,375.524 476.852,375.524 477.394,375.524 \n",
       "  477.935,375.524 478.477,375.524 479.019,375.524 479.56,375.524 480.102,375.524 480.644,375.524 481.185,375.524 481.727,375.524 482.269,375.524 482.81,375.524 \n",
       "  483.352,375.524 483.894,375.524 484.436,375.524 484.977,375.524 485.519,375.524 486.061,375.524 486.602,375.524 487.144,375.524 487.686,375.524 488.227,375.524 \n",
       "  488.769,375.524 489.311,375.524 489.852,375.524 490.394,375.524 490.936,375.524 491.478,375.524 492.019,375.524 492.561,375.524 493.103,375.524 493.644,375.524 \n",
       "  494.186,375.524 494.728,375.524 495.269,375.524 495.811,375.524 496.353,375.524 496.894,375.524 497.436,375.524 497.978,375.524 498.52,375.524 499.061,375.524 \n",
       "  499.603,375.524 500.145,375.524 500.686,375.524 501.228,375.524 501.77,375.524 502.311,375.524 502.853,375.524 503.395,375.524 503.936,375.524 504.478,375.524 \n",
       "  505.02,375.524 505.562,375.524 506.103,375.524 506.645,375.524 507.187,375.524 507.728,375.524 508.27,375.524 508.812,375.524 509.353,375.524 509.895,375.524 \n",
       "  510.437,375.524 510.978,375.524 511.52,375.524 512.062,375.524 512.604,375.524 513.145,375.524 513.687,375.524 514.229,375.524 514.77,375.524 515.312,375.524 \n",
       "  515.854,375.524 516.395,375.524 516.937,375.524 517.479,375.524 518.02,375.524 518.562,375.524 519.104,375.524 519.646,375.524 520.187,375.524 520.729,375.524 \n",
       "  521.271,375.524 521.812,375.524 522.354,375.524 522.896,375.524 523.437,375.524 523.979,375.524 524.521,375.524 525.062,375.524 525.604,375.524 526.146,375.524 \n",
       "  526.687,375.524 527.229,375.524 527.771,375.524 528.313,375.524 528.854,375.524 529.396,375.524 529.938,375.524 530.479,375.524 531.021,375.524 531.563,375.524 \n",
       "  532.104,375.524 532.646,375.524 533.188,375.524 533.729,375.524 534.271,375.524 534.813,375.524 535.355,375.524 535.896,375.524 536.438,375.524 536.98,375.524 \n",
       "  537.521,375.524 538.063,375.524 538.605,375.524 539.146,375.524 539.688,375.524 540.23,375.524 540.771,375.524 541.313,375.524 541.855,375.524 542.397,375.524 \n",
       "  542.938,375.524 543.48,375.524 544.022,375.524 544.563,375.524 545.105,375.524 545.647,375.524 546.188,375.524 546.73,375.524 547.272,375.524 547.813,375.524 \n",
       "  548.355,375.524 548.897,375.524 549.439,375.524 549.98,375.524 550.522,375.524 551.064,375.524 551.605,375.524 552.147,375.524 552.689,375.524 553.23,375.524 \n",
       "  553.772,375.524 554.314,375.524 554.855,375.524 555.397,375.524 555.939,375.524 556.481,375.524 557.022,375.524 557.564,375.524 558.106,375.524 558.647,375.524 \n",
       "  559.189,375.524 559.731,375.524 560.272,375.524 560.814,375.524 561.356,375.524 561.897,375.524 562.439,375.524 562.981,375.524 563.523,375.524 564.064,375.524 \n",
       "  564.606,375.524 565.148,375.524 565.689,375.524 566.231,375.524 566.773,375.524 567.314,375.524 567.856,375.524 568.398,375.524 568.939,375.524 569.481,375.524 \n",
       "  570.023,375.524 570.565,375.524 571.106,375.524 571.648,375.524 572.19,375.524 572.731,375.524 573.273,375.524 573.815,375.524 574.356,375.524 574.898,375.524 \n",
       "  575.44,375.524 575.981,375.524 576.523,375.524 577.065,375.524 577.607,375.524 578.148,375.524 578.69,375.524 579.232,375.524 579.773,375.524 580.315,375.524 \n",
       "  \n",
       "  \"/>\n",
       "<polygon clip-path=\"url(#clip9900)\" points=\"\n",
       "489.608,62.931 562.315,62.931 562.315,32.691 489.608,32.691 \n",
       "  \" fill=\"#ffffff\" fill-opacity=\"1\"/>\n",
       "<polyline clip-path=\"url(#clip9900)\" style=\"stroke:#000000; stroke-width:1; stroke-opacity:1; fill:none\" points=\"\n",
       "  489.608,62.931 562.315,62.931 562.315,32.691 489.608,32.691 489.608,62.931 \n",
       "  \"/>\n",
       "<polyline clip-path=\"url(#clip9900)\" style=\"stroke:#009af9; stroke-width:1; stroke-opacity:1; fill:none\" points=\"\n",
       "  495.608,47.811 531.608,47.811 \n",
       "  \"/>\n",
       "<g clip-path=\"url(#clip9900)\">\n",
       "<text style=\"fill:#000000; fill-opacity:1; font-family:Arial,Helvetica Neue,Helvetica,sans-serif; font-size:12; text-anchor:start;\" transform=\"rotate(0, 537.608, 52.311)\" x=\"537.608\" y=\"52.311\">y1</text>\n",
       "</g>\n",
       "</svg>\n"
      ]
     },
     "execution_count": 16,
     "metadata": {},
     "output_type": "execute_result"
    }
   ],
   "source": [
    "plot(lda_vec_chn[:lf_eps])"
   ]
  },
  {
   "cell_type": "code",
   "execution_count": null,
   "metadata": {
    "collapsed": true
   },
   "outputs": [],
   "source": []
  }
 ],
 "metadata": {
  "kernelspec": {
   "display_name": "Julia 0.6.2",
   "language": "julia",
   "name": "julia-0.6"
  },
  "language_info": {
   "file_extension": ".jl",
   "mimetype": "application/julia",
   "name": "julia",
   "version": "0.6.2"
  }
 },
 "nbformat": 4,
 "nbformat_minor": 2
}
