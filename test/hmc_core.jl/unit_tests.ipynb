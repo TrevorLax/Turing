{
 "cells": [
  {
   "cell_type": "code",
   "execution_count": 49,
   "metadata": {},
   "outputs": [
    {
     "name": "stderr",
     "output_type": "stream",
     "text": [
      "\u001b[1m\u001b[33mWARNING: \u001b[39m\u001b[22m\u001b[33mabs(x::AbstractArray{T}) where T <: Number is deprecated, use abs.(x) instead.\u001b[39m\n",
      "Stacktrace:\n",
      " [1] \u001b[1mdepwarn\u001b[22m\u001b[22m\u001b[1m(\u001b[22m\u001b[22m::String, ::Symbol\u001b[1m)\u001b[22m\u001b[22m at \u001b[1m./deprecated.jl:70\u001b[22m\u001b[22m\n",
      " [2] \u001b[1mabs\u001b[22m\u001b[22m\u001b[1m(\u001b[22m\u001b[22m::Array{Float64,1}\u001b[1m)\u001b[22m\u001b[22m at \u001b[1m./deprecated.jl:57\u001b[22m\u001b[22m\n",
      " [3] \u001b[1minclude_string\u001b[22m\u001b[22m\u001b[1m(\u001b[22m\u001b[22m::String, ::String\u001b[1m)\u001b[22m\u001b[22m at \u001b[1m./loading.jl:522\u001b[22m\u001b[22m\n",
      " [4] \u001b[1mexecute_request\u001b[22m\u001b[22m\u001b[1m(\u001b[22m\u001b[22m::ZMQ.Socket, ::IJulia.Msg\u001b[1m)\u001b[22m\u001b[22m at \u001b[1m/Users/kai/.julia/v0.6/IJulia/src/execute_request.jl:158\u001b[22m\u001b[22m\n",
      " [5] \u001b[1m(::Compat.#inner#18{Array{Any,1},IJulia.#execute_request,Tuple{ZMQ.Socket,IJulia.Msg}})\u001b[22m\u001b[22m\u001b[1m(\u001b[22m\u001b[22m\u001b[1m)\u001b[22m\u001b[22m at \u001b[1m/Users/kai/.julia/v0.6/Compat/src/Compat.jl:403\u001b[22m\u001b[22m\n",
      " [6] \u001b[1meventloop\u001b[22m\u001b[22m\u001b[1m(\u001b[22m\u001b[22m::ZMQ.Socket\u001b[1m)\u001b[22m\u001b[22m at \u001b[1m/Users/kai/.julia/v0.6/IJulia/src/eventloop.jl:8\u001b[22m\u001b[22m\n",
      " [7] \u001b[1m(::IJulia.##14#17)\u001b[22m\u001b[22m\u001b[1m(\u001b[22m\u001b[22m\u001b[1m)\u001b[22m\u001b[22m at \u001b[1m./task.jl:335\u001b[22m\u001b[22m\n",
      "while loading In[49], in expression starting on line 35\n",
      "WARNING: redefining constant f_tape\n",
      "WARNING: redefining constant compiled_f_tape\n"
     ]
    },
    {
     "data": {
      "text/plain": [
       "grad_func (generic function with 1 method)"
      ]
     },
     "execution_count": 49,
     "metadata": {},
     "output_type": "execute_result"
    }
   ],
   "source": [
    "using Turing\n",
    "\n",
    "@model gdemo() = begin\n",
    "    s ~ InverseGamma(2, 3)\n",
    "    m ~ Normal(0,sqrt(s))\n",
    "    1.5 ~ Normal(m, sqrt(s))\n",
    "    2.0 ~ Normal(m, sqrt(s))\n",
    "    return s, m\n",
    "  end\n",
    "\n",
    "# Plain Julia\n",
    "\n",
    "using ReverseDiff: GradientTape, GradientConfig, gradient, gradient!, compile\n",
    "using Distributions, DiffBase\n",
    "using Turing: invlink, logpdf\n",
    "\n",
    "θ_dim = 2\n",
    "function lj_func(θ)\n",
    "  _lj = zero(Real)\n",
    "  \n",
    "  d_s = InverseGamma(2, 3)\n",
    "#   s = invlink(d_s, θ[1])\n",
    "  s = θ[1]\n",
    "  _lj += logpdf(d_s, s, false)\n",
    "  m = θ[2]\n",
    "  _lj += logpdf(Normal(0, sqrt(s)), m)\n",
    "\n",
    "  _lj += logpdf(Normal(m, sqrt(s)), 1.5)\n",
    "  _lj += logpdf(Normal(m, sqrt(s)), 2.0)\n",
    "\n",
    "  return _lj\n",
    "end\n",
    "\n",
    "neg_lj_func(θ) = -lj_func(θ)\n",
    "const f_tape = GradientTape(neg_lj_func, abs(randn(θ_dim)))\n",
    "const compiled_f_tape = compile(f_tape)\n",
    "\n",
    "function grad_func(θ)\n",
    "    \n",
    "  inputs = θ\n",
    "  results = similar(θ)\n",
    "  all_results = DiffResults.GradientResult(results)\n",
    "\n",
    "  gradient!(all_results, compiled_f_tape, inputs)\n",
    "\n",
    "  neg_lj = all_results.value\n",
    "  grad, = all_results.derivs\n",
    "\n",
    "  return -neg_lj, grad\n",
    "\n",
    "end"
   ]
  },
  {
   "cell_type": "code",
   "execution_count": 50,
   "metadata": {},
   "outputs": [
    {
     "name": "stdout",
     "output_type": "stream",
     "text": [
      "\r",
      "[Turing]:  Assume - `s` is a parameter\n",
      " @~(::ANY, ::ANY) at compiler.jl:76\n",
      "\r",
      "[Turing]:  Assume - `m` is a parameter\n",
      " @~(::ANY, ::ANY) at compiler.jl:76\n"
     ]
    },
    {
     "data": {
      "text/plain": [
       "##gdemo_model#737 (generic function with 4 methods)"
      ]
     },
     "execution_count": 50,
     "metadata": {},
     "output_type": "execute_result"
    }
   ],
   "source": [
    "mf = gdemo()"
   ]
  },
  {
   "cell_type": "code",
   "execution_count": 51,
   "metadata": {},
   "outputs": [
    {
     "data": {
      "text/plain": [
       "/=======================================================================\n",
       "| VarInfo\n",
       "|-----------------------------------------------------------------------\n",
       "| Varnames  :   [\"{gdemo_var84,s}:1\", \"{gdemo_var84,m}:1\"]\n",
       "| Range     :   UnitRange{Int64}[1:1, 2:2]\n",
       "| Vals      :   Real[1.20812, 1.54962]\n",
       "| RVs       :   Dict{Union{Array{Turing.VarReplay.VarName,1}, Turing.VarReplay.VarName},Any}()\n",
       "| GIDs      :   [0, 0]\n",
       "| Orders    :   [0, 0]\n",
       "| Logp      :   -4.972373307214038\n",
       "| #produce  :   2\n",
       "| flags     :   Dict(\"del\"=>Bool[false, false],\"trans\"=>Bool[false, false])\n",
       "\\=======================================================================\n"
      ]
     },
     "execution_count": 51,
     "metadata": {},
     "output_type": "execute_result"
    }
   ],
   "source": [
    "vi = mf()"
   ]
  },
  {
   "cell_type": "code",
   "execution_count": 57,
   "metadata": {},
   "outputs": [
    {
     "data": {
      "text/plain": [
       "2-element Array{Bool,1}:\n",
       " false\n",
       " false"
      ]
     },
     "execution_count": 57,
     "metadata": {},
     "output_type": "execute_result"
    }
   ],
   "source": [
    "vi.flags[\"trans\"]"
   ]
  },
  {
   "cell_type": "code",
   "execution_count": 54,
   "metadata": {},
   "outputs": [
    {
     "data": {
      "text/plain": [
       "2-element Array{Float64,1}:\n",
       " 1.20812\n",
       " 1.54962"
      ]
     },
     "execution_count": 54,
     "metadata": {},
     "output_type": "execute_result"
    }
   ],
   "source": [
    "theta = [1.20812, 1.54962]"
   ]
  },
  {
   "cell_type": "code",
   "execution_count": 55,
   "metadata": {},
   "outputs": [
    {
     "data": {
      "text/plain": [
       "-4.972377005511801"
      ]
     },
     "execution_count": 55,
     "metadata": {},
     "output_type": "execute_result"
    }
   ],
   "source": [
    "lj_func(theta)"
   ]
  },
  {
   "cell_type": "code",
   "execution_count": null,
   "metadata": {},
   "outputs": [],
   "source": []
  }
 ],
 "metadata": {
  "kernelspec": {
   "display_name": "Julia 0.6.2",
   "language": "julia",
   "name": "julia-0.6"
  },
  "language_info": {
   "file_extension": ".jl",
   "mimetype": "application/julia",
   "name": "julia",
   "version": "0.6.2"
  }
 },
 "nbformat": 4,
 "nbformat_minor": 2
}
