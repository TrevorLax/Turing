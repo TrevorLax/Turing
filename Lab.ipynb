{
 "cells": [
  {
   "attachments": {},
   "cell_type": "markdown",
   "id": "7f5caced",
   "metadata": {},
   "source": [
    "# No Glue Code"
   ]
  },
  {
   "cell_type": "code",
   "execution_count": 1,
   "id": "1b21f376",
   "metadata": {},
   "outputs": [
    {
     "name": "stderr",
     "output_type": "stream",
     "text": [
      "\u001b[32m\u001b[1m  Activating\u001b[22m\u001b[39m project at `~/Cambdrige`\n"
     ]
    }
   ],
   "source": [
    "using Pkg\n",
    "Pkg.activate(\"..\")"
   ]
  },
  {
   "cell_type": "code",
   "execution_count": 2,
   "id": "fe8d527d",
   "metadata": {},
   "outputs": [
    {
     "name": "stderr",
     "output_type": "stream",
     "text": [
      "\u001b[36m\u001b[1m[ \u001b[22m\u001b[39m\u001b[36m\u001b[1mInfo: \u001b[22m\u001b[39mPrecompiling Turing [fce5fe82-541a-59a6-adf8-730c64b5f9a0]\n",
      "\u001b[33m\u001b[1m┌ \u001b[22m\u001b[39m\u001b[33m\u001b[1mWarning: \u001b[22m\u001b[39mModule Tracker with build ID fafbfcfd-9efd-1a58-0000-064504379f44 is missing from the cache.\n",
      "\u001b[33m\u001b[1m│ \u001b[22m\u001b[39mThis may mean Tracker [9f7883ad-71c0-57eb-9f7f-b5c9e6d3789c] does not support precompilation but is imported by a module that does.\n",
      "\u001b[33m\u001b[1m└ \u001b[22m\u001b[39m\u001b[90m@ Base loading.jl:1758\u001b[39m\n",
      "\u001b[33m\u001b[1m┌ \u001b[22m\u001b[39m\u001b[33m\u001b[1mWarning: \u001b[22m\u001b[39mModule Tracker with build ID fafbfcfd-9efd-1a58-0000-064504379f44 is missing from the cache.\n",
      "\u001b[33m\u001b[1m│ \u001b[22m\u001b[39mThis may mean Tracker [9f7883ad-71c0-57eb-9f7f-b5c9e6d3789c] does not support precompilation but is imported by a module that does.\n",
      "\u001b[33m\u001b[1m└ \u001b[22m\u001b[39m\u001b[90m@ Base loading.jl:1758\u001b[39m\n",
      "\u001b[33m\u001b[1m┌ \u001b[22m\u001b[39m\u001b[33m\u001b[1mWarning: \u001b[22m\u001b[39mModule Tracker with build ID fafbfcfd-9efd-1a58-0000-064504379f44 is missing from the cache.\n",
      "\u001b[33m\u001b[1m│ \u001b[22m\u001b[39mThis may mean Tracker [9f7883ad-71c0-57eb-9f7f-b5c9e6d3789c] does not support precompilation but is imported by a module that does.\n",
      "\u001b[33m\u001b[1m└ \u001b[22m\u001b[39m\u001b[90m@ Base loading.jl:1758\u001b[39m\n",
      "\u001b[33m\u001b[1m┌ \u001b[22m\u001b[39m\u001b[33m\u001b[1mWarning: \u001b[22m\u001b[39mModule Tracker with build ID fafbfcfd-9efd-1a58-0000-064504379f44 is missing from the cache.\n",
      "\u001b[33m\u001b[1m│ \u001b[22m\u001b[39mThis may mean Tracker [9f7883ad-71c0-57eb-9f7f-b5c9e6d3789c] does not support precompilation but is imported by a module that does.\n",
      "\u001b[33m\u001b[1m└ \u001b[22m\u001b[39m\u001b[90m@ Base loading.jl:1758\u001b[39m\n",
      "\u001b[33m\u001b[1m┌ \u001b[22m\u001b[39m\u001b[33m\u001b[1mWarning: \u001b[22m\u001b[39mModule MCMCChains with build ID fafbfcfd-03d8-82a6-0000-06435fce968e is missing from the cache.\n",
      "\u001b[33m\u001b[1m│ \u001b[22m\u001b[39mThis may mean MCMCChains [c7f686f2-ff18-58e9-bc7b-31028e88f75d] does not support precompilation but is imported by a module that does.\n",
      "\u001b[33m\u001b[1m└ \u001b[22m\u001b[39m\u001b[90m@ Base loading.jl:1758\u001b[39m\n",
      "\u001b[33m\u001b[1m┌ \u001b[22m\u001b[39m\u001b[33m\u001b[1mWarning: \u001b[22m\u001b[39mModule MCMCChains with build ID fafbfcfd-03d8-82a6-0000-06435fce968e is missing from the cache.\n",
      "\u001b[33m\u001b[1m│ \u001b[22m\u001b[39mThis may mean MCMCChains [c7f686f2-ff18-58e9-bc7b-31028e88f75d] does not support precompilation but is imported by a module that does.\n",
      "\u001b[33m\u001b[1m└ \u001b[22m\u001b[39m\u001b[90m@ Base loading.jl:1758\u001b[39m\n",
      "\u001b[33m\u001b[1m┌ \u001b[22m\u001b[39m\u001b[33m\u001b[1mWarning: \u001b[22m\u001b[39mModule Tracker with build ID fafbfcfd-9efd-1a58-0000-064504379f44 is missing from the cache.\n",
      "\u001b[33m\u001b[1m│ \u001b[22m\u001b[39mThis may mean Tracker [9f7883ad-71c0-57eb-9f7f-b5c9e6d3789c] does not support precompilation but is imported by a module that does.\n",
      "\u001b[33m\u001b[1m└ \u001b[22m\u001b[39m\u001b[90m@ Base loading.jl:1758\u001b[39m\n",
      "\u001b[33m\u001b[1m┌ \u001b[22m\u001b[39m\u001b[33m\u001b[1mWarning: \u001b[22m\u001b[39mModule RecipesBase with build ID fafbfcfd-d19a-3e01-0000-06438d75370e is missing from the cache.\n",
      "\u001b[33m\u001b[1m│ \u001b[22m\u001b[39mThis may mean RecipesBase [3cdcf5f2-1ef4-517c-9805-6587b60abb01] does not support precompilation but is imported by a module that does.\n",
      "\u001b[33m\u001b[1m└ \u001b[22m\u001b[39m\u001b[90m@ Base loading.jl:1758\u001b[39m\n",
      "\u001b[33m\u001b[1m┌ \u001b[22m\u001b[39m\u001b[33m\u001b[1mWarning: \u001b[22m\u001b[39mModule RecipesBase with build ID fafbfcfd-d19a-3e01-0000-06438d75370e is missing from the cache.\n",
      "\u001b[33m\u001b[1m│ \u001b[22m\u001b[39mThis may mean RecipesBase [3cdcf5f2-1ef4-517c-9805-6587b60abb01] does not support precompilation but is imported by a module that does.\n",
      "\u001b[33m\u001b[1m└ \u001b[22m\u001b[39m\u001b[90m@ Base loading.jl:1758\u001b[39m\n",
      "\u001b[33m\u001b[1m┌ \u001b[22m\u001b[39m\u001b[33m\u001b[1mWarning: \u001b[22m\u001b[39mModule RecursiveArrayTools with build ID ffffffff-ffff-ffff-0000-064be3371628 is missing from the cache.\n",
      "\u001b[33m\u001b[1m│ \u001b[22m\u001b[39mThis may mean RecursiveArrayTools [731186ca-8d62-57ce-b412-fbd966d074cd] does not support precompilation but is imported by a module that does.\n",
      "\u001b[33m\u001b[1m└ \u001b[22m\u001b[39m\u001b[90m@ Base loading.jl:1758\u001b[39m\n",
      "\u001b[33m\u001b[1m┌ \u001b[22m\u001b[39m\u001b[33m\u001b[1mWarning: \u001b[22m\u001b[39mThe call to compilecache failed to create a usable precompiled cache file for Turing [fce5fe82-541a-59a6-adf8-730c64b5f9a0]\n",
      "\u001b[33m\u001b[1m│ \u001b[22m\u001b[39m  exception = Required dependency PrecompileTools [aea7be01-6a6a-4083-8856-8a6e6704d82a] failed to load from a cache file.\n",
      "\u001b[33m\u001b[1m└ \u001b[22m\u001b[39m\u001b[90m@ Base loading.jl:1783\u001b[39m\n",
      "\u001b[36m\u001b[1m[ \u001b[22m\u001b[39m\u001b[36m\u001b[1mInfo: \u001b[22m\u001b[39mPrecompiling MCMCChains [c7f686f2-ff18-58e9-bc7b-31028e88f75d]\n",
      "\u001b[36m\u001b[1m[ \u001b[22m\u001b[39m\u001b[36m\u001b[1mInfo: \u001b[22m\u001b[39mPrecompiling Tracker [9f7883ad-71c0-57eb-9f7f-b5c9e6d3789c]\n",
      "\u001b[36m\u001b[1m[ \u001b[22m\u001b[39m\u001b[36m\u001b[1mInfo: \u001b[22m\u001b[39mPrecompiling DistributionsADTrackerExt [9f5b7181-2cd9-5ca4-a6d6-225cbfa0a98f]\n",
      "\u001b[36m\u001b[1m[ \u001b[22m\u001b[39m\u001b[36m\u001b[1mInfo: \u001b[22m\u001b[39mPrecompiling AdvancedVI [b5ca4192-6429-45e5-a2d9-87aec30a685c]\n",
      "\u001b[36m\u001b[1m[ \u001b[22m\u001b[39m\u001b[36m\u001b[1mInfo: \u001b[22m\u001b[39mPrecompiling LogDensityProblemsADTrackerExt [d1ba7b70-930c-5fd7-9f98-bff3f6d543b3]\n",
      "\u001b[36m\u001b[1m[ \u001b[22m\u001b[39m\u001b[36m\u001b[1mInfo: \u001b[22m\u001b[39mPrecompiling AdvancedHMCMCMCChainsExt [b5c98dcd-c242-53a0-8c65-f8883d2f1ad0]\n",
      "\u001b[36m\u001b[1m[ \u001b[22m\u001b[39m\u001b[36m\u001b[1mInfo: \u001b[22m\u001b[39mPrecompiling AdvancedMHMCMCChainsExt [d67cf4cc-9cd9-5b93-8010-b7fbf084a484]\n",
      "\u001b[36m\u001b[1m[ \u001b[22m\u001b[39m\u001b[36m\u001b[1mInfo: \u001b[22m\u001b[39mPrecompiling ArrayInterfaceTrackerExt [eb0c05c4-6780-5852-a67e-5d31d2970b9a]\n",
      "\u001b[36m\u001b[1m[ \u001b[22m\u001b[39m\u001b[36m\u001b[1mInfo: \u001b[22m\u001b[39mPrecompiling SciMLBase [0bca4576-84f4-4d90-8ffe-ffa030f20462]\n",
      "\u001b[36m\u001b[1m[ \u001b[22m\u001b[39m\u001b[36m\u001b[1mInfo: \u001b[22m\u001b[39mPrecompiling RecursiveArrayToolsTrackerExt [201bfbae-74a9-54d9-992e-8e72788965ed]\n"
     ]
    }
   ],
   "source": [
    "using Random\n",
    "using LinearAlgebra\n",
    "using PyPlot\n",
    "\n",
    "#What we are tweaking\n",
    "using Revise\n",
    "using Turing\n",
    "using MCMCChains"
   ]
  },
  {
   "attachments": {},
   "cell_type": "markdown",
   "id": "4e582ff1",
   "metadata": {},
   "source": [
    "## Model"
   ]
  },
  {
   "cell_type": "code",
   "execution_count": 3,
   "id": "10db58eb",
   "metadata": {},
   "outputs": [
    {
     "data": {
      "text/plain": [
       "funnel (generic function with 2 methods)"
      ]
     },
     "execution_count": 3,
     "metadata": {},
     "output_type": "execute_result"
    }
   ],
   "source": [
    "# Just a simple Neal Funnel\n",
    "d = 21\n",
    "@model function funnel()\n",
    "    θ ~ Normal(0, 3)\n",
    "    z ~ MvNormal(zeros(d-1), exp(θ)*I)\n",
    "    x ~ MvNormal(z, I)\n",
    "end"
   ]
  },
  {
   "cell_type": "code",
   "execution_count": 4,
   "id": "6acf8fad",
   "metadata": {},
   "outputs": [
    {
     "data": {
      "text/plain": [
       "DynamicPPL.Model{typeof(funnel), (), (), (), Tuple{}, Tuple{}, DynamicPPL.ConditionContext{NamedTuple{(:x,), Tuple{Vector{Float64}}}, DynamicPPL.DefaultContext}}(funnel, NamedTuple(), NamedTuple(), ConditionContext((x = [1.2142074831535152, 1.23371919965455, -0.8480146960461767, 0.1600994648479841, 1.9180385508479283, -3.401523464506408, -0.0957684186471088, 0.6734622629464286, -3.2749467689509633, -1.6760091758453226, 1.9567202902549736, 0.1136169088905351, 0.11117896909388916, -0.5373922347882832, -0.12436857036298687, -1.2901071061088532, 1.702584517514787, -0.44460133117954226, 1.0818722439221686, 1.2208011493237483],), DynamicPPL.DefaultContext()))"
      ]
     },
     "execution_count": 4,
     "metadata": {},
     "output_type": "execute_result"
    }
   ],
   "source": [
    "Random.seed!(1)\n",
    "(;x) = rand(funnel() | (θ=0,))\n",
    "funnel_model = funnel() | (;x)"
   ]
  },
  {
   "attachments": {},
   "cell_type": "markdown",
   "id": "f6a25810",
   "metadata": {},
   "source": [
    "## Sampling"
   ]
  },
  {
   "cell_type": "code",
   "execution_count": 5,
   "id": "15adcfac",
   "metadata": {},
   "outputs": [
    {
     "data": {
      "text/plain": [
       "NUTS{Turing.Essential.ForwardDiffAD{0}, (), AdvancedHMC.DiagEuclideanMetric}(500, 0.95, 10, 1000.0, 0.1)"
      ]
     },
     "execution_count": 5,
     "metadata": {},
     "output_type": "execute_result"
    }
   ],
   "source": [
    "nadapts=500 \n",
    "TAP=0.95\n",
    "nuts = Turing.NUTS(nadapts, TAP; init_ϵ=0.1)"
   ]
  },
  {
   "cell_type": "code",
   "execution_count": 6,
   "id": "79eb09bb",
   "metadata": {},
   "outputs": [
    {
     "ename": "LoadError",
     "evalue": "MethodError: sample(::TaskLocalRNG, ::DynamicPPL.Model{typeof(funnel), (), (), (), Tuple{}, Tuple{}, DynamicPPL.ConditionContext{NamedTuple{(:x,), Tuple{Vector{Float64}}}, DynamicPPL.DefaultContext}}, ::DynamicPPL.Sampler{NUTS{Turing.Essential.ForwardDiffAD{0}, (), AdvancedHMC.DiagEuclideanMetric}}, ::Int64) is ambiguous.\n\nCandidates:\n  sample(\u001b[90mrng\u001b[39m::\u001b[1mAbstractRNG\u001b[22m, \u001b[90mmodel\u001b[39m::\u001b[1mAbstractMCMC.AbstractModel\u001b[22m, \u001b[90msampler\u001b[39m::\u001b[1mDynamicPPL.Sampler\u001b[22m\u001b[0m{<:Turing.Inference.AdaptiveHamiltonian}, \u001b[90mN\u001b[39m::\u001b[1mInteger\u001b[22m; chain_type, resume_from, progress, nadapts, discard_adapt, discard_initial, kwargs...)\n\u001b[90m    @\u001b[39m \u001b[90mTuring.Inference\u001b[39m \u001b[90m~/Cambdrige/Turing.jl/src/inference/\u001b[39m\u001b[90m\u001b[4mhmc.jl:103\u001b[24m\u001b[39m\n  sample(\u001b[90mrng\u001b[39m::\u001b[1mAbstractRNG\u001b[22m, \u001b[90mmodel\u001b[39m::\u001b[1mAbstractMCMC.AbstractModel\u001b[22m, \u001b[90msampler\u001b[39m::\u001b[1mDynamicPPL.Sampler\u001b[22m\u001b[0m{<:Turing.Inference.InferenceAlgorithm}, \u001b[90mN\u001b[39m::\u001b[1mInteger\u001b[22m; chain_type, resume_from, progress, kwargs...)\n\u001b[90m    @\u001b[39m \u001b[90mTuring.Inference\u001b[39m \u001b[90m~/Cambdrige/Turing.jl/src/inference/\u001b[39m\u001b[90m\u001b[4mInference.jl:153\u001b[24m\u001b[39m\n  sample(\u001b[90mrng\u001b[39m::\u001b[1mAbstractRNG\u001b[22m, \u001b[90mmodel\u001b[39m::\u001b[1mDynamicPPL.Model\u001b[22m, \u001b[90msampler\u001b[39m::\u001b[1mAbstractMCMC.AbstractSampler\u001b[22m, \u001b[90mN\u001b[39m::\u001b[1mInteger\u001b[22m; chain_type, resume_from, progress, kwargs...)\n\u001b[90m    @\u001b[39m \u001b[90mTuring.Inference\u001b[39m \u001b[90m~/Cambdrige/Turing.jl/src/inference/\u001b[39m\u001b[90m\u001b[4mInference.jl:257\u001b[24m\u001b[39m\n\nPossible fix, define\n  sample(::AbstractRNG, ::DynamicPPL.Model, ::DynamicPPL.Sampler{<:Turing.Inference.AdaptiveHamiltonian}, ::Integer)\n",
     "output_type": "error",
     "traceback": [
      "MethodError: sample(::TaskLocalRNG, ::DynamicPPL.Model{typeof(funnel), (), (), (), Tuple{}, Tuple{}, DynamicPPL.ConditionContext{NamedTuple{(:x,), Tuple{Vector{Float64}}}, DynamicPPL.DefaultContext}}, ::DynamicPPL.Sampler{NUTS{Turing.Essential.ForwardDiffAD{0}, (), AdvancedHMC.DiagEuclideanMetric}}, ::Int64) is ambiguous.\n\nCandidates:\n  sample(\u001b[90mrng\u001b[39m::\u001b[1mAbstractRNG\u001b[22m, \u001b[90mmodel\u001b[39m::\u001b[1mAbstractMCMC.AbstractModel\u001b[22m, \u001b[90msampler\u001b[39m::\u001b[1mDynamicPPL.Sampler\u001b[22m\u001b[0m{<:Turing.Inference.AdaptiveHamiltonian}, \u001b[90mN\u001b[39m::\u001b[1mInteger\u001b[22m; chain_type, resume_from, progress, nadapts, discard_adapt, discard_initial, kwargs...)\n\u001b[90m    @\u001b[39m \u001b[90mTuring.Inference\u001b[39m \u001b[90m~/Cambdrige/Turing.jl/src/inference/\u001b[39m\u001b[90m\u001b[4mhmc.jl:103\u001b[24m\u001b[39m\n  sample(\u001b[90mrng\u001b[39m::\u001b[1mAbstractRNG\u001b[22m, \u001b[90mmodel\u001b[39m::\u001b[1mAbstractMCMC.AbstractModel\u001b[22m, \u001b[90msampler\u001b[39m::\u001b[1mDynamicPPL.Sampler\u001b[22m\u001b[0m{<:Turing.Inference.InferenceAlgorithm}, \u001b[90mN\u001b[39m::\u001b[1mInteger\u001b[22m; chain_type, resume_from, progress, kwargs...)\n\u001b[90m    @\u001b[39m \u001b[90mTuring.Inference\u001b[39m \u001b[90m~/Cambdrige/Turing.jl/src/inference/\u001b[39m\u001b[90m\u001b[4mInference.jl:153\u001b[24m\u001b[39m\n  sample(\u001b[90mrng\u001b[39m::\u001b[1mAbstractRNG\u001b[22m, \u001b[90mmodel\u001b[39m::\u001b[1mDynamicPPL.Model\u001b[22m, \u001b[90msampler\u001b[39m::\u001b[1mAbstractMCMC.AbstractSampler\u001b[22m, \u001b[90mN\u001b[39m::\u001b[1mInteger\u001b[22m; chain_type, resume_from, progress, kwargs...)\n\u001b[90m    @\u001b[39m \u001b[90mTuring.Inference\u001b[39m \u001b[90m~/Cambdrige/Turing.jl/src/inference/\u001b[39m\u001b[90m\u001b[4mInference.jl:257\u001b[24m\u001b[39m\n\nPossible fix, define\n  sample(::AbstractRNG, ::DynamicPPL.Model, ::DynamicPPL.Sampler{<:Turing.Inference.AdaptiveHamiltonian}, ::Integer)\n",
      "",
      "Stacktrace:",
      " [1] sample(rng::TaskLocalRNG, model::DynamicPPL.Model{typeof(funnel), (), (), (), Tuple{}, Tuple{}, DynamicPPL.ConditionContext{NamedTuple{(:x,), Tuple{Vector{Float64}}}, DynamicPPL.DefaultContext}}, alg::NUTS{Turing.Essential.ForwardDiffAD{0}, (), AdvancedHMC.DiagEuclideanMetric}, N::Int64; kwargs::Base.Pairs{Symbol, Union{}, Tuple{}, NamedTuple{(), Tuple{}}})",
      "   @ Turing.Inference ~/Cambdrige/Turing.jl/src/inference/Inference.jl:150",
      " [2] sample(rng::TaskLocalRNG, model::DynamicPPL.Model{typeof(funnel), (), (), (), Tuple{}, Tuple{}, DynamicPPL.ConditionContext{NamedTuple{(:x,), Tuple{Vector{Float64}}}, DynamicPPL.DefaultContext}}, alg::NUTS{Turing.Essential.ForwardDiffAD{0}, (), AdvancedHMC.DiagEuclideanMetric}, N::Int64)",
      "   @ Turing.Inference ~/Cambdrige/Turing.jl/src/inference/Inference.jl:143",
      " [3] sample(model::DynamicPPL.Model{typeof(funnel), (), (), (), Tuple{}, Tuple{}, DynamicPPL.ConditionContext{NamedTuple{(:x,), Tuple{Vector{Float64}}}, DynamicPPL.DefaultContext}}, alg::NUTS{Turing.Essential.ForwardDiffAD{0}, (), AdvancedHMC.DiagEuclideanMetric}, N::Int64; kwargs::Base.Pairs{Symbol, Union{}, Tuple{}, NamedTuple{(), Tuple{}}})",
      "   @ Turing.Inference ~/Cambdrige/Turing.jl/src/inference/Inference.jl:140",
      " [4] sample(model::DynamicPPL.Model{typeof(funnel), (), (), (), Tuple{}, Tuple{}, DynamicPPL.ConditionContext{NamedTuple{(:x,), Tuple{Vector{Float64}}}, DynamicPPL.DefaultContext}}, alg::NUTS{Turing.Essential.ForwardDiffAD{0}, (), AdvancedHMC.DiagEuclideanMetric}, N::Int64)",
      "   @ Turing.Inference ~/Cambdrige/Turing.jl/src/inference/Inference.jl:134",
      " [5] top-level scope",
      "   @ In[6]:1"
     ]
    }
   ],
   "source": [
    "nuts_samples = sample(funnel_model, nuts, 5000)"
   ]
  },
  {
   "cell_type": "code",
   "execution_count": null,
   "id": "ee06e93d",
   "metadata": {},
   "outputs": [
    {
     "data": {
      "text/plain": [
       "DynamicPPL.Sampler{NUTS{Turing.Essential.ForwardDiffAD{0}, (), AdvancedHMC.DiagEuclideanMetric}}(NUTS{Turing.Essential.ForwardDiffAD{0}, (), AdvancedHMC.DiagEuclideanMetric}(-1, 0.65, 10, 1000.0, 0.0), DynamicPPL.Selector(0x000019f8183c3710, :default, false))"
      ]
     },
     "execution_count": 15,
     "metadata": {},
     "output_type": "execute_result"
    }
   ],
   "source": [
    "spl = Turing.Sampler(Turing.NUTS(), funnel_model)"
   ]
  },
  {
   "cell_type": "code",
   "execution_count": null,
   "id": "9e196c65",
   "metadata": {},
   "outputs": [
    {
     "ename": "LoadError",
     "evalue": "type Sampler has no field model",
     "output_type": "error",
     "traceback": [
      "type Sampler has no field model",
      "",
      "Stacktrace:",
      " [1] getproperty(x::DynamicPPL.Sampler{NUTS{Turing.Essential.ForwardDiffAD{0}, (), AdvancedHMC.DiagEuclideanMetric}}, f::Symbol)",
      "   @ Base ./Base.jl:37",
      " [2] top-level scope",
      "   @ In[18]:1"
     ]
    }
   ],
   "source": [
    "spl.model"
   ]
  },
  {
   "cell_type": "code",
   "execution_count": null,
   "id": "6a5d0a38",
   "metadata": {},
   "outputs": [],
   "source": []
  }
 ],
 "metadata": {
  "kernelspec": {
   "display_name": "Julia 1.9.0",
   "language": "julia",
   "name": "julia-1.9"
  },
  "language_info": {
   "file_extension": ".jl",
   "mimetype": "application/julia",
   "name": "julia",
   "version": "1.9.0"
  }
 },
 "nbformat": 4,
 "nbformat_minor": 5
}
