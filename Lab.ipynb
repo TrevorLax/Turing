{
 "cells": [
  {
   "attachments": {},
   "cell_type": "markdown",
   "id": "7f5caced",
   "metadata": {},
   "source": [
    "# No Glue Code"
   ]
  },
  {
   "cell_type": "code",
   "execution_count": 1,
   "id": "1b21f376",
   "metadata": {},
   "outputs": [
    {
     "name": "stderr",
     "output_type": "stream",
     "text": [
      "\u001b[32m\u001b[1m  Activating\u001b[22m\u001b[39m project at `~/Cambdrige`\n"
     ]
    }
   ],
   "source": [
    "using Pkg\n",
    "Pkg.activate(\"..\")"
   ]
  },
  {
   "cell_type": "code",
   "execution_count": 2,
   "id": "fe8d527d",
   "metadata": {},
   "outputs": [
    {
     "name": "stderr",
     "output_type": "stream",
     "text": [
      "\u001b[36m\u001b[1m[ \u001b[22m\u001b[39m\u001b[36m\u001b[1mInfo: \u001b[22m\u001b[39mPrecompiling Turing [fce5fe82-541a-59a6-adf8-730c64b5f9a0]\n",
      "WARNING: Method definition sample(Random.AbstractRNG, AbstractMCMC.AbstractModel, AbstractMCMC.AbstractSampler, AbstractMCMC.AbstractMCMCEnsemble, Integer, Integer) in module AbstractMCMC at /home/jaimerz/.julia/packages/AbstractMCMC/bE6VB/src/sample.jl:81 overwritten in module Inference at /home/jaimerz/Cambdrige/Turing.jl/src/inference/Inference.jl:210.\n",
      "  ** incremental compilation may be fatally broken for this module **\n",
      "\n",
      "WARNING: Method definition kwcall(Any, typeof(StatsBase.sample), Random.AbstractRNG, AbstractMCMC.AbstractModel, AbstractMCMC.AbstractSampler, AbstractMCMC.AbstractMCMCEnsemble, Integer, Integer) in module AbstractMCMC at /home/jaimerz/.julia/packages/AbstractMCMC/bE6VB/src/sample.jl:81 overwritten in module Inference at /home/jaimerz/Cambdrige/Turing.jl/src/inference/Inference.jl:210.\n",
      "  ** incremental compilation may be fatally broken for this module **\n",
      "\n"
     ]
    }
   ],
   "source": [
    "using Random\n",
    "using LinearAlgebra\n",
    "using PyPlot\n",
    "\n",
    "#What we are tweaking\n",
    "using Revise\n",
    "using Turing\n",
    "using MCMCChains"
   ]
  },
  {
   "attachments": {},
   "cell_type": "markdown",
   "id": "4e582ff1",
   "metadata": {},
   "source": [
    "## Model"
   ]
  },
  {
   "cell_type": "code",
   "execution_count": 3,
   "id": "10db58eb",
   "metadata": {},
   "outputs": [
    {
     "data": {
      "text/plain": [
       "funnel (generic function with 2 methods)"
      ]
     },
     "execution_count": 3,
     "metadata": {},
     "output_type": "execute_result"
    }
   ],
   "source": [
    "# Just a simple Neal Funnel\n",
    "d = 21\n",
    "@model function funnel()\n",
    "    θ ~ Normal(0, 3)\n",
    "    z ~ MvNormal(zeros(d-1), exp(θ)*I)\n",
    "    x ~ MvNormal(z, I)\n",
    "end"
   ]
  },
  {
   "cell_type": "code",
   "execution_count": 4,
   "id": "6acf8fad",
   "metadata": {},
   "outputs": [
    {
     "data": {
      "text/plain": [
       "DynamicPPL.Model{typeof(funnel), (), (), (), Tuple{}, Tuple{}, DynamicPPL.ConditionContext{NamedTuple{(:x,), Tuple{Vector{Float64}}}, DynamicPPL.DefaultContext}}(funnel, NamedTuple(), NamedTuple(), ConditionContext((x = [1.2142074831535152, 1.23371919965455, -0.8480146960461767, 0.1600994648479841, 1.9180385508479283, -3.401523464506408, -0.0957684186471088, 0.6734622629464286, -3.2749467689509633, -1.6760091758453226, 1.9567202902549736, 0.1136169088905351, 0.11117896909388916, -0.5373922347882832, -0.12436857036298687, -1.2901071061088532, 1.702584517514787, -0.44460133117954226, 1.0818722439221686, 1.2208011493237483],), DynamicPPL.DefaultContext()))"
      ]
     },
     "execution_count": 4,
     "metadata": {},
     "output_type": "execute_result"
    }
   ],
   "source": [
    "Random.seed!(1)\n",
    "(;x) = rand(funnel() | (θ=0,))\n",
    "funnel_model = funnel() | (;x)"
   ]
  },
  {
   "attachments": {},
   "cell_type": "markdown",
   "id": "f6a25810",
   "metadata": {},
   "source": [
    "## Sampling"
   ]
  },
  {
   "cell_type": "code",
   "execution_count": 5,
   "id": "15adcfac",
   "metadata": {},
   "outputs": [
    {
     "data": {
      "text/plain": [
       "NUTS{Turing.Essential.ForwardDiffAD{0}, (), AdvancedHMC.DiagEuclideanMetric}(500, 0.95, 10, 1000.0, 0.0)"
      ]
     },
     "execution_count": 5,
     "metadata": {},
     "output_type": "execute_result"
    }
   ],
   "source": [
    "nadapts=500 \n",
    "TAP=0.95\n",
    "nuts = Turing.NUTS(nadapts, TAP)"
   ]
  },
  {
   "cell_type": "code",
   "execution_count": 6,
   "id": "79eb09bb",
   "metadata": {},
   "outputs": [
    {
     "name": "stderr",
     "output_type": "stream",
     "text": [
      "\u001b[36m\u001b[1m┌ \u001b[22m\u001b[39m\u001b[36m\u001b[1mInfo: \u001b[22m\u001b[39mFound initial step size\n",
      "\u001b[36m\u001b[1m└ \u001b[22m\u001b[39m  ϵ = 0.8\n",
      "\u001b[32mSampling: 100%|█████████████████████████████████████████| Time: 0:00:01\u001b[39m\n"
     ]
    },
    {
     "data": {
      "text/plain": [
       "Chains MCMC chain (5000×33×1 Array{Float64, 3}):\n",
       "\n",
       "Iterations        = 501:1:5500\n",
       "Number of chains  = 1\n",
       "Samples per chain = 5000\n",
       "Wall duration     = 8.31 seconds\n",
       "Compute duration  = 8.31 seconds\n",
       "parameters        = θ, z[1], z[2], z[3], z[4], z[5], z[6], z[7], z[8], z[9], z[10], z[11], z[12], z[13], z[14], z[15], z[16], z[17], z[18], z[19], z[20]\n",
       "internals         = lp, n_steps, is_accept, acceptance_rate, log_density, hamiltonian_energy, hamiltonian_energy_error, max_hamiltonian_energy_error, tree_depth, numerical_error, step_size, nom_step_size\n",
       "\n",
       "Summary Statistics\n",
       " \u001b[1m parameters \u001b[0m \u001b[1m    mean \u001b[0m \u001b[1m     std \u001b[0m \u001b[1m    mcse \u001b[0m \u001b[1m   ess_bulk \u001b[0m \u001b[1m  ess_tail \u001b[0m \u001b[1m    rhat \u001b[0m ⋯\n",
       " \u001b[90m     Symbol \u001b[0m \u001b[90m Float64 \u001b[0m \u001b[90m Float64 \u001b[0m \u001b[90m Float64 \u001b[0m \u001b[90m    Float64 \u001b[0m \u001b[90m   Float64 \u001b[0m \u001b[90m Float64 \u001b[0m ⋯\n",
       "\n",
       "           θ   -0.0223    0.7886    0.0522     413.6563    169.7823    1.0060  ⋯\n",
       "        z[1]    0.6063    0.7498    0.0108    5069.7387   3427.1499    1.0025  ⋯\n",
       "        z[2]    0.6079    0.7573    0.0115    4320.9620   3052.8164    1.0003  ⋯\n",
       "        z[3]   -0.4327    0.7209    0.0098    5429.8996   3366.9500    1.0010  ⋯\n",
       "        z[4]    0.0797    0.7164    0.0083    7441.3963   3238.2467    1.0015  ⋯\n",
       "        z[5]    0.9583    0.7697    0.0160    2240.6673   3829.7072    1.0005  ⋯\n",
       "        z[6]   -1.7165    0.9111    0.0312     807.5832    658.5686    1.0026  ⋯\n",
       "        z[7]   -0.0382    0.7061    0.0074    9082.6991   3630.8661    0.9999  ⋯\n",
       "        z[8]    0.3428    0.7174    0.0075    9121.5605   3459.5329    1.0005  ⋯\n",
       "        z[9]   -1.6422    0.8804    0.0312     723.1318    862.1615    1.0048  ⋯\n",
       "       z[10]   -0.8389    0.7586    0.0155    2380.5553   3225.9573    1.0015  ⋯\n",
       "       z[11]    0.9841    0.7839    0.0204    1480.5433   3333.3508    1.0031  ⋯\n",
       "       z[12]    0.0610    0.7260    0.0073    9992.2345   3227.2357    1.0002  ⋯\n",
       "       z[13]    0.0502    0.7218    0.0074    9597.7597   3492.8413    0.9998  ⋯\n",
       "       z[14]   -0.2643    0.6985    0.0076    8465.5278   3550.8716    1.0000  ⋯\n",
       "       z[15]   -0.0588    0.6992    0.0069   10097.0979   3600.5524    1.0000  ⋯\n",
       "       z[16]   -0.6426    0.7403    0.0111    4449.4546   3389.4120    1.0015  ⋯\n",
       "       z[17]    0.8502    0.7630    0.0170    2148.6973   3579.2884    1.0014  ⋯\n",
       "       z[18]   -0.2243    0.7161    0.0075    9092.2632   3689.1139    1.0003  ⋯\n",
       "       z[19]    0.5554    0.7510    0.0100    6084.4692   2931.5269    1.0000  ⋯\n",
       "       z[20]    0.6082    0.7676    0.0120    4119.3689   3506.0779    1.0006  ⋯\n",
       "\u001b[36m                                                                1 column omitted\u001b[0m\n",
       "\n",
       "Quantiles\n",
       " \u001b[1m parameters \u001b[0m \u001b[1m    2.5% \u001b[0m \u001b[1m   25.0% \u001b[0m \u001b[1m   50.0% \u001b[0m \u001b[1m   75.0% \u001b[0m \u001b[1m   97.5% \u001b[0m\n",
       " \u001b[90m     Symbol \u001b[0m \u001b[90m Float64 \u001b[0m \u001b[90m Float64 \u001b[0m \u001b[90m Float64 \u001b[0m \u001b[90m Float64 \u001b[0m \u001b[90m Float64 \u001b[0m\n",
       "\n",
       "           θ   -2.2065   -0.3868    0.0925    0.4924    1.1762\n",
       "        z[1]   -0.7890    0.0781    0.5685    1.0967    2.1797\n",
       "        z[2]   -0.7992    0.0925    0.5585    1.0925    2.1798\n",
       "        z[3]   -1.9621   -0.8904   -0.4010    0.0559    0.9111\n",
       "        z[4]   -1.3592   -0.3646    0.0753    0.5318    1.5406\n",
       "        z[5]   -0.4356    0.4178    0.9148    1.4547    2.5775\n",
       "        z[6]   -3.5450   -2.3266   -1.6935   -1.0793   -0.0270\n",
       "        z[7]   -1.4690   -0.4906   -0.0301    0.4206    1.3792\n",
       "        z[8]   -1.0701   -0.1323    0.3267    0.7906    1.8310\n",
       "        z[9]   -3.4659   -2.2309   -1.6129   -1.0068   -0.0858\n",
       "       z[10]   -2.3800   -1.3378   -0.7948   -0.2874    0.5115\n",
       "       z[11]   -0.4251    0.4377    0.9476    1.4964    2.6353\n",
       "       z[12]   -1.4033   -0.4094    0.0648    0.5427    1.5338\n",
       "       z[13]   -1.3641   -0.4022    0.0432    0.4999    1.4786\n",
       "       z[14]   -1.7348   -0.6979   -0.2440    0.1765    1.1310\n",
       "       z[15]   -1.4742   -0.4882   -0.0684    0.3913    1.3590\n",
       "       z[16]   -2.1922   -1.1132   -0.6176   -0.1330    0.7404\n",
       "       z[17]   -0.5195    0.3007    0.8186    1.3553    2.4104\n",
       "       z[18]   -1.6663   -0.6915   -0.2125    0.2407    1.1570\n",
       "       z[19]   -0.8265    0.0431    0.5089    1.0252    2.1040\n",
       "       z[20]   -0.8001    0.0751    0.5598    1.1130    2.1932\n"
      ]
     },
     "execution_count": 6,
     "metadata": {},
     "output_type": "execute_result"
    }
   ],
   "source": [
    "nuts_samples = sample(funnel_model, nuts, 5000)"
   ]
  },
  {
   "cell_type": "code",
   "execution_count": 9,
   "id": "ee06e93d",
   "metadata": {},
   "outputs": [],
   "source": [
    "theta_nuts = Vector(nuts_samples[\"θ\"][:, 1])\n",
    "x10_nuts =Vector(nuts_samples[\"z[10]\"][:, 1]);"
   ]
  },
  {
   "cell_type": "code",
   "execution_count": 10,
   "id": "9e196c65",
   "metadata": {},
   "outputs": [
    {
     "data": {
      "image/png": "[encoded data removed]",
      "text/plain": [
       "Figure(PyObject <Figure size 800x800 with 3 Axes>)"
      ]
     },
     "metadata": {},
     "output_type": "display_data"
    }
   ],
   "source": [
    "fig, axis = plt.subplots(2, 2, figsize=(8,8))\n",
    "fig.suptitle(\"NUTS - 21-D Neal's Funnel\", fontsize=16)\n",
    "\n",
    "fig.delaxes(axis[1,2])\n",
    "fig.subplots_adjust(hspace=0)\n",
    "fig.subplots_adjust(wspace=0)\n",
    "\n",
    "axis[1,1].hist(x10_nuts, bins=100, range=[-6,2])\n",
    "axis[1,1].set_yticks([])\n",
    "\n",
    "axis[2,2].hist(theta_nuts, bins=100, orientation=\"horizontal\", range=[-4, 2])\n",
    "axis[2,2].set_xticks([])\n",
    "axis[2,2].set_yticks([])\n",
    "\n",
    "axis[2,1].hist2d(x10_nuts, theta_nuts, bins=100, range=[[-6,2],[-4, 2]])\n",
    "axis[2,1].set_xlabel(\"x10\")\n",
    "axis[2,1].set_ylabel(\"theta\");"
   ]
  },
  {
   "cell_type": "code",
   "execution_count": null,
   "id": "6a5d0a38",
   "metadata": {},
   "outputs": [],
   "source": []
  }
 ],
 "metadata": {
  "kernelspec": {
   "display_name": "Julia 1.9.0",
   "language": "julia",
   "name": "julia-1.9"
  },
  "language_info": {
   "file_extension": ".jl",
   "mimetype": "application/julia",
   "name": "julia",
   "version": "1.9.0"
  }
 },
 "nbformat": 4,
 "nbformat_minor": 5
}
